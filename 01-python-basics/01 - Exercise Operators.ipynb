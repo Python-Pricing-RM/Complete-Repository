{
 "cells": [
  {
   "cell_type": "markdown",
   "metadata": {},
   "source": [
    "## Exercises: Operators\n",
    "\n",
    "1. Given two variables `cost_price = 50` and `selling_price = 70`, write a Python program to calculate the profit or loss and print whether it is a profit or a loss.\n"
   ]
  },
  {
   "cell_type": "code",
   "execution_count": 9,
   "metadata": {},
   "outputs": [
    {
     "name": "stdout",
     "output_type": "stream",
     "text": [
      "We made 20 .\n",
      "Profit: True\n",
      "Loss: False\n"
     ]
    }
   ],
   "source": [
    "cost_price = 50\n",
    "selling_price = 70\n",
    "\n",
    "outcome = selling_price - cost_price\n",
    "print(\"We made\",outcome,\".\")\n",
    "print(\"Profit:\", outcome > 0)\n",
    "print(\"Loss:\", outcome < 0)"
   ]
  },
  {
   "cell_type": "markdown",
   "metadata": {},
   "source": [
    "2. Given `price = 20` and `quantity_sold = 100`, create a Python expression that calculates the total revenue using arithmetic operators.\n"
   ]
  },
  {
   "cell_type": "code",
   "execution_count": 12,
   "metadata": {},
   "outputs": [
    {
     "name": "stdout",
     "output_type": "stream",
     "text": [
      "The revenue was 200\n"
     ]
    }
   ],
   "source": [
    "price = 200\n",
    "quantity_sold = 1\n",
    "revenue = price * quantity_sold\n",
    "\n",
    "print(\"The revenue was\", revenue)"
   ]
  },
  {
   "cell_type": "markdown",
   "metadata": {},
   "source": [
    "3. Write a Python expression to check if a given `price = 25` is within the range 20 to 30 using relational operators.\n"
   ]
  },
  {
   "cell_type": "code",
   "execution_count": 18,
   "metadata": {},
   "outputs": [
    {
     "name": "stdout",
     "output_type": "stream",
     "text": [
      "True\n",
      "The price is in the range False\n",
      "False\n"
     ]
    }
   ],
   "source": [
    "print(25 in [20,21,22,23,24,25,26,27,28,29,30])\n",
    "\n",
    "price = 50\n",
    "check = price in [20,21,22,23,24,25,26,27,28,29,30]\n",
    "print(\"The price is in the range\",check)\n",
    "\n",
    "check = price <= 30 and price >= 20\n",
    "print(check)"
   ]
  },
  {
   "cell_type": "markdown",
   "metadata": {},
   "source": [
    "4. Use the membership operator to check if the character `'A'` is present in the string `'ProductA123'`"
   ]
  },
  {
   "cell_type": "code",
   "execution_count": 24,
   "metadata": {},
   "outputs": [
    {
     "name": "stdout",
     "output_type": "stream",
     "text": [
      "False\n"
     ]
    }
   ],
   "source": [
    "letter = '1234'\n",
    "string = 'ProductA123'\n",
    "\n",
    "check = letter in string\n",
    "print(check)"
   ]
  },
  {
   "cell_type": "markdown",
   "metadata": {},
   "source": [
    "5. Combine multiple relational expressions using logical operators to determine if a product with `price = 25` and `demand = 50` is both profitable (price > 20) and in high demand (demand > 40)."
   ]
  },
  {
   "cell_type": "code",
   "execution_count": 26,
   "metadata": {},
   "outputs": [
    {
     "name": "stdout",
     "output_type": "stream",
     "text": [
      "False\n"
     ]
    }
   ],
   "source": [
    "price = 10\n",
    "demand = 50\n",
    "\n",
    "checkProfitability = price > 20\n",
    "checkPopularity = demand > 40\n",
    "\n",
    "print(checkProfitability and checkPopularity)"
   ]
  }
 ],
 "metadata": {
  "kernelspec": {
   "display_name": "Python 3",
   "language": "python",
   "name": "python3"
  },
  "language_info": {
   "codemirror_mode": {
    "name": "ipython",
    "version": 3
   },
   "file_extension": ".py",
   "mimetype": "text/x-python",
   "name": "python",
   "nbconvert_exporter": "python",
   "pygments_lexer": "ipython3",
   "version": "3.10.13"
  }
 },
 "nbformat": 4,
 "nbformat_minor": 2
}
