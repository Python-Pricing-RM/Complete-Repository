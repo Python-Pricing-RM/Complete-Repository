{
 "cells": [
  {
   "cell_type": "markdown",
   "metadata": {},
   "source": [
    "# Assignment 3 - Prescriptive Analytics with PuLP"
   ]
  },
  {
   "cell_type": "code",
   "execution_count": 1,
   "metadata": {},
   "outputs": [],
   "source": [
    "try:\n",
    "  from pulp import *\n",
    "except:\n",
    "  !pip install pulp\n",
    "  from pulp import *\n",
    "\n",
    "try:\n",
    "  from lets_plot import *\n",
    "except:\n",
    "  !pip install lets_plot\n",
    "  from lets_plot import *"
   ]
  },
  {
   "cell_type": "markdown",
   "metadata": {},
   "source": [
    "## Question 1: Snack Aisle Optimization Challenge\n",
    "\n",
    "**Scenario**: You are the snack aisle manager at a large supermarket chain, working to maximize the profitability of your limited shelf space. You have three shelves to stock with a variety of snacks, while adhering to a budget, ensuring category variety, satisfying contracts with key brands, and strategically promoting new products.\n",
    "\n",
    "**Data**: You have collected the following information about the snack products you can potentially stock:"
   ]
  },
  {
   "cell_type": "code",
   "execution_count": 2,
   "metadata": {},
   "outputs": [],
   "source": [
    "products = {\n",
    "    1:  {\"name\": \"Potato Chips Classic\", \"brand\": \"Brand A\", \"category\": \"Salty\", \"subcategory\": \"Chips\", \"profit\": 2.00, \"space\": 1.5, \"cost\": 1.20, \"new\": False},\n",
    "    2:  {\"name\": \"Potato Chips Spicy\", \"brand\": \"Brand A\", \"category\": \"Salty\", \"subcategory\": \"Chips\", \"profit\": 2.20, \"space\": 1.5, \"cost\": 1.30, \"new\": False},\n",
    "    3:  {\"name\": \"Tortilla Chips Nacho\", \"brand\": \"Brand A\",  \"category\": \"Salty\", \"subcategory\": \"Chips\", \"profit\": 1.80, \"space\": 1.3, \"cost\": 0.90, \"new\": False},\n",
    "    4:  {\"name\": \"Tortilla Chips Salsa Verde\", \"brand\": \"Brand A\",  \"category\": \"Salty\", \"subcategory\": \"Chips\", \"profit\": 1.90, \"space\": 1.3, \"cost\": 1.00, \"new\": True},\n",
    "    5:  {\"name\": \"Candy Bar Chocolate\", \"brand\": \"Brand B\", \"category\": \"Sweet\", \"subcategory\": \"Chocolate\", \"profit\": 1.50, \"space\": 1.0, \"cost\": 0.80, \"new\": False},\n",
    "    6:  {\"name\": \"Candy Bar Nuts\", \"brand\": \"Brand B\", \"category\": \"Sweet\", \"subcategory\": \"Chocolate\", \"profit\": 1.70, \"space\": 1.0, \"cost\": 0.90, \"new\": False},\n",
    "    7:  {\"name\": \"Cookies Chocolate Chip\", \"brand\": \"Brand B\", \"category\": \"Sweet\", \"subcategory\": \"Cookies\", \"profit\": 2.50, \"space\": 2.0, \"cost\": 1.50, \"new\": False},\n",
    "    8:  {\"name\": \"Cookies Oatmeal Raisin\", \"brand\": \"Brand B\", \"category\": \"Sweet\", \"subcategory\": \"Cookies\", \"profit\": 2.00, \"space\": 1.8, \"cost\": 1.20, \"new\": False},\n",
    "    9:  {\"name\": \"Fruit Snacks Assorted\", \"brand\": \"Brand C\", \"category\": \"Sweet\", \"subcategory\": \"Fruit\", \"profit\": 1.30, \"space\": 1.2, \"cost\": 0.70, \"new\": False},\n",
    "    10: {\"name\": \"Fruit Snacks Tropical\", \"brand\": \"Brand C\", \"category\": \"Sweet\", \"subcategory\": \"Fruit\", \"profit\": 1.40, \"space\": 1.2, \"cost\": 0.80, \"new\": True},\n",
    "    11: {\"name\": \"Crackers Plain\", \"brand\": \"Brand D\", \"category\": \"Salty\", \"subcategory\": \"Crackers\", \"profit\": 1.80, \"space\": 1.2, \"cost\": 1.00, \"new\": False},\n",
    "    12: {\"name\": \"Crackers Sesame\", \"brand\": \"Brand D\", \"category\": \"Salty\", \"subcategory\": \"Crackers\", \"profit\": 1.90, \"space\": 1.2, \"cost\": 1.10, \"new\": False},\n",
    "    13: {\"name\": \"Pretzels Sticks\", \"brand\": \"Brand D\", \"category\": \"Salty\", \"subcategory\": \"Pretzels\", \"profit\": 1.60, \"space\": 1.0, \"cost\": 0.90, \"new\": False},\n",
    "    14: {\"name\": \"Pretzels Minis\", \"brand\": \"Brand D\", \"category\": \"Salty\", \"subcategory\": \"Pretzels\", \"profit\": 1.70, \"space\": 1.0, \"cost\": 1.00, \"new\": False},\n",
    "    15: {\"name\": \"Nuts Mix\", \"brand\": \"Brand E\", \"category\": \"Salty\", \"subcategory\": \"Nuts\", \"profit\": 3.00, \"space\": 1.8, \"cost\": 2.00, \"new\": False},\n",
    "    16: {\"name\": \"Trail Mix Deluxe\", \"brand\": \"Brand E\", \"category\": \"Salty\", \"subcategory\": \"Nuts\", \"profit\": 2.80, \"space\": 1.6, \"cost\": 1.80, \"new\": True}\n",
    "}\n",
    "\n",
    "products2 = {\n",
    "    17:  {\"name\": \"Potato Chips Classic\", \"brand\": \"Brand A\", \"category\": \"Salty\", \"subcategory\": \"Chips\", \"profit\": 2.00, \"space\": 1.5, \"cost\": 1.20, \"new\": True},\n",
    "    21:  {\"name\": \"Potato Chips Spicy\", \"brand\": \"Brand A\", \"category\": \"Salty\", \"subcategory\": \"Chips\", \"profit\": 2.20, \"space\": 1.5, \"cost\": 1.30, \"new\": True},\n",
    "    31:  {\"name\": \"Tortilla Chips Nacho\", \"brand\": \"Brand A\",  \"category\": \"Salty\", \"subcategory\": \"Chips\", \"profit\": 1.80, \"space\": 1.3, \"cost\": 0.90, \"new\": False},\n",
    "    41:  {\"name\": \"Tortilla Chips Salsa Verde\", \"brand\": \"Brand A\",  \"category\": \"Salty\", \"subcategory\": \"Chips\", \"profit\": 1.90, \"space\": 1.3, \"cost\": 1.00, \"new\": True},\n",
    "    61:  {\"name\": \"Candy Bar Nuts\", \"brand\": \"Brand B\", \"category\": \"Sweet\", \"subcategory\": \"Chocolate\", \"profit\": 1.70, \"space\": 1.0, \"cost\": 0.90, \"new\": False},\n",
    "    81:  {\"name\": \"Cookies Oatmeal Raisin\", \"brand\": \"Brand B\", \"category\": \"Sweet\", \"subcategory\": \"Cookies\", \"profit\": 2.00, \"space\": 1.8, \"cost\": 1.20, \"new\": True},\n",
    "    91:  {\"name\": \"Fruit Snacks Assorted\", \"brand\": \"Brand C\", \"category\": \"Sweet\", \"subcategory\": \"Fruit\", \"profit\": 1.30, \"space\": 1.2, \"cost\": 0.70, \"new\": True},\n",
    "    110: {\"name\": \"Fruit Snacks Tropical\", \"brand\": \"Brand C\", \"category\": \"Sweet\", \"subcategory\": \"Fruit\", \"profit\": 1.40, \"space\": 1.2, \"cost\": 0.80, \"new\": True},\n",
    "    111: {\"name\": \"Crackers Plain\", \"brand\": \"Brand D\", \"category\": \"Salty\", \"subcategory\": \"Crackers\", \"profit\": 1.80, \"space\": 1.2, \"cost\": 1.00, \"new\": True},\n",
    "    112: {\"name\": \"Crackers Sesame\", \"brand\": \"Brand D\", \"category\": \"Salty\", \"subcategory\": \"Crackers\", \"profit\": 1.90, \"space\": 1.2, \"cost\": 1.10, \"new\": True},\n",
    "    113: {\"name\": \"Pretzels Sticks\", \"brand\": \"Brand D\", \"category\": \"Salty\", \"subcategory\": \"Pretzels\", \"profit\": 1.60, \"space\": 1.0, \"cost\": 0.90, \"new\": True},\n",
    "    114: {\"name\": \"Pretzels Minis\", \"brand\": \"Brand D\", \"category\": \"Salty\", \"subcategory\": \"Pretzels\", \"profit\": 1.70, \"space\": 1.0, \"cost\": 1.00, \"new\": True},\n",
    "    115: {\"name\": \"Nuts Mix\", \"brand\": \"Brand E\", \"category\": \"Salty\", \"subcategory\": \"Nuts\", \"profit\": 3.00, \"space\": 1.8, \"cost\": 2.00, \"new\": True},\n",
    "    116: {\"name\": \"Trail Mix Deluxe\", \"brand\": \"Brand E\", \"category\": \"Salty\", \"subcategory\": \"Nuts\", \"profit\": 2.80, \"space\": 1.6, \"cost\": 1.80, \"new\": True}\n",
    "}\n",
    "\n",
    "shelves = {\n",
    "    1: {\"shelf_capacity\": 40},  \n",
    "    2: {\"shelf_capacity\": 35},\n",
    "    3: {\"shelf_capacity\": 25}\n",
    "}\n",
    "\n",
    "brand_contracts = {\n",
    "    \"Brand A\": 20,  # Minimum shelf space required for Brand A\n",
    "    \"Brand B\": 15,\n",
    "    \"Brand C\": 10,\n",
    "    \"Brand D\": 18,\n",
    "    \"Brand E\": 12 \n",
    "}\n",
    "\n",
    "# Other parameters\n",
    "total_budget = 700"
   ]
  },
  {
   "cell_type": "markdown",
   "metadata": {},
   "source": [
    "**Business Requirements**\n",
    "\n",
    "- Shelf Capacity: Each shelf's capacity (in sq. ft.) cannot be exceeded.\n",
    "- Budget: The total cost of all products stocked must not exceed the allocated budget.\n",
    "- Category Requirements:\n",
    "    - At least 3 different \"Salty\" products across all shelves.\n",
    "    - At least 2 different \"Sweet\" products across all shelves.\n",
    "- Brand Contracts: Each brand has a minimum shelf space requirement that must be met across all shelves (see brand_contracts).\n",
    "- New Product Promotion: Display at least 2 different \"new\" products across all shelves.\n",
    "- Product Compatibility: Cookies Chocolate Chip (ID 7) and Candy Bar Chocolate (ID 5) can never be on the same shelf!\n"
   ]
  },
  {
   "cell_type": "markdown",
   "metadata": {},
   "source": [
    "**Tasks**\n",
    "\n",
    "* Model Definition: Define decision variables to represent how many units of each product are placed on each shelf, formulate the objective function and express the business requirements mathematically as constraints.\n",
    "* Solve the Model: Implement your model in Python using the PuLP library and solve it to find the optimal product placement and quantities.\n",
    "* Analyze the Solution:\n",
    "    - Sensitivity Analysis - Shelf Space:\n",
    "        - Decrease shelf capacity uniformly (i.e. - some percentage value across shelves) analyze the effect of this capacity change on revenue.\n",
    "        - Re-solve the model for each new capacity value and record the optimal profit.\n",
    "        - Plot profit against shelf capacity. Analyze how sensitive the solution is to changes in the shelf capacity.\n",
    "* Sensitivity Analysis - New Product Requirement:\n",
    "    - Systematically change the number of new products required and observe the impact on the total profit.\n",
    "    - Create a plot to visualize your findings and interpret the sensitivity of the solution to this requirement."
   ]
  },
  {
   "cell_type": "code",
   "execution_count": 3,
   "metadata": {},
   "outputs": [
    {
     "data": {
      "text/plain": [
       "1"
      ]
     },
     "execution_count": 3,
     "metadata": {},
     "output_type": "execute_result"
    }
   ],
   "source": [
    "model = LpProblem(\"category-managemnet\", LpMaximize)\n",
    "\n",
    "amounts = {}\n",
    "shelfAssignment = {}\n",
    "\n",
    "for p in products:\n",
    "    shelfAssignment[p] = LpVariable.dict(products[p]['name'], shelves, cat=\"Binary\")\n",
    "    amounts[p] = LpVariable.dict(products[p]['name']+\"_amount\", shelves, 0, cat=\"Integer\")\n",
    "\n",
    "model += lpSum(amounts[p][s] * products[p]['profit'] for s in shelves for p in products)\n",
    "\n",
    "model += lpSum(amounts[p][s] * products[p]['cost'] for s in shelves for p in products) <= total_budget,\"budget\"\n",
    "\n",
    "M = 10000\n",
    "\n",
    "for p in products:\n",
    "    model += lpSum(shelfAssignment[p][i] for i in shelves) <= 1, \"only-one-shelf-\" + products[p]['name']\n",
    "    for s in shelves:\n",
    "        model += amounts[p][s] <= M * shelfAssignment[p][s], \"0-if-no-shelf-\" + products[p]['name'] + \"shelf\"+str(s)\n",
    "        model += shelfAssignment[p][s] <= amounts[p][s], \"0-if-no-amount-\" + products[p]['name'] + \"shelf\"+str(s)\n",
    "\n",
    "for s in shelves:\n",
    "    model += lpSum(amounts[p][s] * products[p]['space'] for p in products) <= shelves[s]['shelf_capacity'], \"shelf-size-\" + str(s)\n",
    "\n",
    "model += lpSum(shelfAssignment[p][i] for i in shelves for p in products if products[p]['category'] == \"Salty\") >= 3, \"atLeast3Salty\"\n",
    "model += lpSum(shelfAssignment[p][i] for i in shelves for p in products if products[p]['category'] == \"Sweet\") >= 2, \"atLeast2Fruity\"\n",
    "\n",
    "for b in brand_contracts:\n",
    "    model += lpSum(amounts[p][i] * products[p]['space'] for i in shelves for p in products if products[p]['brand'] == b) >= brand_contracts[b], \"brand_\"+b+\"_contract\"\n",
    "\n",
    "model += lpSum(shelfAssignment[p][i] for i in shelves for p in products if products[p]['new']) >= 2, \"new_items\"\n",
    "\n",
    "for s in shelves:\n",
    "    model += shelfAssignment[5][s] + shelfAssignment[7][s] <= 1, \"no-chocolate-competition-shelf-\"+str(s)\n",
    "\n",
    "model.solve(PULP_CBC_CMD(msg=0))"
   ]
  },
  {
   "cell_type": "code",
   "execution_count": 4,
   "metadata": {},
   "outputs": [
    {
     "name": "stdout",
     "output_type": "stream",
     "text": [
      "160.89999999999998\n"
     ]
    }
   ],
   "source": [
    "import pandas as pd\n",
    "\n",
    "if model.status == 1:\n",
    "    print(model.objective.value())\n",
    "    shelveData = []\n",
    "    baseshelves = []\n",
    "    for s in shelves:\n",
    "        baseshelves.append({'shelf' : 'shelf_'+str(s), 'size' : shelves[s]['shelf_capacity']})\n",
    "        for p in products:\n",
    "            if amounts[p][s].varValue >= 0.6:\n",
    "                shelveData.append({'product': products[p]['name'],'amount' : products[p]['space']*amounts[p][s].varValue, 'shelf' : 'shelf_'+str(s) })\n",
    "    shelveData = pd.DataFrame(shelveData)\n",
    "    baseshelves = pd.DataFrame(baseshelves)"
   ]
  },
  {
   "cell_type": "markdown",
   "metadata": {},
   "source": [
    "Shelf Layout"
   ]
  },
  {
   "cell_type": "code",
   "execution_count": 5,
   "metadata": {},
   "outputs": [
    {
     "data": {
      "text/html": [
       "\n",
       "            <div id=\"2d2hWL\"></div>\n",
       "            <script type=\"text/javascript\" data-lets-plot-script=\"library\">\n",
       "                if(!window.letsPlotCallQueue) {\n",
       "                    window.letsPlotCallQueue = [];\n",
       "                }; \n",
       "                window.letsPlotCall = function(f) {\n",
       "                    window.letsPlotCallQueue.push(f);\n",
       "                };\n",
       "                (function() {\n",
       "                    var script = document.createElement(\"script\");\n",
       "                    script.type = \"text/javascript\";\n",
       "                    script.src = \"https://cdn.jsdelivr.net/gh/JetBrains/lets-plot@v4.4.0/js-package/distr/lets-plot.min.js\";\n",
       "                    script.onload = function() {\n",
       "                        window.letsPlotCall = function(f) {f();};\n",
       "                        window.letsPlotCallQueue.forEach(function(f) {f();});\n",
       "                        window.letsPlotCallQueue = [];\n",
       "                        \n",
       "                    };\n",
       "                    script.onerror = function(event) {\n",
       "                        window.letsPlotCall = function(f) {};    // noop\n",
       "                        window.letsPlotCallQueue = [];\n",
       "                        var div = document.createElement(\"div\");\n",
       "                        div.style.color = 'darkred';\n",
       "                        div.textContent = 'Error loading Lets-Plot JS';\n",
       "                        document.getElementById(\"2d2hWL\").appendChild(div);\n",
       "                    };\n",
       "                    var e = document.getElementById(\"2d2hWL\");\n",
       "                    e.appendChild(script);\n",
       "                })()\n",
       "            </script>\n",
       "            "
      ]
     },
     "metadata": {},
     "output_type": "display_data"
    },
    {
     "data": {
      "text/html": [
       "   <div id=\"CYwJuP\"></div>\n",
       "   <script type=\"text/javascript\" data-lets-plot-script=\"plot\">\n",
       "       (function() {\n",
       "           var plotSpec={\n",
       "\"data\":{\n",
       "\"product\":[\"Fruit Snacks Assorted\",\"Trail Mix Deluxe\",\"Potato Chips Spicy\",\"Tortilla Chips Salsa Verde\",\"Candy Bar Nuts\",\"Fruit Snacks Tropical\",\"Pretzels Minis\"],\n",
       "\"amount\":[4.8,35.2,13.5,6.5,15.0,6.0,19.0],\n",
       "\"shelf\":[\"shelf_1\",\"shelf_1\",\"shelf_2\",\"shelf_2\",\"shelf_2\",\"shelf_3\",\"shelf_3\"]\n",
       "},\n",
       "\"mapping\":{\n",
       "},\n",
       "\"data_meta\":{\n",
       "\"series_annotations\":[{\n",
       "\"type\":\"str\",\n",
       "\"column\":\"product\"\n",
       "},{\n",
       "\"type\":\"float\",\n",
       "\"column\":\"amount\"\n",
       "},{\n",
       "\"type\":\"str\",\n",
       "\"column\":\"shelf\"\n",
       "}]\n",
       "},\n",
       "\"coord\":{\n",
       "\"name\":\"flip\",\n",
       "\"flip\":true\n",
       "},\n",
       "\"kind\":\"plot\",\n",
       "\"scales\":[],\n",
       "\"layers\":[{\n",
       "\"geom\":\"bar\",\n",
       "\"stat\":\"identity\",\n",
       "\"data\":{\n",
       "\"shelf\":[\"shelf_1\",\"shelf_2\",\"shelf_3\"],\n",
       "\"size\":[40.0,35.0,25.0]\n",
       "},\n",
       "\"mapping\":{\n",
       "\"x\":\"shelf\",\n",
       "\"y\":\"size\"\n",
       "},\n",
       "\"data_meta\":{\n",
       "\"series_annotations\":[{\n",
       "\"type\":\"str\",\n",
       "\"column\":\"shelf\"\n",
       "},{\n",
       "\"type\":\"int\",\n",
       "\"column\":\"size\"\n",
       "}]\n",
       "},\n",
       "\"fill\":\"gray\"\n",
       "},{\n",
       "\"geom\":\"bar\",\n",
       "\"stat\":\"identity\",\n",
       "\"mapping\":{\n",
       "\"x\":\"shelf\",\n",
       "\"y\":\"amount\",\n",
       "\"fill\":\"product\"\n",
       "},\n",
       "\"data_meta\":{\n",
       "},\n",
       "\"alpha\":0.5,\n",
       "\"data\":{\n",
       "}\n",
       "}],\n",
       "\"metainfo_list\":[]\n",
       "};\n",
       "           var plotContainer = document.getElementById(\"CYwJuP\");\n",
       "           window.letsPlotCall(function() {{\n",
       "               LetsPlot.buildPlotFromProcessedSpecs(plotSpec, -1, -1, plotContainer);\n",
       "           }});\n",
       "       })();\n",
       "   </script>"
      ],
      "text/plain": [
       "<lets_plot.plot.core.PlotSpec at 0x703a71e0b340>"
      ]
     },
     "execution_count": 5,
     "metadata": {},
     "output_type": "execute_result"
    }
   ],
   "source": [
    "LetsPlot.setup_html()\n",
    "ggplot(shelveData) + geom_bar(aes(x='shelf', y='size'), data=baseshelves, stat='identity', fill='gray') + geom_bar(aes(x='shelf', y='amount', fill='product'), stat='identity', alpha=0.5) + coord_flip()"
   ]
  },
  {
   "cell_type": "markdown",
   "metadata": {},
   "source": [
    "## Sensitivity Analysis 1"
   ]
  },
  {
   "cell_type": "code",
   "execution_count": 6,
   "metadata": {},
   "outputs": [
    {
     "name": "stdout",
     "output_type": "stream",
     "text": [
      "[15.0, 12.75, 10.84, 9.21, 7.83, 6.66, 5.66, 4.81, 4.09, 3.47, 2.95, 2.51, 2.13, 1.81, 1.54, 1.31, 1.11, 0.95, 0.8, 0.68, 0.58, 0.49]\n"
     ]
    }
   ],
   "source": [
    "start_value = 15  # starting value\n",
    "decrement = 0.85   # decrement value\n",
    "\n",
    "# Create the list using a list comprehension\n",
    "values = [round(start_value * decrement**i,2) for i in range(22)]\n",
    "print(values)\n",
    "data = []\n",
    "shelveData = []"
   ]
  },
  {
   "cell_type": "code",
   "execution_count": 7,
   "metadata": {},
   "outputs": [],
   "source": [
    "model = LpProblem(\"category-managemnet\", LpMaximize)\n",
    "\n",
    "amounts = {}\n",
    "shelfAssignment = {}\n",
    "\n",
    "for p in products:\n",
    "    shelfAssignment[p] = LpVariable.dict(products[p]['name'], shelves, cat=\"Binary\")\n",
    "    amounts[p] = LpVariable.dict(products[p]['name']+\"_amount\", shelves, 0)\n",
    "\n",
    "model += lpSum(amounts[p][s] * products[p]['profit'] for s in shelves for p in products)\n",
    "\n",
    "model += lpSum(amounts[p][s] * products[p]['cost'] for s in shelves for p in products) <= total_budget,\"budget\"\n",
    "\n",
    "M = 100\n",
    "\n",
    "for p in products:\n",
    "    model += lpSum(shelfAssignment[p][i] for i in shelves) <= 1, \"only-one-shelf-\" + products[p]['name']\n",
    "    for s in shelves:\n",
    "        model += amounts[p][s] <= M * shelfAssignment[p][s], \"0-if-no-shelf-\" + products[p]['name'] + \"shelf\"+str(s)\n",
    "        model += shelfAssignment[p][s] <= amounts[p][s], \"0-if-no-amount-\" + products[p]['name'] + \"shelf\"+str(s)\n",
    "\n",
    "#for s in shelves:\n",
    "#    model += lpSum(amounts[p][s] * products[p]['space'] for p in products) <= shelves[s]['shelf_capacity'], \"shelf-size-\" + str(s)\n",
    "\n",
    "model += lpSum(shelfAssignment[p][i] for i in shelves for p in products if products[p]['category'] == \"Salty\") >= 3, \"atLeast3Salty\"\n",
    "model += lpSum(shelfAssignment[p][i] for i in shelves for p in products if products[p]['category'] == \"Sweet\") >= 2, \"atLeast2Fruity\"\n",
    "\n",
    "for b in brand_contracts:\n",
    "    model += lpSum(amounts[p][i] * products[p]['space'] for i in shelves for p in products if products[p]['brand'] == b) >= brand_contracts[b], \"brand_\"+b+\"_contract\"\n",
    "\n",
    "model += lpSum(shelfAssignment[p][i] for i in shelves for p in products if products[p]['new']) >= 2, \"new_items\"\n",
    "\n",
    "for s in shelves:\n",
    "    model += shelfAssignment[5][s] + shelfAssignment[7][s] <= 1, \"no-chocolate-competition-shelf-\"+str(s)\n",
    "\n",
    "for modifier in values:\n",
    "    for s in shelves:\n",
    "        model += lpSum(amounts[p][s] * products[p]['space'] for p in products) <= shelves[s]['shelf_capacity'] * modifier\n",
    "    model.solve(PULP_CBC_CMD(msg=0))\n",
    "    if model.status == -1:\n",
    "        break\n",
    "    else:\n",
    "        data.append({\"modifier\" : modifier, \"profit\" : model.objective.value(), \"status\" : model.status})\n",
    "        \n",
    "    for s in shelves:\n",
    "        for p in products:\n",
    "            if amounts[p][s].varValue >= 0.6:\n",
    "                shelveData.append({'modifier' : modifier, 'product': products[p]['name'],'amount' : products[p]['space']*amounts[p][s].varValue})\n"
   ]
  },
  {
   "cell_type": "code",
   "execution_count": 8,
   "metadata": {},
   "outputs": [
    {
     "data": {
      "text/html": [
       "   <div id=\"5Yjoju\"></div>\n",
       "   <script type=\"text/javascript\" data-lets-plot-script=\"plot\">\n",
       "       (function() {\n",
       "           var plotSpec={\n",
       "\"data\":{\n",
       "\"modifier\":[15.0,12.75,10.84,9.21,7.83,6.66,5.66,4.81,4.09,3.47,2.95,2.51,2.13,1.81,1.54,1.31,1.11,0.95,0.8],\n",
       "\"profit\":[1297.375,1297.375,1297.375,1297.375,1244.1335114199999,1114.4066666200001,952.0148707399999,812.57717847,692.49820454,586.83999922,497.39999922,421.71999922,356.35999921999996,301.31999922,254.87999922,215.31999922,180.91999922000002,153.05544873,126.84999922]\n",
       "},\n",
       "\"mapping\":{\n",
       "},\n",
       "\"data_meta\":{\n",
       "\"series_annotations\":[{\n",
       "\"type\":\"float\",\n",
       "\"column\":\"modifier\"\n",
       "},{\n",
       "\"type\":\"float\",\n",
       "\"column\":\"profit\"\n",
       "},{\n",
       "\"type\":\"int\",\n",
       "\"column\":\"status\"\n",
       "}]\n",
       "},\n",
       "\"kind\":\"plot\",\n",
       "\"scales\":[],\n",
       "\"layers\":[{\n",
       "\"geom\":\"line\",\n",
       "\"mapping\":{\n",
       "\"x\":\"modifier\",\n",
       "\"y\":\"profit\"\n",
       "},\n",
       "\"data_meta\":{\n",
       "},\n",
       "\"data\":{\n",
       "}\n",
       "}],\n",
       "\"metainfo_list\":[]\n",
       "};\n",
       "           var plotContainer = document.getElementById(\"5Yjoju\");\n",
       "           window.letsPlotCall(function() {{\n",
       "               LetsPlot.buildPlotFromProcessedSpecs(plotSpec, -1, -1, plotContainer);\n",
       "           }});\n",
       "       })();\n",
       "   </script>"
      ],
      "text/plain": [
       "<lets_plot.plot.core.PlotSpec at 0x703a71e1bac0>"
      ]
     },
     "execution_count": 8,
     "metadata": {},
     "output_type": "execute_result"
    }
   ],
   "source": [
    "data = pd.DataFrame(data)\n",
    "ggplot(data) + geom_line(aes(x=\"modifier\", y=\"profit\"))"
   ]
  },
  {
   "cell_type": "code",
   "execution_count": 9,
   "metadata": {},
   "outputs": [],
   "source": [
    "shelveData = pd.DataFrame(shelveData)\n",
    "shelveData['modifier'] = shelveData['modifier'].astype(\"string\")"
   ]
  },
  {
   "cell_type": "code",
   "execution_count": 10,
   "metadata": {},
   "outputs": [
    {
     "data": {
      "text/html": [
       "   <div id=\"rdcE83\"></div>\n",
       "   <script type=\"text/javascript\" data-lets-plot-script=\"plot\">\n",
       "       (function() {\n",
       "           var plotSpec={\n",
       "\"data\":{\n",
       "\"modifier\":[\"15.0\",\"15.0\",\"15.0\",\"15.0\",\"15.0\",\"15.0\",\"15.0\",\"15.0\",\"15.0\",\"12.75\",\"12.75\",\"12.75\",\"12.75\",\"12.75\",\"12.75\",\"12.75\",\"12.75\",\"12.75\",\"10.84\",\"10.84\",\"10.84\",\"10.84\",\"10.84\",\"10.84\",\"10.84\",\"10.84\",\"10.84\",\"9.21\",\"9.21\",\"9.21\",\"9.21\",\"9.21\",\"9.21\",\"9.21\",\"9.21\",\"9.21\",\"7.83\",\"7.83\",\"7.83\",\"7.83\",\"7.83\",\"7.83\",\"7.83\",\"7.83\",\"7.83\",\"7.83\",\"6.66\",\"6.66\",\"6.66\",\"6.66\",\"6.66\",\"6.66\",\"6.66\",\"6.66\",\"6.66\",\"5.66\",\"5.66\",\"5.66\",\"5.66\",\"5.66\",\"5.66\",\"5.66\",\"5.66\",\"4.81\",\"4.81\",\"4.81\",\"4.81\",\"4.81\",\"4.81\",\"4.81\",\"4.09\",\"4.09\",\"4.09\",\"4.09\",\"4.09\",\"4.09\",\"4.09\",\"4.09\",\"3.47\",\"3.47\",\"3.47\",\"3.47\",\"3.47\",\"2.95\",\"2.95\",\"2.95\",\"2.95\",\"2.95\",\"2.51\",\"2.51\",\"2.51\",\"2.51\",\"2.51\",\"2.13\",\"2.13\",\"2.13\",\"2.13\",\"2.13\",\"1.81\",\"1.81\",\"1.81\",\"1.81\",\"1.81\",\"1.54\",\"1.54\",\"1.54\",\"1.54\",\"1.54\",\"1.31\",\"1.31\",\"1.31\",\"1.31\",\"1.31\",\"1.11\",\"1.11\",\"1.11\",\"1.11\",\"1.11\",\"0.95\",\"0.95\",\"0.95\",\"0.95\",\"0.95\",\"0.95\",\"0.8\",\"0.8\",\"0.8\",\"0.8\",\"0.8\"],\n",
       "\"product\":[\"Tortilla Chips Salsa Verde\",\"Fruit Snacks Assorted\",\"Crackers Plain\",\"Pretzels Sticks\",\"Candy Bar Chocolate\",\"Fruit Snacks Tropical\",\"Trail Mix Deluxe\",\"Tortilla Chips Nacho\",\"Candy Bar Nuts\",\"Tortilla Chips Salsa Verde\",\"Candy Bar Nuts\",\"Crackers Plain\",\"Pretzels Sticks\",\"Candy Bar Chocolate\",\"Fruit Snacks Tropical\",\"Trail Mix Deluxe\",\"Tortilla Chips Nacho\",\"Fruit Snacks Assorted\",\"Candy Bar Nuts\",\"Crackers Plain\",\"Pretzels Sticks\",\"Tortilla Chips Nacho\",\"Candy Bar Chocolate\",\"Fruit Snacks Tropical\",\"Trail Mix Deluxe\",\"Tortilla Chips Salsa Verde\",\"Fruit Snacks Assorted\",\"Tortilla Chips Salsa Verde\",\"Candy Bar Chocolate\",\"Crackers Plain\",\"Trail Mix Deluxe\",\"Fruit Snacks Assorted\",\"Fruit Snacks Tropical\",\"Pretzels Sticks\",\"Tortilla Chips Nacho\",\"Candy Bar Nuts\",\"Candy Bar Chocolate\",\"Crackers Plain\",\"Pretzels Sticks\",\"Pretzels Minis\",\"Tortilla Chips Nacho\",\"Tortilla Chips Salsa Verde\",\"Crackers Sesame\",\"Candy Bar Nuts\",\"Fruit Snacks Tropical\",\"Trail Mix Deluxe\",\"Pretzels Sticks\",\"Nuts Mix\",\"Potato Chips Spicy\",\"Candy Bar Nuts\",\"Fruit Snacks Tropical\",\"Crackers Sesame\",\"Pretzels Minis\",\"Tortilla Chips Salsa Verde\",\"Trail Mix Deluxe\",\"Potato Chips Spicy\",\"Candy Bar Nuts\",\"Fruit Snacks Tropical\",\"Pretzels Minis\",\"Tortilla Chips Salsa Verde\",\"Pretzels Sticks\",\"Trail Mix Deluxe\",\"Nuts Mix\",\"Candy Bar Nuts\",\"Nuts Mix\",\"Tortilla Chips Salsa Verde\",\"Trail Mix Deluxe\",\"Potato Chips Spicy\",\"Fruit Snacks Tropical\",\"Pretzels Minis\",\"Tortilla Chips Salsa Verde\",\"Trail Mix Deluxe\",\"Potato Chips Spicy\",\"Fruit Snacks Tropical\",\"Pretzels Minis\",\"Nuts Mix\",\"Candy Bar Nuts\",\"Pretzels Sticks\",\"Trail Mix Deluxe\",\"Potato Chips Spicy\",\"Candy Bar Nuts\",\"Fruit Snacks Tropical\",\"Pretzels Minis\",\"Trail Mix Deluxe\",\"Candy Bar Nuts\",\"Fruit Snacks Tropical\",\"Potato Chips Spicy\",\"Pretzels Minis\",\"Trail Mix Deluxe\",\"Candy Bar Nuts\",\"Potato Chips Spicy\",\"Fruit Snacks Tropical\",\"Pretzels Minis\",\"Trail Mix Deluxe\",\"Pretzels Minis\",\"Potato Chips Spicy\",\"Candy Bar Nuts\",\"Fruit Snacks Tropical\",\"Trail Mix Deluxe\",\"Pretzels Minis\",\"Potato Chips Spicy\",\"Candy Bar Nuts\",\"Fruit Snacks Tropical\",\"Trail Mix Deluxe\",\"Fruit Snacks Tropical\",\"Pretzels Minis\",\"Potato Chips Spicy\",\"Candy Bar Nuts\",\"Trail Mix Deluxe\",\"Potato Chips Spicy\",\"Pretzels Minis\",\"Candy Bar Nuts\",\"Fruit Snacks Tropical\",\"Trail Mix Deluxe\",\"Potato Chips Spicy\",\"Pretzels Minis\",\"Candy Bar Nuts\",\"Fruit Snacks Tropical\",\"Tortilla Chips Salsa Verde\",\"Trail Mix Deluxe\",\"Candy Bar Nuts\",\"Pretzels Minis\",\"Potato Chips Spicy\",\"Fruit Snacks Tropical\",\"Candy Bar Nuts\",\"Trail Mix Deluxe\",\"Fruit Snacks Tropical\",\"Pretzels Minis\",\"Potato Chips Spicy\"],\n",
       "\"amount\":[130.0,120.0,120.0,100.0,100.0,99.75,12.0,130.0,100.0,130.0,100.0,120.0,100.0,100.0,99.75,12.0,130.0,120.0,100.0,120.0,100.0,130.0,100.0,99.75,12.0,130.0,120.0,130.0,100.0,120.0,12.0,120.0,99.75,100.0,130.0,100.0,100.0,13.2,100.0,100.0,27.5507141,130.0,116.49928560000001,100.0,9.999999959999998,85.75,86.4,180.0,13.5,100.0,9.999999959999998,9.6,100.0,6.5,160.0,16.3999995,100.0,9.999999959999998,100.0,3.60000004,34.5,160.0,141.49999979999998,100.0,92.39999940000001,8.34999997,160.0,11.65000005,9.999999959999998,98.6,3.60000004,160.0,16.3999995,9.999999959999998,100.0,16.75000008,100.0,2.25,138.8,19.9999995,91.45,9.999999959999998,86.75,118.0,93.25,9.999999959999998,19.9999995,53.75,100.4,87.85,19.9999995,9.999999959999998,32.75,85.2,74.55,19.9999995,23.25,9.999999959999998,72.4,63.35,19.9999995,15.25,9.999999959999998,61.6,9.999999959999998,43.9,19.9999995,18.5,52.400000000000006,19.9999995,25.85,22.75,9.999999959999998,44.400000000000006,19.9999995,18.85,17.75,9.999999959999998,6.249999990000001,31.75,15.25,18.0,13.75000005,9.999999959999998,15.0,17.0,9.999999959999998,18.0,19.9999995]\n",
       "},\n",
       "\"mapping\":{\n",
       "},\n",
       "\"data_meta\":{\n",
       "\"series_annotations\":[{\n",
       "\"type\":\"str\",\n",
       "\"column\":\"modifier\"\n",
       "},{\n",
       "\"type\":\"str\",\n",
       "\"column\":\"product\"\n",
       "},{\n",
       "\"type\":\"float\",\n",
       "\"column\":\"amount\"\n",
       "}]\n",
       "},\n",
       "\"coord\":{\n",
       "\"name\":\"flip\",\n",
       "\"flip\":true\n",
       "},\n",
       "\"kind\":\"plot\",\n",
       "\"scales\":[],\n",
       "\"layers\":[{\n",
       "\"geom\":\"bar\",\n",
       "\"stat\":\"identity\",\n",
       "\"mapping\":{\n",
       "\"x\":\"modifier\",\n",
       "\"y\":\"amount\",\n",
       "\"fill\":\"product\"\n",
       "},\n",
       "\"data_meta\":{\n",
       "},\n",
       "\"data\":{\n",
       "}\n",
       "}],\n",
       "\"metainfo_list\":[]\n",
       "};\n",
       "           var plotContainer = document.getElementById(\"rdcE83\");\n",
       "           window.letsPlotCall(function() {{\n",
       "               LetsPlot.buildPlotFromProcessedSpecs(plotSpec, -1, -1, plotContainer);\n",
       "           }});\n",
       "       })();\n",
       "   </script>"
      ],
      "text/plain": [
       "<lets_plot.plot.core.PlotSpec at 0x703a71e1aa40>"
      ]
     },
     "execution_count": 10,
     "metadata": {},
     "output_type": "execute_result"
    }
   ],
   "source": [
    "ggplot(shelveData) + geom_bar(aes(x='modifier', y='amount',fill='product'), stat='identity') + coord_flip()"
   ]
  },
  {
   "cell_type": "markdown",
   "metadata": {},
   "source": [
    "## Sensitivity Analysis 2"
   ]
  },
  {
   "cell_type": "markdown",
   "metadata": {},
   "source": [
    "create some extra data to make this interesting"
   ]
  },
  {
   "cell_type": "code",
   "execution_count": 11,
   "metadata": {},
   "outputs": [],
   "source": [
    "for p in products2:\n",
    "    products2[p]['profit'] = 0.5 * products2[p]['profit']\n",
    "    products2[p]['new'] = True\n",
    "    products2[p]['name'] = 'new'+products2[p]['name']\n",
    "    products[p] = products2[p]"
   ]
  },
  {
   "cell_type": "code",
   "execution_count": 12,
   "metadata": {},
   "outputs": [],
   "source": [
    "model = LpProblem(\"category-managemnet\", LpMaximize)\n",
    "\n",
    "amounts = {}\n",
    "shelfAssignment = {}\n",
    "\n",
    "for p in products:\n",
    "    shelfAssignment[p] = LpVariable.dict(products[p]['name'], shelves, cat=\"Binary\")\n",
    "    amounts[p] = LpVariable.dict(products[p]['name']+\"_amount\", shelves, 0)#, cat=\"Integer\")\n",
    "\n",
    "model += lpSum(amounts[p][s] * products[p]['profit'] for s in shelves for p in products)\n",
    "\n",
    "model += lpSum(amounts[p][s] * products[p]['cost'] for s in shelves for p in products) <= total_budget,\"budget\"\n",
    "\n",
    "M = 10000\n",
    "\n",
    "for p in products:\n",
    "    model += lpSum(shelfAssignment[p][i] for i in shelves) <= 1, \"only-one-shelf-\" + products[p]['name']\n",
    "    for s in shelves:\n",
    "        model += amounts[p][s] <= M * shelfAssignment[p][s], \"0-if-no-shelf-\" + products[p]['name'] + \"shelf\"+str(s)\n",
    "        model += shelfAssignment[p][s] <= amounts[p][s], \"0-if-no-amount-\" + products[p]['name'] + \"shelf\"+str(s)\n",
    "\n",
    "for s in shelves:\n",
    "    model += lpSum(amounts[p][s] * products[p]['space'] for p in products) <= shelves[s]['shelf_capacity'], \"shelf-size-\" + str(s)\n",
    "\n",
    "model += lpSum(shelfAssignment[p][i] for i in shelves for p in products if products[p]['category'] == \"Salty\") >= 3, \"atLeast3Salty\"\n",
    "model += lpSum(shelfAssignment[p][i] for i in shelves for p in products if products[p]['category'] == \"Sweet\") >= 2, \"atLeast2Fruity\"\n",
    "\n",
    "for b in brand_contracts:\n",
    "    model += lpSum(amounts[p][i] * products[p]['space'] for i in shelves for p in products if products[p]['brand'] == b) >= brand_contracts[b], \"brand_\"+b+\"_contract\"\n",
    "\n",
    "\n",
    "for s in shelves:\n",
    "    model += shelfAssignment[5][s] + shelfAssignment[7][s] <= 1, \"no-chocolate-competition-shelf-\"+str(s)\n",
    "\n",
    "shelveData = []\n",
    "data = []\n",
    "for newProductsRequired in range(25):\n",
    "    model += lpSum(shelfAssignment[p][i] for i in shelves for p in products if products[p]['new']) >= newProductsRequired, \"new_items\" + str(newProductsRequired)\n",
    "    model.solve(PULP_CBC_CMD(msg=0))\n",
    "    if model.status == -1:\n",
    "        break\n",
    "    else:\n",
    "        data.append({\"newreq\" : newProductsRequired, \"profit\" : model.objective.value()})\n",
    "        for s in shelves:\n",
    "            for p in products:\n",
    "                if amounts[p][s].varValue >= 0.6:\n",
    "                    shelveData.append({'newreq' : newProductsRequired, 'product': products[p]['name'],'amount' : products[p]['space']*amounts[p][s].varValue})\n"
   ]
  },
  {
   "cell_type": "code",
   "execution_count": 13,
   "metadata": {},
   "outputs": [
    {
     "data": {
      "text/html": [
       "   <div id=\"XXL7gf\"></div>\n",
       "   <script type=\"text/javascript\" data-lets-plot-script=\"plot\">\n",
       "       (function() {\n",
       "           var plotSpec={\n",
       "\"data\":{\n",
       "\"newreq\":[0.0,1.0,2.0,3.0,4.0,5.0,6.0,7.0,8.0,9.0,10.0,11.0,12.0,13.0,14.0,15.0,16.0,17.0],\n",
       "\"profit\":[161.83461459,161.83461459,161.83461459,161.83461459,161.13461458999998,160.38461458999998,159.53974347,158.68974347,157.79282050999998,156.83666662,155.82999922,154.73999922,153.63999988,152.49999988,151.29999987999997,149.89999988,148.24999988,146.18999988]\n",
       "},\n",
       "\"mapping\":{\n",
       "},\n",
       "\"data_meta\":{\n",
       "\"series_annotations\":[{\n",
       "\"type\":\"int\",\n",
       "\"column\":\"newreq\"\n",
       "},{\n",
       "\"type\":\"float\",\n",
       "\"column\":\"profit\"\n",
       "}]\n",
       "},\n",
       "\"kind\":\"plot\",\n",
       "\"scales\":[],\n",
       "\"layers\":[{\n",
       "\"geom\":\"line\",\n",
       "\"mapping\":{\n",
       "\"x\":\"newreq\",\n",
       "\"y\":\"profit\"\n",
       "},\n",
       "\"data_meta\":{\n",
       "},\n",
       "\"data\":{\n",
       "}\n",
       "}],\n",
       "\"metainfo_list\":[]\n",
       "};\n",
       "           var plotContainer = document.getElementById(\"XXL7gf\");\n",
       "           window.letsPlotCall(function() {{\n",
       "               LetsPlot.buildPlotFromProcessedSpecs(plotSpec, -1, -1, plotContainer);\n",
       "           }});\n",
       "       })();\n",
       "   </script>"
      ],
      "text/plain": [
       "<lets_plot.plot.core.PlotSpec at 0x703aa83fc3a0>"
      ]
     },
     "execution_count": 13,
     "metadata": {},
     "output_type": "execute_result"
    }
   ],
   "source": [
    "\n",
    "data = pd.DataFrame(data)\n",
    "\n",
    "shelveData = pd.DataFrame(shelveData)\n",
    "shelveData['newreq'] = shelveData['newreq'].astype(\"string\")\n",
    "\n",
    "ggplot(data) + geom_line(aes(x=\"newreq\", y=\"profit\"))"
   ]
  },
  {
   "cell_type": "code",
   "execution_count": 14,
   "metadata": {},
   "outputs": [
    {
     "data": {
      "text/html": [
       "   <div id=\"JT0JNC\"></div>\n",
       "   <script type=\"text/javascript\" data-lets-plot-script=\"plot\">\n",
       "       (function() {\n",
       "           var plotSpec={\n",
       "\"data\":{\n",
       "\"newreq\":[\"0\",\"0\",\"0\",\"0\",\"0\",\"0\",\"1\",\"1\",\"1\",\"1\",\"1\",\"1\",\"2\",\"2\",\"2\",\"2\",\"2\",\"2\",\"3\",\"3\",\"3\",\"3\",\"3\",\"3\",\"4\",\"4\",\"4\",\"4\",\"4\",\"4\",\"4\",\"5\",\"5\",\"5\",\"5\",\"5\",\"5\",\"5\",\"5\",\"6\",\"6\",\"6\",\"6\",\"6\",\"6\",\"6\",\"6\",\"6\",\"7\",\"7\",\"7\",\"7\",\"7\",\"7\",\"7\",\"7\",\"7\",\"7\",\"8\",\"8\",\"8\",\"8\",\"8\",\"8\",\"8\",\"8\",\"8\",\"8\",\"8\",\"9\",\"9\",\"9\",\"9\",\"9\",\"9\",\"9\",\"9\",\"9\",\"9\",\"9\",\"9\",\"10\",\"10\",\"10\",\"10\",\"10\",\"10\",\"10\",\"10\",\"10\",\"10\",\"10\",\"10\",\"10\",\"11\",\"11\",\"11\",\"11\",\"11\",\"11\",\"11\",\"11\",\"11\",\"11\",\"11\",\"11\",\"11\",\"11\",\"12\",\"12\",\"12\",\"12\",\"12\",\"12\",\"12\",\"12\",\"12\",\"12\",\"12\",\"12\",\"12\",\"12\",\"12\",\"13\",\"13\",\"13\",\"13\",\"13\",\"13\",\"13\",\"13\",\"13\",\"13\",\"13\",\"13\",\"13\",\"13\",\"13\",\"13\",\"14\",\"14\",\"14\",\"14\",\"14\",\"14\",\"14\",\"14\",\"14\",\"14\",\"14\",\"14\",\"14\",\"14\",\"14\",\"14\",\"14\",\"15\",\"15\",\"15\",\"15\",\"15\",\"15\",\"15\",\"15\",\"15\",\"15\",\"15\",\"15\",\"15\",\"15\",\"15\",\"15\",\"15\",\"15\",\"16\",\"16\",\"16\",\"16\",\"16\",\"16\",\"16\",\"16\",\"16\",\"16\",\"16\",\"16\",\"16\",\"16\",\"16\",\"16\",\"16\",\"16\",\"16\",\"17\",\"17\",\"17\",\"17\",\"17\",\"17\",\"17\",\"17\",\"17\",\"17\",\"17\",\"17\",\"17\",\"17\",\"17\",\"17\",\"17\",\"17\",\"17\",\"17\"],\n",
       "\"product\":[\"Tortilla Chips Salsa Verde\",\"Trail Mix Deluxe\",\"Potato Chips Spicy\",\"Pretzels Minis\",\"Candy Bar Nuts\",\"Fruit Snacks Tropical\",\"Tortilla Chips Salsa Verde\",\"Trail Mix Deluxe\",\"Potato Chips Spicy\",\"Pretzels Minis\",\"Candy Bar Nuts\",\"Fruit Snacks Tropical\",\"Tortilla Chips Salsa Verde\",\"Trail Mix Deluxe\",\"Potato Chips Spicy\",\"Pretzels Minis\",\"Candy Bar Nuts\",\"Fruit Snacks Tropical\",\"Tortilla Chips Salsa Verde\",\"Trail Mix Deluxe\",\"Potato Chips Spicy\",\"Pretzels Minis\",\"Candy Bar Nuts\",\"Fruit Snacks Tropical\",\"Tortilla Chips Salsa Verde\",\"Trail Mix Deluxe\",\"Potato Chips Spicy\",\"Pretzels Minis\",\"Candy Bar Nuts\",\"Fruit Snacks Tropical\",\"newFruit Snacks Tropical\",\"Tortilla Chips Salsa Verde\",\"Trail Mix Deluxe\",\"Potato Chips Spicy\",\"Pretzels Minis\",\"Candy Bar Nuts\",\"Fruit Snacks Tropical\",\"newFruit Snacks Assorted\",\"newFruit Snacks Tropical\",\"Tortilla Chips Salsa Verde\",\"Trail Mix Deluxe\",\"newPretzels Minis\",\"Potato Chips Spicy\",\"Pretzels Minis\",\"Candy Bar Nuts\",\"Fruit Snacks Tropical\",\"newFruit Snacks Assorted\",\"newFruit Snacks Tropical\",\"Tortilla Chips Salsa Verde\",\"Trail Mix Deluxe\",\"newCandy Bar Nuts\",\"Potato Chips Spicy\",\"Pretzels Minis\",\"Candy Bar Nuts\",\"Fruit Snacks Tropical\",\"newFruit Snacks Assorted\",\"newFruit Snacks Tropical\",\"newPretzels Minis\",\"Trail Mix Deluxe\",\"newCandy Bar Nuts\",\"newPretzels Sticks\",\"newPretzels Minis\",\"Potato Chips Spicy\",\"Candy Bar Nuts\",\"newFruit Snacks Assorted\",\"newFruit Snacks Tropical\",\"Tortilla Chips Salsa Verde\",\"Fruit Snacks Tropical\",\"Pretzels Minis\",\"Trail Mix Deluxe\",\"newCandy Bar Nuts\",\"newPretzels Sticks\",\"newPretzels Minis\",\"Tortilla Chips Salsa Verde\",\"Candy Bar Nuts\",\"Pretzels Minis\",\"newTortilla Chips Salsa Verde\",\"newFruit Snacks Assorted\",\"newFruit Snacks Tropical\",\"Potato Chips Spicy\",\"Fruit Snacks Tropical\",\"Trail Mix Deluxe\",\"newCandy Bar Nuts\",\"newPretzels Sticks\",\"newPretzels Minis\",\"Tortilla Chips Salsa Verde\",\"Candy Bar Nuts\",\"Pretzels Minis\",\"newTortilla Chips Nacho\",\"newFruit Snacks Assorted\",\"newFruit Snacks Tropical\",\"Potato Chips Spicy\",\"Fruit Snacks Tropical\",\"newTortilla Chips Salsa Verde\",\"Trail Mix Deluxe\",\"newCandy Bar Nuts\",\"newPretzels Sticks\",\"newPretzels Minis\",\"Tortilla Chips Salsa Verde\",\"Candy Bar Nuts\",\"Pretzels Minis\",\"newTortilla Chips Nacho\",\"newFruit Snacks Assorted\",\"newFruit Snacks Tropical\",\"newCrackers Sesame\",\"Potato Chips Spicy\",\"Fruit Snacks Tropical\",\"newTortilla Chips Salsa Verde\",\"Trail Mix Deluxe\",\"newCandy Bar Nuts\",\"newPretzels Sticks\",\"newPretzels Minis\",\"Potato Chips Spicy\",\"Tortilla Chips Salsa Verde\",\"Candy Bar Nuts\",\"newPotato Chips Spicy\",\"newFruit Snacks Assorted\",\"newFruit Snacks Tropical\",\"newCrackers Sesame\",\"Fruit Snacks Tropical\",\"Pretzels Minis\",\"newTortilla Chips Nacho\",\"newTortilla Chips Salsa Verde\",\"Trail Mix Deluxe\",\"newCandy Bar Nuts\",\"newPretzels Sticks\",\"newPretzels Minis\",\"Potato Chips Spicy\",\"Tortilla Chips Salsa Verde\",\"Candy Bar Nuts\",\"newPotato Chips Spicy\",\"newFruit Snacks Assorted\",\"newFruit Snacks Tropical\",\"newCrackers Plain\",\"Fruit Snacks Tropical\",\"Pretzels Minis\",\"newTortilla Chips Nacho\",\"newTortilla Chips Salsa Verde\",\"newCrackers Sesame\",\"Trail Mix Deluxe\",\"newPotato Chips Classic\",\"newPotato Chips Spicy\",\"Potato Chips Spicy\",\"Candy Bar Nuts\",\"newTortilla Chips Nacho\",\"newCandy Bar Nuts\",\"newFruit Snacks Assorted\",\"newFruit Snacks Tropical\",\"newCrackers Plain\",\"newPretzels Sticks\",\"newPretzels Minis\",\"Tortilla Chips Salsa Verde\",\"Fruit Snacks Tropical\",\"Pretzels Minis\",\"newTortilla Chips Salsa Verde\",\"newCrackers Sesame\",\"Trail Mix Deluxe\",\"newFruit Snacks Assorted\",\"newFruit Snacks Tropical\",\"newCrackers Plain\",\"newPretzels Minis\",\"Tortilla Chips Salsa Verde\",\"Candy Bar Nuts\",\"Pretzels Minis\",\"newPotato Chips Classic\",\"newTortilla Chips Nacho\",\"newTortilla Chips Salsa Verde\",\"newCandy Bar Nuts\",\"newPretzels Sticks\",\"Potato Chips Spicy\",\"Fruit Snacks Tropical\",\"newPotato Chips Spicy\",\"newCrackers Sesame\",\"newTrail Mix Deluxe\",\"Tortilla Chips Salsa Verde\",\"Trail Mix Deluxe\",\"newPotato Chips Classic\",\"newFruit Snacks Tropical\",\"newCrackers Plain\",\"newCrackers Sesame\",\"Candy Bar Nuts\",\"Pretzels Minis\",\"newTortilla Chips Nacho\",\"newTortilla Chips Salsa Verde\",\"newCandy Bar Nuts\",\"newPretzels Sticks\",\"newPretzels Minis\",\"newNuts Mix\",\"Potato Chips Spicy\",\"Fruit Snacks Tropical\",\"newPotato Chips Spicy\",\"newFruit Snacks Assorted\",\"newTrail Mix Deluxe\",\"Tortilla Chips Salsa Verde\",\"Trail Mix Deluxe\",\"newPotato Chips Spicy\",\"newCookies Oatmeal Raisin\",\"newNuts Mix\",\"Candy Bar Nuts\",\"Pretzels Minis\",\"newTortilla Chips Nacho\",\"newTortilla Chips Salsa Verde\",\"newCandy Bar Nuts\",\"newFruit Snacks Assorted\",\"newFruit Snacks Tropical\",\"newCrackers Plain\",\"newPretzels Sticks\",\"newPretzels Minis\",\"Potato Chips Spicy\",\"Fruit Snacks Tropical\",\"newPotato Chips Classic\",\"newCrackers Sesame\",\"newTrail Mix Deluxe\"],\n",
       "\"amount\":[2.99999999,37.0,16.9999995,18.0,15.0,9.999999959999998,2.99999999,37.0,16.9999995,18.0,15.0,9.999999959999998,2.99999999,37.0,16.9999995,18.0,15.0,9.999999959999998,2.99999999,37.0,16.9999995,18.0,15.0,9.999999959999998,2.99999999,37.0,16.9999995,18.0,15.0,8.79999996,1.2,2.99999999,37.0,16.9999995,18.0,15.0,7.599999959999999,1.2,1.2,1.99999995,37.0,1.0,18.0,17.0,15.0,7.599999959999999,1.2,1.2,1.99999995,37.0,1.0,18.0,17.0,14.0,7.599999959999999,1.2,1.2,1.0,37.0,1.0,1.0,1.0,18.6,14.0,1.2,1.2,1.40000003,7.599999959999999,16.0,37.0,1.0,1.0,1.0,1.3,14.0,16.0,1.3,1.2,1.2,17.4,7.599999959999999,37.0,1.0,1.0,1.0,1.3,14.0,16.0,1.3,1.2,1.2,16.0999995,7.599999959999999,1.3,37.0,1.0,1.0,1.0,1.3,14.0,14.8,1.3,1.2,1.2,1.2,16.0999995,7.599999959999999,1.3,37.0,1.0,1.0,1.0,14.59999995,1.3,14.0,1.5,1.2,1.2,1.2,7.599999959999999,14.8,1.3,1.3,37.0,1.0,1.0,1.0,14.59999995,1.3,14.0,1.5,1.2,1.2,1.2,7.599999959999999,13.6,1.3,1.3,1.2,37.0,1.5,1.5,13.09999995,14.0,1.3,1.0,1.2,1.2,1.2,1.0,1.0,1.3,7.599999959999999,13.6,1.3,1.2,35.4,1.2,1.2,1.2,1.0,1.3,14.0,13.6,1.5,1.3,1.3,1.0,1.0,13.09999995,7.599999959999999,1.5,1.2,1.6,1.3,33.6,1.5,1.2,1.2,1.2,14.0,13.6,1.3,1.3,1.0,1.0,1.0,1.8,13.09999995,7.599999959999999,1.5,1.2,1.6,1.3,33.6,1.5,1.8,1.8,12.2,13.6,1.3,1.3,1.0,1.2,1.2,1.2,1.0,1.0,13.09999995,7.599999959999999,1.5,1.2,1.6]\n",
       "},\n",
       "\"mapping\":{\n",
       "},\n",
       "\"data_meta\":{\n",
       "\"series_annotations\":[{\n",
       "\"type\":\"str\",\n",
       "\"column\":\"newreq\"\n",
       "},{\n",
       "\"type\":\"str\",\n",
       "\"column\":\"product\"\n",
       "},{\n",
       "\"type\":\"float\",\n",
       "\"column\":\"amount\"\n",
       "}]\n",
       "},\n",
       "\"coord\":{\n",
       "\"name\":\"flip\",\n",
       "\"flip\":true\n",
       "},\n",
       "\"theme\":{\n",
       "\"legend_position\":\"none\"\n",
       "},\n",
       "\"kind\":\"plot\",\n",
       "\"scales\":[],\n",
       "\"layers\":[{\n",
       "\"geom\":\"bar\",\n",
       "\"stat\":\"identity\",\n",
       "\"mapping\":{\n",
       "\"x\":\"newreq\",\n",
       "\"y\":\"amount\",\n",
       "\"fill\":\"product\"\n",
       "},\n",
       "\"data_meta\":{\n",
       "},\n",
       "\"data\":{\n",
       "}\n",
       "}],\n",
       "\"metainfo_list\":[]\n",
       "};\n",
       "           var plotContainer = document.getElementById(\"JT0JNC\");\n",
       "           window.letsPlotCall(function() {{\n",
       "               LetsPlot.buildPlotFromProcessedSpecs(plotSpec, -1, -1, plotContainer);\n",
       "           }});\n",
       "       })();\n",
       "   </script>"
      ],
      "text/plain": [
       "<lets_plot.plot.core.PlotSpec at 0x703a6f763430>"
      ]
     },
     "execution_count": 14,
     "metadata": {},
     "output_type": "execute_result"
    }
   ],
   "source": [
    "ggplot(shelveData) + geom_bar(aes(x='newreq', y='amount',fill='product'), stat='identity') + coord_flip() + theme(legend_position=\"none\")"
   ]
  }
 ],
 "metadata": {
  "kernelspec": {
   "display_name": "Python 3",
   "language": "python",
   "name": "python3"
  },
  "language_info": {
   "codemirror_mode": {
    "name": "ipython",
    "version": 3
   },
   "file_extension": ".py",
   "mimetype": "text/x-python",
   "name": "python",
   "nbconvert_exporter": "python",
   "pygments_lexer": "ipython3",
   "version": "3.10.13"
  }
 },
 "nbformat": 4,
 "nbformat_minor": 2
}
