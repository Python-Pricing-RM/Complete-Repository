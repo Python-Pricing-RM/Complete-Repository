{
 "cells": [
  {
   "cell_type": "markdown",
   "metadata": {},
   "source": [
    "## Data Types"
   ]
  },
  {
   "cell_type": "markdown",
   "metadata": {},
   "source": [
    "1. Create a list of dictionaries where each dictionary represents a product with keys for name, price, and stock. Write a code snippet to filter out products that are out of stock and store the results in a new list called `available_products`."
   ]
  },
  {
   "cell_type": "code",
   "execution_count": 34,
   "metadata": {},
   "outputs": [
    {
     "name": "stdout",
     "output_type": "stream",
     "text": [
      "Product A is available True\n",
      "Product B is available False\n",
      "Product C is available True\n"
     ]
    }
   ],
   "source": [
    "products = [\n",
    "    {'name': 'Product A', 'price': 30, 'stock': 100},\n",
    "    {'name': 'Product B', 'price': 20, 'stock': 0},\n",
    "    {'name': 'Product C', 'price': 50, 'stock': 50}\n",
    "]\n",
    "\n",
    "#print(products[0][\"name\"],\"is available\",products[0][\"stock\"] > 0)\n",
    "#print(products[1][\"name\"],\"is available\",products[1][\"stock\"] > 0)\n",
    "#print(products[2][\"name\"],\"is available\",products[2][\"stock\"] > 0)\n",
    "\n",
    "for p in products:\n",
    "    print(p[\"name\"],\"is available\", p[\"stock\"] > 0)\n"
   ]
  },
  {
   "cell_type": "code",
   "execution_count": 32,
   "metadata": {},
   "outputs": [
    {
     "name": "stdout",
     "output_type": "stream",
     "text": [
      "[{'name': 'Product A', 'price': 30, 'stock': 100}, {'name': 'Product C', 'price': 50, 'stock': 50}]\n"
     ]
    }
   ],
   "source": [
    "\n",
    "available_products = []\n",
    "available_products.append(products[0])\n",
    "available_products.append(products[2])\n",
    "print(available_products)"
   ]
  },
  {
   "cell_type": "code",
   "execution_count": 57,
   "metadata": {},
   "outputs": [
    {
     "name": "stdout",
     "output_type": "stream",
     "text": [
      "[{'name': 'Product A', 'price': 30, 'stock': 100}, {'name': 'Product C', 'price': 50, 'stock': 50}]\n"
     ]
    }
   ],
   "source": [
    "available_products = [p for p in products if p[\"stock\"] > 0]\n",
    "print(available_products)"
   ]
  },
  {
   "cell_type": "markdown",
   "metadata": {},
   "source": [
    "\n",
    "2. Given a list of prices `prices = [10, 20, 30, 40, 50]`, write a Python snippet to find the top 3 highest prices using functions.\n"
   ]
  },
  {
   "cell_type": "code",
   "execution_count": 38,
   "metadata": {},
   "outputs": [
    {
     "name": "stdout",
     "output_type": "stream",
     "text": [
      "[50, 40, 30, 20, 10]\n"
     ]
    },
    {
     "data": {
      "text/plain": [
       "[50, 40, 30]"
      ]
     },
     "execution_count": 38,
     "metadata": {},
     "output_type": "execute_result"
    }
   ],
   "source": [
    "prices = [10, 20, 30, 40, 50]\n",
    "\n",
    "prices.sort(reverse=True)\n",
    "print(prices)\n",
    "prices[0:3]"
   ]
  },
  {
   "cell_type": "markdown",
   "metadata": {},
   "source": [
    "\n",
    "3. Write a Python script to demonstrate the use of the `zip` function by combining two lists, `prices = [10, 20, 30]` and `quantities_sold = [100, 80, 60]`, into a list of tuples and then iterating over the tuples to print the revenue for each price.\n"
   ]
  },
  {
   "cell_type": "code",
   "execution_count": 39,
   "metadata": {},
   "outputs": [
    {
     "name": "stdout",
     "output_type": "stream",
     "text": [
      "[(10, 100), (20, 80), (30, 60)]\n",
      "[1000, 1600, 1800]\n"
     ]
    }
   ],
   "source": [
    "prices = [10, 20, 30]\n",
    "quantities_sold = [100, 80, 60]\n",
    "\n",
    "demandFunction = list(zip(prices,quantities_sold))\n",
    "print(demandFunction)\n",
    "\n",
    "revenues = [p*q for (p,q) in demandFunction]\n",
    "print(revenues)"
   ]
  },
  {
   "cell_type": "code",
   "execution_count": 43,
   "metadata": {},
   "outputs": [
    {
     "name": "stdout",
     "output_type": "stream",
     "text": [
      "[1000, 1600, 1800]\n"
     ]
    }
   ],
   "source": [
    "import itertools\n",
    "result = []\n",
    "\n",
    "for a, b in zip(prices, quantities_sold):\n",
    "    result.append (a*b)\n",
    "\n",
    "print (result)"
   ]
  },
  {
   "cell_type": "markdown",
   "metadata": {},
   "source": [
    "4. Write a Python snippet to count the number of vowels in the product description `description = \"This is a high-quality product\"`."
   ]
  },
  {
   "cell_type": "code",
   "execution_count": 51,
   "metadata": {},
   "outputs": [
    {
     "name": "stdout",
     "output_type": "stream",
     "text": [
      "this is a high-quality product\n",
      "9\n",
      "[('a', 2), ('e', 0), ('i', 4)]\n"
     ]
    },
    {
     "data": {
      "text/plain": [
       "6"
      ]
     },
     "execution_count": 51,
     "metadata": {},
     "output_type": "execute_result"
    }
   ],
   "source": [
    "description = \"This is a high-quality product\"\n",
    "\n",
    "print(description.lower())\n",
    "\n",
    "count_a = description.lower().count('a')\n",
    "count_e = description.lower().count('e')\n",
    "count_i = description.lower().count('i')\n",
    "count_o = description.lower().count('o')\n",
    "count_u = description.lower().count('u')\n",
    "\n",
    "print(count_a + count_e + count_i + count_o + count_u)\n",
    "\n",
    "vowels = [\"a\",\"e\",\"i\",\"o\",\"u\"]\n",
    "\n",
    "vowelCounts = [description.count(vowel) for vowel in vowels]\n",
    "\n",
    "print(list(zip(vowels,vowelCounts)))\n",
    "\n",
    "sum(vowelCounts)\n"
   ]
  },
  {
   "cell_type": "markdown",
   "metadata": {},
   "source": [
    "5. Create a dictionary to store product names and their sales figures. Write code snippets to add a new product, remove a product, and update a product's sales figure."
   ]
  },
  {
   "cell_type": "code",
   "execution_count": 53,
   "metadata": {},
   "outputs": [
    {
     "name": "stdout",
     "output_type": "stream",
     "text": [
      "1200\n"
     ]
    },
    {
     "data": {
      "text/plain": [
       "{'Product A': 1500, 'Product C': 0, 'Product D': 750}"
      ]
     },
     "execution_count": 53,
     "metadata": {},
     "output_type": "execute_result"
    }
   ],
   "source": [
    "sales = {'Product A': 1500, 'Product B': 1200, 'Product C': 800}\n",
    "\n",
    "sales[\"Product D\"] = 750\n",
    "\n",
    "print(sales.pop(\"Product B\"))\n",
    "\n",
    "\n",
    "sales[\"Product C\"] = 0\n",
    "\n",
    "sales"
   ]
  }
 ],
 "metadata": {
  "kernelspec": {
   "display_name": "Python 3",
   "language": "python",
   "name": "python3"
  },
  "language_info": {
   "codemirror_mode": {
    "name": "ipython",
    "version": 3
   },
   "file_extension": ".py",
   "mimetype": "text/x-python",
   "name": "python",
   "nbconvert_exporter": "python",
   "pygments_lexer": "ipython3",
   "version": "3.10.13"
  }
 },
 "nbformat": 4,
 "nbformat_minor": 2
}
