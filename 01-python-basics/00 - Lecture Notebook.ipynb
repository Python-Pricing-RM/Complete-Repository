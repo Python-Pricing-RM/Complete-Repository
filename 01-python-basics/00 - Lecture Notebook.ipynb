{
  "cells": [
    {
      "cell_type": "markdown",
      "metadata": {
        "id": "OpudU1tisZzB"
      },
      "source": [
        "<!--@slideshow slide-->\n",
        "# Introduction to Python\n",
        "\n",
        "* Python is an interpreted script language\n",
        "* Python programs are a sequence of expressions\n",
        "* Variable assignments, function calls, mathematical / logical operations\n",
        "* Definition of functions or classes\n",
        "* Control structures (`if`, `for`, ...)\n",
        "* comments (initialized by `#`)"
      ]
    },
    {
      "cell_type": "code",
      "execution_count": 2,
      "metadata": {
        "id": "czo_WxrZleBy"
      },
      "outputs": [],
      "source": [
        "a = 42\n",
        "b = 21\n",
        "c = a + b\n",
        "d = max(a,b) #function call\n",
        "xs = [0, 1, 2, 3] #defining a list with four entries"
      ]
    },
    {
      "cell_type": "code",
      "execution_count": 4,
      "metadata": {},
      "outputs": [
        {
          "data": {
            "text/plain": [
              "21"
            ]
          },
          "execution_count": 4,
          "metadata": {},
          "output_type": "execute_result"
        }
      ],
      "source": [
        "b"
      ]
    },
    {
      "cell_type": "markdown",
      "metadata": {
        "id": "vRgSuaVQtiZM"
      },
      "source": [
        "### Python is a dynamically typed language\n",
        "* Variables are typed\n",
        "* The type is determined at runtime\n",
        "* The type is not explicitly set by the user\n",
        "* The function `type(x)` allows us to query the type of object `x`"
      ]
    },
    {
      "cell_type": "code",
      "execution_count": 8,
      "metadata": {
        "colab": {
          "base_uri": "https://localhost:8080/"
        },
        "id": "JQP431dTtZHe",
        "outputId": "d2aaeec4-48cf-4f64-f685-08d13f1f7d3a"
      },
      "outputs": [
        {
          "name": "stdout",
          "output_type": "stream",
          "text": [
            "<class 'int'>\n"
          ]
        }
      ],
      "source": [
        "a = 42\n",
        "print(type(a))\n"
      ]
    },
    {
      "cell_type": "code",
      "execution_count": 6,
      "metadata": {},
      "outputs": [
        {
          "name": "stdout",
          "output_type": "stream",
          "text": [
            "<class 'float'>\n"
          ]
        }
      ],
      "source": [
        "a = 42.0\n",
        "print(type(a))\n"
      ]
    },
    {
      "cell_type": "code",
      "execution_count": 10,
      "metadata": {},
      "outputs": [
        {
          "name": "stdout",
          "output_type": "stream",
          "text": [
            "<class 'float'>\n"
          ]
        }
      ],
      "source": [
        "c = 42 / a\n",
        "print(type(c))\n"
      ]
    },
    {
      "cell_type": "code",
      "execution_count": 11,
      "metadata": {},
      "outputs": [
        {
          "name": "stdout",
          "output_type": "stream",
          "text": [
            "<class 'list'>\n"
          ]
        }
      ],
      "source": [
        "xs = [a, b]\n",
        "print(type(xs))"
      ]
    },
    {
      "cell_type": "markdown",
      "metadata": {
        "id": "KNDkLldXuIS5"
      },
      "source": [
        "<!--@slideshow slide-->\n",
        "### Common data types in python\n",
        "\n",
        "|Data type| Description|\n",
        "|--------|---------|\n",
        "| `str` | textual data |\n",
        "| `int` | integer values |\n",
        "| `float` | decimal values |\n",
        "| `dict` | dictionary |\n",
        "| `set` | sets |\n",
        "| `bool` | logical values |"
      ]
    },
    {
      "cell_type": "markdown",
      "metadata": {
        "id": "KLs07zUJu8S-"
      },
      "source": [
        "<!--@slideshow slide-->\n",
        "## Python operators\n",
        "\n",
        "### Arithmethic operators\n",
        "\n",
        "|operator| Description|\n",
        "|--------|---------|\n",
        "| `+` | plus |\n",
        "| `-` | minus |\n",
        "| `*` | multiplication |\n",
        "| `/` | float division |\n",
        "| `%` | modulus |\n",
        "| `//` | integer division |\n",
        "| `**` | power |\n"
      ]
    },
    {
      "cell_type": "code",
      "execution_count": 15,
      "metadata": {
        "colab": {
          "base_uri": "https://localhost:8080/"
        },
        "id": "Rd_tMWcJtQh2",
        "outputId": "1e94ff33-023b-4597-dbec-9dcd92d27136"
      },
      "outputs": [
        {
          "name": "stdout",
          "output_type": "stream",
          "text": [
            "5.0\n",
            "3.0\n"
          ]
        }
      ],
      "source": [
        "a = 3.0\n",
        "b = 4.0\n",
        "c = (a**2 + b**2) ** 0.5\n",
        "print(c)\n",
        "print(a)"
      ]
    },
    {
      "cell_type": "code",
      "execution_count": 16,
      "metadata": {
        "colab": {
          "base_uri": "https://localhost:8080/"
        },
        "id": "tuVx1CmlvaFN",
        "outputId": "e6c6000e-cf4f-453c-e760-5e74da0f473b"
      },
      "outputs": [
        {
          "name": "stdout",
          "output_type": "stream",
          "text": [
            "2\n",
            "2.6666666666666665\n",
            "2\n"
          ]
        }
      ],
      "source": [
        "print(8 % 3)\n",
        "print(8 / 3)\n",
        "print(8 // 3)"
      ]
    },
    {
      "cell_type": "markdown",
      "metadata": {
        "id": "emgCV8RWvoQE"
      },
      "source": [
        "<!--@slideshow slide-->\n",
        "### Relational / membership operators\n",
        "\n",
        "|operator| Description|\n",
        "|--------|---------|\n",
        "| `>` | greater |\n",
        "| `<` | smaller |\n",
        "| `==` | equal |\n",
        "| `!=` | unequal |\n",
        "| `>=` | greater equal |\n",
        "| `<=` | smaller equal |\n",
        "| `in` | present in list |\n"
      ]
    },
    {
      "cell_type": "code",
      "execution_count": 20,
      "metadata": {
        "colab": {
          "base_uri": "https://localhost:8080/"
        },
        "id": "ydmde-WRvll8",
        "outputId": "6c76e461-68a9-46f3-cf6c-ad54d559bab6"
      },
      "outputs": [
        {
          "name": "stdout",
          "output_type": "stream",
          "text": [
            "True\n"
          ]
        }
      ],
      "source": [
        "print(1 < 3)"
      ]
    },
    {
      "cell_type": "code",
      "execution_count": 21,
      "metadata": {},
      "outputs": [
        {
          "name": "stdout",
          "output_type": "stream",
          "text": [
            "False\n"
          ]
        }
      ],
      "source": [
        "print(3.0 >= 4.0)"
      ]
    },
    {
      "cell_type": "code",
      "execution_count": 22,
      "metadata": {},
      "outputs": [
        {
          "name": "stdout",
          "output_type": "stream",
          "text": [
            "True\n"
          ]
        }
      ],
      "source": [
        "print(1.0 in [1.0,2,3])"
      ]
    },
    {
      "cell_type": "code",
      "execution_count": 25,
      "metadata": {},
      "outputs": [
        {
          "name": "stdout",
          "output_type": "stream",
          "text": [
            "True\n"
          ]
        }
      ],
      "source": [
        "print(1 in [1.0,2,3])"
      ]
    },
    {
      "cell_type": "code",
      "execution_count": 26,
      "metadata": {},
      "outputs": [
        {
          "name": "stdout",
          "output_type": "stream",
          "text": [
            "True\n"
          ]
        }
      ],
      "source": [
        "print(1.0 in [1,2,3])"
      ]
    },
    {
      "cell_type": "code",
      "execution_count": 27,
      "metadata": {},
      "outputs": [
        {
          "name": "stdout",
          "output_type": "stream",
          "text": [
            "False\n"
          ]
        }
      ],
      "source": [
        "print(\"1.0\" in [1,2,3])"
      ]
    },
    {
      "cell_type": "markdown",
      "metadata": {
        "id": "e2BQ_ZmHw5gK"
      },
      "source": [
        "<!--@slideshow slide-->\n",
        "### Logical operators\n",
        "\n",
        "Logical operators are used to combine multiple relational operators.\n",
        "\n",
        "|operator| Description|\n",
        "|--------|---------|\n",
        "| `and` | both statements need to be `true` for the composite to be `true` |\n",
        "| `not` | the statement is negated |\n",
        "| `or` | at least one statement needs to be `true` for the composite to be `true` |"
      ]
    },
    {
      "cell_type": "code",
      "execution_count": 29,
      "metadata": {
        "colab": {
          "base_uri": "https://localhost:8080/"
        },
        "id": "8dIsEP5hwQZo",
        "outputId": "d529b11c-90de-47db-9e18-d1bb74a249e6"
      },
      "outputs": [
        {
          "name": "stdout",
          "output_type": "stream",
          "text": [
            "False\n"
          ]
        }
      ],
      "source": [
        "a = 6.0\n",
        "print(a > 2.0 and a < 5.0)"
      ]
    },
    {
      "cell_type": "code",
      "execution_count": 31,
      "metadata": {},
      "outputs": [
        {
          "name": "stdout",
          "output_type": "stream",
          "text": [
            "False\n"
          ]
        }
      ],
      "source": [
        "a = 3.0\n",
        "print(a > 2.0 and not a < 5.0)"
      ]
    },
    {
      "cell_type": "code",
      "execution_count": 34,
      "metadata": {},
      "outputs": [
        {
          "name": "stdout",
          "output_type": "stream",
          "text": [
            "True\n"
          ]
        }
      ],
      "source": [
        "a = 15.0\n",
        "print(a > 2.0 or a < 5.0)"
      ]
    },
    {
      "cell_type": "markdown",
      "metadata": {
        "id": "xkABUNquxpUR"
      },
      "source": [
        "<!--@slideshow slide-->\n",
        "## Python Data Types\n",
        "### Python Lists\n",
        "\n",
        "* Lists are a data structure for storing multiple values in an ordered manner\n",
        "* Lists can hold different data types\n",
        "* Lists are 0-indexed, i.e., the first item is 0, the second item is 1, etc."
      ]
    },
    {
      "cell_type": "code",
      "execution_count": 1,
      "metadata": {
        "colab": {
          "base_uri": "https://localhost:8080/"
        },
        "id": "LFKcJVeDxniz",
        "outputId": "c947eead-1b94-4f38-c61f-b76979cf90bf"
      },
      "outputs": [
        {
          "name": "stdout",
          "output_type": "stream",
          "text": [
            "['a', 'b', 'c', 'd']\n"
          ]
        }
      ],
      "source": [
        "xs = ['a', 'b', 'c', 'd']\n",
        "print(xs)"
      ]
    },
    {
      "cell_type": "code",
      "execution_count": 2,
      "metadata": {
        "colab": {
          "base_uri": "https://localhost:8080/",
          "height": 35
        },
        "id": "bzA4LJBKx0HT",
        "outputId": "898e0769-ea8d-48d0-92b2-c8fb61faddd1"
      },
      "outputs": [
        {
          "data": {
            "text/plain": [
              "'a'"
            ]
          },
          "execution_count": 2,
          "metadata": {},
          "output_type": "execute_result"
        }
      ],
      "source": [
        "xs[0]"
      ]
    },
    {
      "cell_type": "markdown",
      "metadata": {
        "id": "NHqegCqIy6O2"
      },
      "source": [
        "<!--@slideshow slide-->\n",
        "#### List accessing and slicing\n",
        "\n",
        "How to select values from a list?\n",
        "\n",
        "* accessing a single item"
      ]
    },
    {
      "cell_type": "code",
      "execution_count": 15,
      "metadata": {
        "id": "Nh-81O7Cylgb"
      },
      "outputs": [
        {
          "name": "stdout",
          "output_type": "stream",
          "text": [
            "4\n"
          ]
        }
      ],
      "source": [
        "xs = [1,2,3,4,5,6]\n",
        "a = xs[3]\n",
        "print(a)"
      ]
    },
    {
      "cell_type": "markdown",
      "metadata": {
        "id": "F2wBpW1qzLUa"
      },
      "source": [
        "* accessing a part of a list (slicing)"
      ]
    },
    {
      "cell_type": "code",
      "execution_count": 4,
      "metadata": {
        "colab": {
          "base_uri": "https://localhost:8080/"
        },
        "id": "ua6mkPcUzIjo",
        "outputId": "ab728d5e-c3fa-4fb4-9c6b-bccf3087c621"
      },
      "outputs": [
        {
          "name": "stdout",
          "output_type": "stream",
          "text": [
            "[1, 2, 3, 4]\n"
          ]
        }
      ],
      "source": [
        "xxs = xs[0:4]\n",
        "print(xxs)"
      ]
    },
    {
      "cell_type": "markdown",
      "metadata": {
        "id": "JHcAJf0nzas-"
      },
      "source": [
        "<!--@slideshow slide-->\n",
        "#### List functions\n",
        "\n",
        "|operator| Description|\n",
        "|--------|---------|\n",
        "| `len(xs)` | length of list xs (number of items) |\n",
        "| `xs.append(...)` | append argument to list |\n",
        "| `xs.index(...)` | returns index of argument value |\n",
        "| `xs.remove(...)` | removes first occurence of argument from list |\n",
        "| `xs.sort()` | sorts the lists |\n",
        "| `xs.reverse()` | reverses order of list |\n",
        "| `xs * n` | repeat list n times |"
      ]
    },
    {
      "cell_type": "code",
      "execution_count": 18,
      "metadata": {},
      "outputs": [],
      "source": [
        "xs.reverse()\n",
        "foo = xs"
      ]
    },
    {
      "cell_type": "markdown",
      "metadata": {
        "id": "tle59rErAT5p"
      },
      "source": [
        "<!--@slideshow slide-->\n",
        "* The `map()` function applies the given function to each element of the iterable (such as a list) and returns an iterator with the results which can then be turned into a list again using `list(...)`."
      ]
    },
    {
      "cell_type": "code",
      "execution_count": 23,
      "metadata": {
        "colab": {
          "base_uri": "https://localhost:8080/"
        },
        "id": "hCOEKKTUAYSL",
        "outputId": "d2c0789e-fdff-4f18-cc11-581c16f97dac"
      },
      "outputs": [],
      "source": [
        "numbers = [1.6, 2.2, 3.6, 4.4, 5.5]\n",
        "rounded = list(map(round, numbers))"
      ]
    },
    {
      "cell_type": "markdown",
      "metadata": {
        "id": "rv3RS0JO0XH8"
      },
      "source": [
        "**Familiarize yourself with lists by trying out these functions on own lists**"
      ]
    },
    {
      "cell_type": "markdown",
      "metadata": {
        "id": "NXENWc5Z2ks4"
      },
      "source": [
        "<!--@slideshow slide-->\n",
        "#### Operations on multiple lists"
      ]
    },
    {
      "cell_type": "markdown",
      "metadata": {
        "id": "IKZWixgLyZJx"
      },
      "source": [
        "* Concatenation: You can combine two lists using the + operator. It creates a new list that contains all the elements from both lists in the order they appear."
      ]
    },
    {
      "cell_type": "code",
      "execution_count": 24,
      "metadata": {
        "id": "egbrgBm2yV8d"
      },
      "outputs": [
        {
          "name": "stdout",
          "output_type": "stream",
          "text": [
            "[1, 2, 3, 4, 4, 5, 6, 7]\n"
          ]
        }
      ],
      "source": [
        "xs = [1, 2, 3, 4]\n",
        "ys = [4, 5, 6, 7]\n",
        "\n",
        "print(xs + ys)"
      ]
    },
    {
      "cell_type": "markdown",
      "metadata": {
        "id": "lSz70AjY29qd"
      },
      "source": [
        "<!--@slideshow slide-->\n",
        "\n",
        "* Comparison: You can compare two lists using the comparison operators (`==`, `!=`, `<`, `>`, `<=`, `>=`). The comparison is performed element-wise, comparing corresponding elements of the lists lexicographically."
      ]
    },
    {
      "cell_type": "code",
      "execution_count": 25,
      "metadata": {
        "colab": {
          "base_uri": "https://localhost:8080/"
        },
        "id": "BAUcJbUq3DqF",
        "outputId": "ae2dfa30-acd6-414d-afa6-322254511837"
      },
      "outputs": [
        {
          "name": "stdout",
          "output_type": "stream",
          "text": [
            "True\n"
          ]
        }
      ],
      "source": [
        "print([6,4,3] > [5,3,2])"
      ]
    },
    {
      "cell_type": "code",
      "execution_count": 26,
      "metadata": {},
      "outputs": [
        {
          "name": "stdout",
          "output_type": "stream",
          "text": [
            "True\n"
          ]
        }
      ],
      "source": [
        "print([5,4,3] > [5,3,2])"
      ]
    },
    {
      "cell_type": "code",
      "execution_count": 27,
      "metadata": {},
      "outputs": [
        {
          "name": "stdout",
          "output_type": "stream",
          "text": [
            "False\n"
          ]
        }
      ],
      "source": [
        "print([5,5,5] > [5,5,5])"
      ]
    },
    {
      "cell_type": "code",
      "execution_count": 28,
      "metadata": {},
      "outputs": [
        {
          "name": "stdout",
          "output_type": "stream",
          "text": [
            "False\n"
          ]
        }
      ],
      "source": [
        "print([5,3,3] > [5,3,4])"
      ]
    },
    {
      "cell_type": "code",
      "execution_count": 29,
      "metadata": {},
      "outputs": [
        {
          "name": "stdout",
          "output_type": "stream",
          "text": [
            "True\n"
          ]
        }
      ],
      "source": [
        "print([5,3,5] > [5,3,4,0])"
      ]
    },
    {
      "cell_type": "code",
      "execution_count": 30,
      "metadata": {},
      "outputs": [
        {
          "name": "stdout",
          "output_type": "stream",
          "text": [
            "True\n"
          ]
        }
      ],
      "source": [
        "print([9] > [8,9])"
      ]
    },
    {
      "cell_type": "markdown",
      "metadata": {
        "id": "6LuwgKA8_y_S"
      },
      "source": [
        "<!--@slideshow slide-->\n",
        "\n",
        "* Element-wise Operations: You can perform element-wise operations between two lists using list comprehension or other techniques. This allows you to apply operations like addition, subtraction, multiplication, or any custom operation to corresponding elements of the lists."
      ]
    },
    {
      "cell_type": "code",
      "execution_count": 32,
      "metadata": {
        "colab": {
          "base_uri": "https://localhost:8080/"
        },
        "id": "3Rm_hM34_8mV",
        "outputId": "47e4a00d-1d98-4b2a-b921-720c3814291f"
      },
      "outputs": [
        {
          "name": "stdout",
          "output_type": "stream",
          "text": [
            "[5, 7, 9]\n",
            "[1, 2, 3, 4, 5, 6]\n"
          ]
        }
      ],
      "source": [
        "list1 = [1, 2, 3]\n",
        "list2 = [4, 5, 6]\n",
        "result = [x + y for x, y in zip(list1, list2)]\n",
        "print(result)  # Output: [5, 7, 9]\n",
        "print(list1+list2)"
      ]
    },
    {
      "cell_type": "markdown",
      "metadata": {
        "id": "fg69vbG6G8m-"
      },
      "source": [
        "<!--@slideshow slide-->\n",
        "\n",
        "* Zipping lists: The zip function connects lists/sequences"
      ]
    },
    {
      "cell_type": "code",
      "execution_count": 35,
      "metadata": {
        "colab": {
          "base_uri": "https://localhost:8080/"
        },
        "id": "vioWIciTHC5o",
        "outputId": "643e6914-9314-4a07-8712-3f8645deea3a"
      },
      "outputs": [
        {
          "name": "stdout",
          "output_type": "stream",
          "text": [
            "[(1, 'a'), (2, 'b'), (3, 'c')]\n"
          ]
        }
      ],
      "source": [
        "xs = [1, 2, 3]\n",
        "ys = [\"a\", \"b\", \"c\"]\n",
        "print(list(zip(xs, ys)))"
      ]
    },
    {
      "cell_type": "markdown",
      "metadata": {
        "id": "V8UaojROABOI"
      },
      "source": [
        "<!--@slideshow slide-->\n",
        "\n",
        "* Intersection and Union: You can find the intersection (common elements) or union (all unique elements) of two lists using set operations."
      ]
    },
    {
      "cell_type": "code",
      "execution_count": 39,
      "metadata": {
        "colab": {
          "base_uri": "https://localhost:8080/"
        },
        "id": "yO4FhQCoADhK",
        "outputId": "6e833d8b-e872-4ff8-e1ca-2a6fc464de97"
      },
      "outputs": [
        {
          "name": "stdout",
          "output_type": "stream",
          "text": [
            "[3, 4]\n",
            "[1, 2, 3, 4, 5, 6]\n"
          ]
        }
      ],
      "source": [
        "list1 = [1, 2, 3, 4]\n",
        "list2 = [3, 4, 5, 6]\n",
        "intersection = list(set(list1) & set(list2))\n",
        "union = list(set(list1) | set(list2))\n",
        "print(intersection)  # Output: [3, 4]\n",
        "print(union)  # Output: [1, 2, 3, 4, 5, 6]"
      ]
    },
    {
      "cell_type": "markdown",
      "metadata": {
        "id": "fk0X5hG_BWDM"
      },
      "source": [
        "<!--@slideshow slide-->\n",
        "\n",
        "* To obtain the Cartesian product of two or more lists in Python, you can use the `itertools.product()` function. This function generates all possible combinations of elements from the input iterables."
      ]
    },
    {
      "cell_type": "code",
      "execution_count": 42,
      "metadata": {
        "colab": {
          "base_uri": "https://localhost:8080/"
        },
        "id": "UTo-z9cZBZYa",
        "outputId": "936ca185-03f0-443c-9212-991943fbe3a6"
      },
      "outputs": [
        {
          "name": "stdout",
          "output_type": "stream",
          "text": [
            "[(1, 'a'), (1, 'b'), (1, 'c'), (2, 'a'), (2, 'b'), (2, 'c')]\n"
          ]
        }
      ],
      "source": [
        "import itertools\n",
        "\n",
        "list1 = [1, 2]\n",
        "list2 = ['a', 'b', 'c']\n",
        "\n",
        "cartesian_product = list(itertools.product(list1, list2))\n",
        "print(cartesian_product)"
      ]
    },
    {
      "cell_type": "markdown",
      "metadata": {
        "id": "aLDAl7HgDVTx"
      },
      "source": [
        "<!--@slideshow slide-->\n",
        "\n",
        "### Sequences using Python Ranges\n",
        "\n",
        "Python offers the `range` type for sequences of integers:\n",
        "* `range(start, stop, step)`\n",
        "* start is the first value, stop-1 the highest possible value, step is the stepsize\n",
        "* calling `range` with only one argument assumes start = 0 and step = 1\n",
        "* calling `range` with two arguments assumes step = 1"
      ]
    },
    {
      "cell_type": "code",
      "execution_count": 43,
      "metadata": {
        "colab": {
          "base_uri": "https://localhost:8080/"
        },
        "id": "0IE2lLVuDclJ",
        "outputId": "38ae5657-a4ae-43b4-e8fe-7adab9437b0e"
      },
      "outputs": [
        {
          "name": "stdout",
          "output_type": "stream",
          "text": [
            "range(0, 4)\n",
            "[0, 1, 2, 3]\n"
          ]
        }
      ],
      "source": [
        "seq1 = range(4) # 0, 1, 2, 3\n",
        "\n",
        "print(seq1) #iterator!\n",
        "print(list(seq1))"
      ]
    },
    {
      "cell_type": "code",
      "execution_count": 45,
      "metadata": {},
      "outputs": [
        {
          "name": "stdout",
          "output_type": "stream",
          "text": [
            "[1, 2, 3]\n"
          ]
        }
      ],
      "source": [
        "seq2 = range(1,4) # 1, 2, 3\n",
        "print(list(seq2))"
      ]
    },
    {
      "cell_type": "code",
      "execution_count": 47,
      "metadata": {},
      "outputs": [
        {
          "name": "stdout",
          "output_type": "stream",
          "text": [
            "[1, 4, 7]\n"
          ]
        }
      ],
      "source": [
        "seq3 = range(1,9,3) # 1, 4, 7\n",
        "print(list(seq3))"
      ]
    },
    {
      "cell_type": "markdown",
      "metadata": {},
      "source": [
        "<!--@slideshow slide-->\n",
        "\n",
        "### Strings\n",
        "\n",
        "* Python provides the `str` data type for character strings\n",
        "* Objects of type `str` are similar to lists:"
      ]
    },
    {
      "cell_type": "code",
      "execution_count": 57,
      "metadata": {},
      "outputs": [
        {
          "name": "stdout",
          "output_type": "stream",
          "text": [
            "hell\n",
            "13\n",
            "False\n",
            "True\n",
            "True\n"
          ]
        }
      ],
      "source": [
        "my_string = \"hello, world!\"\n",
        "print(my_string[0:4])\n",
        "print(len(my_string))\n",
        "print(\"wrold\" in my_string)\n",
        "print(\"world\" in my_string)\n",
        "print(\"ld!\" in my_string)"
      ]
    },
    {
      "cell_type": "markdown",
      "metadata": {},
      "source": [
        "* `str` offers some helpful dedicated functions\n",
        "* `str` objects are immutable\n",
        "* functions like `.replace(..)` return a new string!\n"
      ]
    },
    {
      "cell_type": "code",
      "execution_count": 53,
      "metadata": {},
      "outputs": [],
      "source": [
        "my_list = [1,2,3]\n",
        "my_list.remove(2)"
      ]
    },
    {
      "cell_type": "code",
      "execution_count": 54,
      "metadata": {},
      "outputs": [
        {
          "data": {
            "text/plain": [
              "[1, 3]"
            ]
          },
          "execution_count": 54,
          "metadata": {},
          "output_type": "execute_result"
        }
      ],
      "source": [
        "my_list"
      ]
    },
    {
      "cell_type": "code",
      "execution_count": 58,
      "metadata": {},
      "outputs": [
        {
          "data": {
            "text/plain": [
              "'Hello, world!'"
            ]
          },
          "execution_count": 58,
          "metadata": {},
          "output_type": "execute_result"
        }
      ],
      "source": [
        "my_string = my_string.capitalize()\n",
        "print(my_string)\n",
        "print(my_string.islower())\n"
      ]
    },
    {
      "cell_type": "code",
      "execution_count": 60,
      "metadata": {},
      "outputs": [
        {
          "name": "stdout",
          "output_type": "stream",
          "text": [
            "hello, Mars!\n"
          ]
        }
      ],
      "source": [
        "my_string = my_string.replace('world', 'Mars')\n",
        "\n",
        "print(my_string)\n"
      ]
    },
    {
      "cell_type": "markdown",
      "metadata": {},
      "source": [
        "The number of occurences of a certain substring can be determined using `.count(substring)`"
      ]
    },
    {
      "cell_type": "code",
      "execution_count": 61,
      "metadata": {},
      "outputs": [
        {
          "name": "stdout",
          "output_type": "stream",
          "text": [
            "2\n"
          ]
        }
      ],
      "source": [
        "txt = \"I love apples, apple are my favorite fruit\"\n",
        "\n",
        "x = txt.count(\"apple\")\n",
        "\n",
        "print(x)"
      ]
    },
    {
      "cell_type": "markdown",
      "metadata": {
        "id": "OuuZPEv30jQl"
      },
      "source": [
        "<!--@slideshow slide-->\n",
        "\n",
        "### Python Tuples\n",
        "\n",
        "A `tuple` combines multiple items in an ordered fashion\n",
        "\n",
        "* Tuples can hold arbitrary data types\n",
        "* Tuples are immutable, i.e., they cannot be modified after creation\n",
        "* Tuples have a fixed length\n",
        "* Loosely speaking, they behave like read-only lists. However, their inteded usage also covers groups of values which must stay together over the runtime.\n",
        "\n",
        "<!--@slideshow slide-->\n",
        "#### A Cardgame example"
      ]
    },
    {
      "cell_type": "code",
      "execution_count": null,
      "metadata": {
        "colab": {
          "base_uri": "https://localhost:8080/"
        },
        "id": "2DlPAA201VCO",
        "outputId": "42a0a058-c897-4a7f-f81b-5211932608ce"
      },
      "outputs": [
        {
          "name": "stdout",
          "output_type": "stream",
          "text": [
            "[2, 3, 4, 5, 6, 7, 8, 9, 10, 'J', 'Q', 'K', 'A']\n",
            "[('H', 2), ('H', 3), ('H', 4), ('H', 5), ('H', 6), ('H', 7), ('H', 8), ('H', 9), ('H', 10), ('H', 'J'), ('H', 'Q'), ('H', 'K'), ('H', 'A'), ('S', 2), ('S', 3), ('S', 4), ('S', 5), ('S', 6), ('S', 7), ('S', 8), ('S', 9), ('S', 10), ('S', 'J'), ('S', 'Q'), ('S', 'K'), ('S', 'A'), ('C', 2), ('C', 3), ('C', 4), ('C', 5), ('C', 6), ('C', 7), ('C', 8), ('C', 9), ('C', 10), ('C', 'J'), ('C', 'Q'), ('C', 'K'), ('C', 'A'), ('D', 2), ('D', 3), ('D', 4), ('D', 5), ('D', 6), ('D', 7), ('D', 8), ('D', 9), ('D', 10), ('D', 'J'), ('D', 'Q'), ('D', 'K'), ('D', 'A')]\n"
          ]
        }
      ],
      "source": [
        "colors = (\"H\",\"S\",\"C\",\"D\")\n",
        "ranks = list(range(2,11)) + [\"J\",\"Q\",\"K\",\"A\"]\n",
        "print(ranks)\n",
        "\n",
        "deck = list(itertools.product(colors, ranks))\n",
        "print(deck)"
      ]
    },
    {
      "cell_type": "markdown",
      "metadata": {
        "id": "LKPlvBWfC6uo"
      },
      "source": [
        "Question:\n",
        "Using `import random`, `random.shuffle(deck)` you can shuffle our deck. How would you deal cards to players using slicing?\n"
      ]
    },
    {
      "cell_type": "markdown",
      "metadata": {
        "id": "u5811TS-ELgV"
      },
      "source": [
        "<!--@slideshow slide-->\n",
        "### Python dictionaries\n",
        "\n",
        "`dict` is an essential data type in Python implementing a look-up functionality\n",
        "* Objects (Values) are stored with identifiers (keys)\n",
        " * We refer to these combinations as key-value pairs\n",
        "* They allow looking up values in a minimal database using `dictionary[\"key\"]` or `dictionary.get(\"key\")`\n",
        " * The latter approach is safer as it will return `None` if a value is not found in the `dict`"
      ]
    },
    {
      "cell_type": "code",
      "execution_count": 63,
      "metadata": {
        "colab": {
          "base_uri": "https://localhost:8080/"
        },
        "id": "F8ds7GHv1_uf",
        "outputId": "0775db1d-43f4-48e1-8ec4-24f2d2e133bc"
      },
      "outputs": [],
      "source": [
        "myFirstDictionary = { \"firstname\": \"John\", \"lastname\": \"Doe\" }\n"
      ]
    },
    {
      "cell_type": "code",
      "execution_count": 64,
      "metadata": {},
      "outputs": [
        {
          "data": {
            "text/plain": [
              "'John'"
            ]
          },
          "execution_count": 64,
          "metadata": {},
          "output_type": "execute_result"
        }
      ],
      "source": [
        "myFirstDictionary[\"firstname\"]"
      ]
    },
    {
      "cell_type": "code",
      "execution_count": 65,
      "metadata": {},
      "outputs": [
        {
          "data": {
            "text/plain": [
              "'John'"
            ]
          },
          "execution_count": 65,
          "metadata": {},
          "output_type": "execute_result"
        }
      ],
      "source": [
        "myFirstDictionary.get(\"firstname\")"
      ]
    },
    {
      "cell_type": "code",
      "execution_count": 67,
      "metadata": {},
      "outputs": [
        {
          "ename": "KeyError",
          "evalue": "'address'",
          "output_type": "error",
          "traceback": [
            "\u001b[0;31m---------------------------------------------------------------------------\u001b[0m",
            "\u001b[0;31mKeyError\u001b[0m                                  Traceback (most recent call last)",
            "Cell \u001b[0;32mIn[67], line 1\u001b[0m\n\u001b[0;32m----> 1\u001b[0m \u001b[38;5;28mprint\u001b[39m(\u001b[43mmyFirstDictionary\u001b[49m\u001b[43m[\u001b[49m\u001b[38;5;124;43m\"\u001b[39;49m\u001b[38;5;124;43maddress\u001b[39;49m\u001b[38;5;124;43m\"\u001b[39;49m\u001b[43m]\u001b[49m)\n",
            "\u001b[0;31mKeyError\u001b[0m: 'address'"
          ]
        }
      ],
      "source": [
        "# throws an error if key is not populated\n",
        "print(myFirstDictionary[\"address\"])"
      ]
    },
    {
      "cell_type": "code",
      "execution_count": 68,
      "metadata": {},
      "outputs": [
        {
          "name": "stdout",
          "output_type": "stream",
          "text": [
            "None\n"
          ]
        }
      ],
      "source": [
        "# safe approach:\n",
        "print(myFirstDictionary.get(\"address\"))"
      ]
    },
    {
      "cell_type": "markdown",
      "metadata": {
        "id": "X3edi73JFYpB"
      },
      "source": [
        "<!--@slideshow slide-->\n",
        "\n",
        "Using dictionaries of dictionaries we can create fairly complicated lookup settings:"
      ]
    },
    {
      "cell_type": "code",
      "execution_count": 69,
      "metadata": {
        "id": "jATn-MmTEyAS"
      },
      "outputs": [],
      "source": [
        "persons = {\"1\" : {\"firstname\": \"Chris\", \"lastname\" : \"Flath\"}, \"2\" : {\"firstname\" : \"Niko\", \"lastname\" : \"Stein\"}}"
      ]
    },
    {
      "cell_type": "code",
      "execution_count": 70,
      "metadata": {
        "colab": {
          "base_uri": "https://localhost:8080/"
        },
        "id": "asvJBnGbF1K8",
        "outputId": "d0f094f0-a98e-4d0b-8de1-23217f5036d1"
      },
      "outputs": [
        {
          "data": {
            "text/plain": [
              "{'firstname': 'Chris', 'lastname': 'Flath'}"
            ]
          },
          "execution_count": 70,
          "metadata": {},
          "output_type": "execute_result"
        }
      ],
      "source": [
        "persons[\"1\"]"
      ]
    },
    {
      "cell_type": "code",
      "execution_count": 71,
      "metadata": {
        "colab": {
          "base_uri": "https://localhost:8080/",
          "height": 35
        },
        "id": "OocRhdK6F3BV",
        "outputId": "9ef5eb7e-6d52-4876-8116-a50f6863592a"
      },
      "outputs": [
        {
          "data": {
            "text/plain": [
              "'Stein'"
            ]
          },
          "execution_count": 71,
          "metadata": {},
          "output_type": "execute_result"
        }
      ],
      "source": [
        "persons[\"2\"][\"lastname\"]"
      ]
    },
    {
      "cell_type": "code",
      "execution_count": 72,
      "metadata": {
        "colab": {
          "base_uri": "https://localhost:8080/",
          "height": 165
        },
        "id": "9LhhrZTuF7Wg",
        "outputId": "fa5bba13-b516-4c93-9f1f-153d66bef9cf"
      },
      "outputs": [
        {
          "ename": "KeyError",
          "evalue": "'3'",
          "output_type": "error",
          "traceback": [
            "\u001b[0;31m---------------------------------------------------------------------------\u001b[0m",
            "\u001b[0;31mKeyError\u001b[0m                                  Traceback (most recent call last)",
            "Cell \u001b[0;32mIn[72], line 1\u001b[0m\n\u001b[0;32m----> 1\u001b[0m \u001b[43mpersons\u001b[49m\u001b[43m[\u001b[49m\u001b[38;5;124;43m\"\u001b[39;49m\u001b[38;5;124;43m3\u001b[39;49m\u001b[38;5;124;43m\"\u001b[39;49m\u001b[43m]\u001b[49m\n",
            "\u001b[0;31mKeyError\u001b[0m: '3'"
          ]
        }
      ],
      "source": [
        "persons[\"3\"]"
      ]
    },
    {
      "cell_type": "code",
      "execution_count": 73,
      "metadata": {
        "id": "HFD9ApbQF9Bc"
      },
      "outputs": [],
      "source": [
        "persons.get(\"4\")"
      ]
    },
    {
      "cell_type": "markdown",
      "metadata": {
        "id": "2b4WIpVIITeb"
      },
      "source": [
        "<!--@slideshow slide-->\n",
        "\n",
        "## Control Structures\n",
        "\n",
        "\n",
        "Python uses indentations to structure code avoiding additional parentheses\n",
        "- Consecutive lines with depth form block\n",
        "- In the Python environment, blocks are called suites\n",
        "- Python provides control structures for program flow\n",
        "\n",
        "\n",
        "### Conditional statements with `if`, `else`, `elif` or `switch`\n"
      ]
    },
    {
      "cell_type": "code",
      "execution_count": 80,
      "metadata": {
        "colab": {
          "base_uri": "https://localhost:8080/"
        },
        "id": "6ZG5q_LXHeNO",
        "outputId": "faff6a91-cf97-49cb-e74c-cf2be7d908f1"
      },
      "outputs": [
        {
          "name": "stdout",
          "output_type": "stream",
          "text": [
            "x greater than 100\n"
          ]
        }
      ],
      "source": [
        "x = 150\n",
        "if x > 100:\n",
        "  print(\"x greater than 100\")\n",
        "elif x >= 30:\n",
        "  print(\"x greater equal 30\")\n",
        "else:\n",
        "  print(\"x is less than 30\")"
      ]
    },
    {
      "cell_type": "markdown",
      "metadata": {
        "id": "jD-lROsGelr6"
      },
      "source": [
        "<!--@slideshow slide-->\n",
        "\n",
        "### Loops with `for` or `while`\n",
        "\n",
        "Loops execute code blocks multiple times\n",
        "\n"
      ]
    },
    {
      "cell_type": "markdown",
      "metadata": {},
      "source": [
        "<!--@slideshow slide-->\n",
        "\n",
        "* `for` loop is used on iterable elements (lists, sequences)"
      ]
    },
    {
      "cell_type": "code",
      "execution_count": 81,
      "metadata": {},
      "outputs": [
        {
          "name": "stdout",
          "output_type": "stream",
          "text": [
            "1\n",
            "2\n",
            "3\n",
            "4\n"
          ]
        }
      ],
      "source": [
        "xs = [1, 2, 3, 4]\n",
        "for x in xs:\n",
        "  print(x)"
      ]
    },
    {
      "cell_type": "code",
      "execution_count": 82,
      "metadata": {},
      "outputs": [],
      "source": [
        "my_dict = {\"a\" : 5, \"b\" : 10, \"c\" : 15}"
      ]
    },
    {
      "cell_type": "code",
      "execution_count": 87,
      "metadata": {},
      "outputs": [
        {
          "data": {
            "text/plain": [
              "dict_keys(['a', 'b', 'c'])"
            ]
          },
          "execution_count": 87,
          "metadata": {},
          "output_type": "execute_result"
        }
      ],
      "source": [
        "my_dict.keys()"
      ]
    },
    {
      "cell_type": "code",
      "execution_count": 88,
      "metadata": {},
      "outputs": [
        {
          "name": "stdout",
          "output_type": "stream",
          "text": [
            "5\n",
            "10\n",
            "15\n"
          ]
        }
      ],
      "source": [
        "for i in my_dict:\n",
        "    print(my_dict[i])"
      ]
    },
    {
      "cell_type": "markdown",
      "metadata": {},
      "source": [
        "* `while` loop checks for a condition"
      ]
    },
    {
      "cell_type": "code",
      "execution_count": 92,
      "metadata": {
        "colab": {
          "base_uri": "https://localhost:8080/"
        },
        "id": "5py1vlfid7HI",
        "outputId": "5d6d2dc8-8a6d-4177-91ba-45e65ca23b52"
      },
      "outputs": [
        {
          "name": "stdout",
          "output_type": "stream",
          "text": [
            "[0, 1, 2, 3, 4, 5, 6, 7, 8, 9]\n"
          ]
        }
      ],
      "source": [
        "i = 0\n",
        "xs = []\n",
        "while i < 10:\n",
        "  xs.append(i)\n",
        "  i = i + 1\n",
        "print(xs)\n"
      ]
    },
    {
      "cell_type": "markdown",
      "metadata": {
        "id": "T-p3W6WQ8S77"
      },
      "source": [
        "<!--@slideshow slide-->\n",
        "\n",
        "## List Comprehension\n",
        "\n",
        "Control structures enable list comprehension in Python\n",
        "- Mathematically, sets can be defined compactly,\n",
        "e.g., a set of square numbers $\\{x^2 | x \\in {1,2,...n}\\}$"
      ]
    },
    {
      "cell_type": "code",
      "execution_count": 95,
      "metadata": {
        "colab": {
          "base_uri": "https://localhost:8080/"
        },
        "id": "C4etRG-V8NFq",
        "outputId": "ff593042-bd1c-41ee-bd96-643b8eda7a8d"
      },
      "outputs": [
        {
          "data": {
            "text/plain": [
              "[1, 4, 9, 16, 25, 36, 49, 64, 81, 100, 121, 144, 169, 196, 225]"
            ]
          },
          "execution_count": 95,
          "metadata": {},
          "output_type": "execute_result"
        }
      ],
      "source": [
        "n=15\n",
        "[x**2 for x in range(1, n+1)]"
      ]
    },
    {
      "cell_type": "markdown",
      "metadata": {
        "id": "iEEk-385EQ4a"
      },
      "source": [
        "* List comprehension can be combined with conditional statements\n",
        " * for example, only select even numbers:"
      ]
    },
    {
      "cell_type": "code",
      "execution_count": null,
      "metadata": {
        "colab": {
          "base_uri": "https://localhost:8080/"
        },
        "id": "k9YKVpy-DtvO",
        "outputId": "d55f4419-5cbf-4506-9c97-561a3ae3773a"
      },
      "outputs": [
        {
          "data": {
            "text/plain": [
              "[2, 4]"
            ]
          },
          "execution_count": 8,
          "metadata": {},
          "output_type": "execute_result"
        }
      ],
      "source": [
        "xs = list(range(1,6))\n",
        "[x for x in xs if x% 2 == 0]"
      ]
    },
    {
      "cell_type": "markdown",
      "metadata": {
        "id": "T1aqcWq5Eqg2"
      },
      "source": [
        "<!--@slideshow slide-->\n",
        "\n",
        "## Functions\n",
        "### Regular functions are defined using `def`\n",
        "* They consist of a name, optional arguments and the code block\n",
        "* The code can be complemented by description (`docstring`)\n",
        " * Example 1: $f(x) := x^3 + 5x^2 + 27$\n",
        " * Example 2: $g(x) := |x|$"
      ]
    },
    {
      "cell_type": "code",
      "execution_count": 96,
      "metadata": {
        "id": "4agJSQvtElx2"
      },
      "outputs": [],
      "source": [
        "def f(x):\n",
        "  \"\"\"\n",
        "  This is my cool function.\n",
        "  \"\"\"\n",
        "  value = x**3 + 5*x**2 + 27\n",
        "  return value"
      ]
    },
    {
      "cell_type": "code",
      "execution_count": 98,
      "metadata": {},
      "outputs": [
        {
          "data": {
            "text/plain": [
              "27"
            ]
          },
          "execution_count": 98,
          "metadata": {},
          "output_type": "execute_result"
        }
      ],
      "source": [
        "f(0)"
      ]
    },
    {
      "cell_type": "code",
      "execution_count": null,
      "metadata": {
        "colab": {
          "base_uri": "https://localhost:8080/"
        },
        "id": "4HlWuPPuFJXO",
        "outputId": "78b27993-38fd-4ce9-a65f-c94921c5adfe"
      },
      "outputs": [
        {
          "data": {
            "text/plain": [
              "277"
            ]
          },
          "execution_count": 10,
          "metadata": {},
          "output_type": "execute_result"
        }
      ],
      "source": [
        "f(5)"
      ]
    },
    {
      "cell_type": "code",
      "execution_count": 106,
      "metadata": {
        "id": "M-ppuIZQFl5t"
      },
      "outputs": [],
      "source": [
        "def g(x):\n",
        "  \"\"\"\n",
        "  Function returns the absolute value of the argument.\n",
        "  \"\"\"\n",
        "  if(x>=0):\n",
        "    return(x)\n",
        "  else:\n",
        "    return(-x)"
      ]
    },
    {
      "cell_type": "code",
      "execution_count": 105,
      "metadata": {
        "colab": {
          "base_uri": "https://localhost:8080/"
        },
        "id": "jR4VtKu1Fw_d",
        "outputId": "9fc544ac-beac-4df6-c2ff-9b70fb321a7f"
      },
      "outputs": [
        {
          "data": {
            "text/plain": [
              "0"
            ]
          },
          "execution_count": 105,
          "metadata": {},
          "output_type": "execute_result"
        }
      ],
      "source": [
        "g(0)"
      ]
    },
    {
      "cell_type": "markdown",
      "metadata": {
        "id": "aFvpLh8RFYki"
      },
      "source": [
        "<!--@slideshow slide-->\n",
        "\n",
        "* Functions arguments can be set to default values:"
      ]
    },
    {
      "cell_type": "code",
      "execution_count": 116,
      "metadata": {
        "colab": {
          "base_uri": "https://localhost:8080/"
        },
        "id": "NnCH3pWzF71v",
        "outputId": "57b908ba-a2ae-4f5f-9cea-2b823874ee49"
      },
      "outputs": [
        {
          "name": "stdout",
          "output_type": "stream",
          "text": [
            "Hello, World! This is Pluto\n",
            "Hello, Python! This is Pluto\n",
            "Hello, Python! This is Java\n"
          ]
        }
      ],
      "source": [
        "def greet(name = \"World\", caller = \"Pluto\"):\n",
        "  \"\"\"\n",
        "  Say hello to argument, if none is provided say hello world\n",
        "  \"\"\"\n",
        "  print( \"Hello, \" + name + \"! This is \" + caller)\n",
        "\n",
        "greet()\n",
        "greet(\"Python\")\n",
        "greet(name=\"Python\", caller=\"Java\")"
      ]
    },
    {
      "cell_type": "markdown",
      "metadata": {
        "id": "9G1vn281GWqE"
      },
      "source": [
        "<!--@slideshow slide-->\n",
        "\n",
        "### Helper functions using lambda\n",
        "* Often we need a small helper function for a localized task\n",
        "* Lambda functions offer the capabilities of regular functions without any memory or management overhead\n",
        "* Particularly popular in combination with list comprehension or filtering"
      ]
    },
    {
      "cell_type": "code",
      "execution_count": 3,
      "metadata": {
        "colab": {
          "base_uri": "https://localhost:8080/"
        },
        "id": "MEMm-JixFMh1",
        "outputId": "41b8d5eb-a2ba-40df-efb7-c15941677b3b"
      },
      "outputs": [
        {
          "name": "stdout",
          "output_type": "stream",
          "text": [
            "25\n"
          ]
        },
        {
          "data": {
            "text/plain": [
              "[25, 9, 4, 1]"
            ]
          },
          "execution_count": 3,
          "metadata": {},
          "output_type": "execute_result"
        }
      ],
      "source": [
        "def squareValue(x):\n",
        "    return(x**2)\n",
        "\n",
        "print(squareValue(5))\n",
        "\n",
        "xs = [5, 3, 2, 1]\n",
        "\n",
        "list(map(lambda x : x**2, xs))"
      ]
    },
    {
      "cell_type": "markdown",
      "metadata": {
        "id": "uBmNtzEaH4tb"
      },
      "source": [
        "<!--@slideshow slide-->\n",
        "\n",
        "* The filter function selects elements from sequences"
      ]
    },
    {
      "cell_type": "code",
      "execution_count": 4,
      "metadata": {
        "colab": {
          "base_uri": "https://localhost:8080/"
        },
        "id": "MnEVU4odHn37",
        "outputId": "67b2b08c-0f19-400b-b8cc-f876918eef36"
      },
      "outputs": [
        {
          "name": "stdout",
          "output_type": "stream",
          "text": [
            "['data scientist', 'data engineer', 'data analyst']\n",
            "['data engineer', 'software engineer']\n"
          ]
        }
      ],
      "source": [
        "jobs = [\"programmer\", \"data scientist\", \"data engineer\",\n",
        "\"data analyst\", \"developer\", \"software engineer\"]\n",
        "print(list(filter( lambda job : \"data\" in job, jobs )))\n",
        "print(list(filter( lambda job : \"engineer\" in job, jobs )))"
      ]
    }
  ],
  "metadata": {
    "colab": {
      "provenance": []
    },
    "kernelspec": {
      "display_name": "Python 3",
      "name": "python3"
    },
    "language_info": {
      "codemirror_mode": {
        "name": "ipython",
        "version": 3
      },
      "file_extension": ".py",
      "mimetype": "text/x-python",
      "name": "python",
      "nbconvert_exporter": "python",
      "pygments_lexer": "ipython3",
      "version": "3.10.13"
    }
  },
  "nbformat": 4,
  "nbformat_minor": 0
}
