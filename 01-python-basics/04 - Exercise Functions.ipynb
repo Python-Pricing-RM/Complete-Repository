{
 "cells": [
  {
   "cell_type": "markdown",
   "metadata": {},
   "source": [
    "## Functions\n",
    "1. Define a Python function `apply_discount` that takes a dictionary of products and a discount percentage, applies the discount to each product's price, and returns the updated dictionary."
   ]
  },
  {
   "cell_type": "code",
   "execution_count": 36,
   "metadata": {},
   "outputs": [
    {
     "data": {
      "text/plain": [
       "{'Product A': 30.0, 'Product B': 18.75, 'Product C': 26.25}"
      ]
     },
     "execution_count": 36,
     "metadata": {},
     "output_type": "execute_result"
    }
   ],
   "source": [
    "products = {'Product A': 40, 'Product B': 25, 'Product C': 35}\n",
    "\n",
    "def apply_discount(products, percentage):\n",
    "    percentage = percentage / 100.0 #turn percentage into decimal between 0 and 1\n",
    "    for p in products: #iterate over keys\n",
    "        products[p] = products[p] * (1-percentage) #look up each key multiply the value by 1 - percentage and overwrite the value\n",
    "\n",
    "apply_discount(products, 25) #apply the function to our products\n",
    "\n",
    "products"
   ]
  },
  {
   "cell_type": "markdown",
   "metadata": {},
   "source": [
    " 2. Write a function `calculate_total_revenue` that takes a list of prices and a corresponding list of quantities sold, and returns the total revenue."
   ]
  },
  {
   "cell_type": "code",
   "execution_count": 39,
   "metadata": {},
   "outputs": [
    {
     "data": {
      "text/plain": [
       "100"
      ]
     },
     "execution_count": 39,
     "metadata": {},
     "output_type": "execute_result"
    }
   ],
   "source": [
    "prices = [10, 20, 30]\n",
    "quantities_sold = [100, 80, 60]\n",
    "\n",
    "def calculate_total_revenue (prices, quantities_sold):\n",
    "    revenue = 0     # intialize the total revenue at zero\n",
    "    for p,q in zip(prices, quantities_sold): #iterate over price - quantity pairs (pairs are created using zip function and p refers to first component, q to the second component)\n",
    "        revenue = revenue + p*q #increment revenue by p*q\n",
    "    return revenue #after iteration is finished return the calculated total revenue\n",
    "\n",
    "calculate_total_revenue(prices, quantities_sold) #apply function to demo data"
   ]
  },
  {
   "cell_type": "markdown",
   "metadata": {},
   "source": [
    " 3. Create a lambda function to sort a list of dictionaries by price and test it with different product lists."
   ]
  },
  {
   "cell_type": "code",
   "execution_count": 44,
   "metadata": {},
   "outputs": [
    {
     "data": {
      "text/plain": [
       "[{'name': 'Product D', 'price': 10},\n",
       " {'name': 'Product B', 'price': 20},\n",
       " {'name': 'Product A', 'price': 40},\n",
       " {'name': 'Product C', 'price': 70}]"
      ]
     },
     "execution_count": 44,
     "metadata": {},
     "output_type": "execute_result"
    }
   ],
   "source": [
    "products = [{'name': 'Product A', 'price': 40},\n",
    "            {'name': 'Product B', 'price': 20},\n",
    "            {'name': 'Product C', 'price': 70},\n",
    "            {'name': 'Product D', 'price': 10}\n",
    "            ]\n",
    "\n",
    "sorted(products, key=lambda product: product['price']) #first argument: the object to be sorted (in this case products), the second argument what to sort by - this is realized via a lambda function which for each object looks up its price"
   ]
  },
  {
   "cell_type": "markdown",
   "metadata": {},
   "source": [
    "4. Use the `filter` function to create a list of products that are within a specified price range from a dictionary of products.\n"
   ]
  },
  {
   "cell_type": "code",
   "execution_count": 46,
   "metadata": {},
   "outputs": [
    {
     "name": "stdout",
     "output_type": "stream",
     "text": [
      "['Product A']\n"
     ]
    }
   ],
   "source": [
    "products = {'Product A': 40, 'Product B': 25, 'Product C': 60}\n",
    "min_price = 30\n",
    "max_price = 50\n",
    "\n",
    " #the lambda function simply returns true false by establishing whether or not the price of a product is in the interval, based on the true false they are filtered\n",
    "print(list(filter( lambda product : products[product] >= min_price and products[product] <= max_price, products )))"
   ]
  },
  {
   "cell_type": "markdown",
   "metadata": {},
   "source": [
    "5. Write a Python function `group_by_category` that takes a list of products (each represented as a dictionary) and groups them by category, returning a dictionary where the keys are categories and the values are lists of products in those categories."
   ]
  },
  {
   "cell_type": "code",
   "execution_count": 51,
   "metadata": {},
   "outputs": [
    {
     "name": "stdout",
     "output_type": "stream",
     "text": [
      "{'Electronics': [{'name': 'Product A', 'category': 'Electronics', 'revenue': 100}], 'Furniture': [{'name': 'Product B', 'category': 'Furniture', 'revenue': 200}, {'name': 'Product C', 'category': 'Furniture', 'revenue': 300}]}\n"
     ]
    },
    {
     "data": {
      "text/plain": [
       "{'Electronics': 100, 'Furniture': 500}"
      ]
     },
     "execution_count": 51,
     "metadata": {},
     "output_type": "execute_result"
    }
   ],
   "source": [
    "products = [{'name': 'Product A', 'category': 'Electronics', \"revenue\" : 100}, {'name': 'Product B', 'category': 'Furniture', \"revenue\" : 200},\n",
    "            {'name': 'Product C', 'category': 'Furniture', \"revenue\" : 300}]\n",
    "\n",
    "\n",
    "categorizedProducts = {} #a dictionary with keys for product categories is desired, under each key we expect a product list like the initial one\n",
    "\n",
    "for p in products: #iterate over products\n",
    "    category = p['category'] #retrieve the category of product p\n",
    "    if category in categorizedProducts.keys(): #check if category is already present in categorizedProducts\n",
    "        categorizedProducts[category].append(p) #append product p to the existing list at key category\n",
    "    else:\n",
    "        categorizedProducts[category] = [] #if not create key and create an empty list as value\n",
    "        categorizedProducts[category].append(p) #append product p to the newly created list\n",
    "    \n",
    "print(categorizedProducts)\n",
    "\n",
    "#Extra Example for category Revenue\n",
    "\n",
    "categoryRevenue = {}\n",
    "\n",
    "for p in products: #iterate over products\n",
    "    category = p['category'] #retrieve the category of product p\n",
    "    if category in categoryRevenue.keys(): #check if category is already present in categoryRevenue\n",
    "        categoryRevenue[category] = categoryRevenue[category] + p[\"revenue\"] #increment the revenue in the category\n",
    "    else:\n",
    "        categoryRevenue[category] = p[\"revenue\"] #initializle the revenue with the value\n",
    "    \n",
    "categoryRevenue"
   ]
  }
 ],
 "metadata": {
  "kernelspec": {
   "display_name": "Python 3",
   "language": "python",
   "name": "python3"
  },
  "language_info": {
   "codemirror_mode": {
    "name": "ipython",
    "version": 3
   },
   "file_extension": ".py",
   "mimetype": "text/x-python",
   "name": "python",
   "nbconvert_exporter": "python",
   "pygments_lexer": "ipython3",
   "version": "3.10.13"
  }
 },
 "nbformat": 4,
 "nbformat_minor": 2
}
