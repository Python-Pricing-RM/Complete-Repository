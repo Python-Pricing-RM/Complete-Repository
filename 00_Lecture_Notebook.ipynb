{
 "cells": [
  {
   "cell_type": "markdown",
   "metadata": {},
   "source": [
    "# Integer Programming with PuLP"
   ]
  },
  {
   "cell_type": "code",
   "execution_count": 267,
   "metadata": {},
   "outputs": [],
   "source": [
    "try:\n",
    "  from pulp import *\n",
    "except:\n",
    "  !pip install pulp\n",
    "  from pulp import *"
   ]
  },
  {
   "cell_type": "markdown",
   "metadata": {},
   "source": [
    "## Knapsack Problem"
   ]
  },
  {
   "cell_type": "code",
   "execution_count": 268,
   "metadata": {},
   "outputs": [],
   "source": [
    "items = {1: {\"weight\" : 2, \"value\" : 1},\n",
    "         2: {\"weight\" : 3, \"value\" : 4},\n",
    "         3: {\"weight\" : 5, \"value\" : 5},\n",
    "         4: {\"weight\" : 7, \"value\" : 3},\n",
    "         5: {\"weight\" : 11, \"value\" : 6}}\n",
    "\n",
    "capacity = 15"
   ]
  },
  {
   "cell_type": "code",
   "execution_count": 269,
   "metadata": {},
   "outputs": [
    {
     "data": {
      "text/plain": [
       "knapsack-Problem:\n",
       "MAXIMIZE\n",
       "1*pack_1 + 4*pack_2 + 5*pack_3 + 3*pack_4 + 6*pack_5 + 0\n",
       "SUBJECT TO\n",
       "weight_constraint: 2 pack_1 + 3 pack_2 + 5 pack_3 + 7 pack_4 + 11 pack_5 <= 15\n",
       "\n",
       "VARIABLES\n",
       "0 <= pack_1 <= 1 Integer\n",
       "0 <= pack_2 <= 1 Integer\n",
       "0 <= pack_3 <= 1 Integer\n",
       "0 <= pack_4 <= 1 Integer\n",
       "0 <= pack_5 <= 1 Integer"
      ]
     },
     "execution_count": 269,
     "metadata": {},
     "output_type": "execute_result"
    }
   ],
   "source": [
    "model = LpProblem(\"knapsack-Problem\", LpMaximize)\n",
    "pack = LpVariable.dict(\"pack\", items.keys(), cat = 'Binary')\n",
    "model += lpSum(pack[i] * items[i][\"value\"] for i in items)\n",
    "model += lpSum(pack[i] * items[i][\"weight\"] for i in items) <= capacity, \"weight constraint\"\n",
    "model"
   ]
  },
  {
   "cell_type": "code",
   "execution_count": 270,
   "metadata": {},
   "outputs": [
    {
     "data": {
      "text/plain": [
       "1"
      ]
     },
     "execution_count": 270,
     "metadata": {},
     "output_type": "execute_result"
    }
   ],
   "source": [
    "model.solve(PULP_CBC_CMD(msg=0))"
   ]
  },
  {
   "cell_type": "code",
   "execution_count": 271,
   "metadata": {},
   "outputs": [
    {
     "name": "stdout",
     "output_type": "stream",
     "text": [
      "Item 2 is packed.\n",
      "Item 3 is packed.\n",
      "Item 4 is packed.\n",
      "Total backpack value is 12.0.\n"
     ]
    }
   ],
   "source": [
    "for i in items:\n",
    "  if pack[i].varValue > 0.8:\n",
    "    print(f\"Item {i} is packed.\")\n",
    "\n",
    "print(f\"Total backpack value is {model.objective.value()}.\")"
   ]
  },
  {
   "cell_type": "markdown",
   "metadata": {},
   "source": [
    "## A Capital Budgeting Problem"
   ]
  },
  {
   "cell_type": "markdown",
   "metadata": {},
   "source": [
    "* A company has $250,000 available to invest in new projects\n",
    "* Projects are characterized by their NPV and their ongoing support requirements\n",
    "* NPV captures the full economic benefit\n",
    "\n",
    "* For continued support of these projects the following budgets are available:\n",
    "    * $75,000 in year 2 \n",
    "    * $50,000 each in years 3, 4, and 5\n",
    "\n",
    "* Unused funds in any year cannot be carried over"
   ]
  },
  {
   "cell_type": "code",
   "execution_count": 272,
   "metadata": {},
   "outputs": [
    {
     "name": "stdout",
     "output_type": "stream",
     "text": [
      "capital-budget-Problem:\n",
      "MAXIMIZE\n",
      "141*invest_1 + 187*invest_2 + 121*invest_3 + 83*invest_4 + 265*invest_5 + 127*invest_6 + 0\n",
      "SUBJECT TO\n",
      "budget_constraintYear_1: 75 invest_1 + 90 invest_2 + 60 invest_3 + 30 invest_4\n",
      " + 100 invest_5 + 50 invest_6 <= 250\n",
      "\n",
      "budget_constraintYear_2: 25 invest_1 + 35 invest_2 + 15 invest_3 + 20 invest_4\n",
      " + 25 invest_5 + 20 invest_6 <= 750\n",
      "\n",
      "budget_constraintYear_3: 20 invest_1 + 15 invest_3 + 10 invest_4 + 20 invest_5\n",
      " + 10 invest_6 <= 50\n",
      "\n",
      "budget_constraintYear_4: 15 invest_1 + 15 invest_3 + 5 invest_4 + 20 invest_5\n",
      " + 30 invest_6 <= 50\n",
      "\n",
      "budget_constraintYear_5: 10 invest_1 + 30 invest_2 + 15 invest_3 + 5 invest_4\n",
      " + 20 invest_5 + 40 invest_6 <= 50\n",
      "\n",
      "VARIABLES\n",
      "0 <= invest_1 <= 1 Integer\n",
      "0 <= invest_2 <= 1 Integer\n",
      "0 <= invest_3 <= 1 Integer\n",
      "0 <= invest_4 <= 1 Integer\n",
      "0 <= invest_5 <= 1 Integer\n",
      "0 <= invest_6 <= 1 Integer\n",
      "\n",
      "1.0\n",
      "0.0\n",
      "0.0\n",
      "1.0\n",
      "1.0\n",
      "0.0\n",
      "Total investment value is 489.0.\n"
     ]
    }
   ],
   "source": [
    "year_budgets = {\"Year 1\" : 250, \"Year 2\" : 750, \"Year 3\" : 50, \"Year 4\" : 50, \"Year 5\" : 50}\n",
    "\n",
    "projects_dict = {\n",
    "    1: {\"NPV\": 141, \"Year 1\": 75, \"Year 2\": 25, \"Year 3\": 20, \"Year 4\": 15, \"Year 5\": 10},\n",
    "    2: {\"NPV\": 187, \"Year 1\": 90, \"Year 2\": 35, \"Year 3\": 0, \"Year 4\": 0, \"Year 5\": 30},\n",
    "    3: {\"NPV\": 121, \"Year 1\": 60, \"Year 2\": 15, \"Year 3\": 15, \"Year 4\": 15, \"Year 5\": 15},\n",
    "    4: {\"NPV\": 83, \"Year 1\": 30, \"Year 2\": 20, \"Year 3\": 10, \"Year 4\": 5, \"Year 5\": 5},\n",
    "    5: {\"NPV\": 265, \"Year 1\": 100, \"Year 2\": 25, \"Year 3\": 20, \"Year 4\": 20, \"Year 5\": 20},\n",
    "    6: {\"NPV\": 127, \"Year 1\": 50, \"Year 2\": 20, \"Year 3\": 10, \"Year 4\": 30, \"Year 5\": 40}\n",
    "}\n",
    "\n",
    "model = LpProblem(\"capital-budget-Problem\", LpMaximize)\n",
    "invest = LpVariable.dict(\"invest\", projects_dict.keys(), cat = 'Binary')\n",
    "model += lpSum(invest[i] * projects_dict[i][\"NPV\"] for i in projects_dict)\n",
    "for year in year_budgets.keys():\n",
    "    model += lpSum(invest[i] * projects_dict[i][year] for i in projects_dict) <= year_budgets[year], \"budget constraint\" + str(year)\n",
    "print(model)\n",
    "\n",
    "model.solve(PULP_CBC_CMD(msg=0))\n",
    "\n",
    "for i in projects_dict:\n",
    "    print(invest[i].varValue)\n",
    "#  if invest[i].varValue > 0.8:\n",
    "#    print(f\"Project {i} is launched.\")\n",
    "\n",
    "print(f\"Total investment value is {model.objective.value()}.\")"
   ]
  },
  {
   "cell_type": "markdown",
   "metadata": {},
   "source": [
    "## Fixed Charge Problem"
   ]
  },
  {
   "cell_type": "markdown",
   "metadata": {},
   "source": [
    "This problem involves deciding whether to set up a production process that incurs a fixed cost. The decision includes a fixed setup cost and a variable production cost. If the production is set up, there will be a production profit, but the setup cost must be paid.\n",
    "\n",
    "### Example:\n",
    "\n",
    "A factory must decide which production lines to set up for multiple products, each incurring a fixed setup cost and variable production costs. Each product requires a certain amount of a common resource (e.g., machine hours), and there is a maximum market demand for each product. The factory aims to maximize profit while considering the resource constraint and market demand."
   ]
  },
  {
   "cell_type": "code",
   "execution_count": 273,
   "metadata": {},
   "outputs": [
    {
     "name": "stdout",
     "output_type": "stream",
     "text": [
      "Welcome to the CBC MILP Solver \n",
      "Version: 2.10.3 \n",
      "Build Date: Dec 15 2019 \n",
      "\n",
      "command line - /usr/local/python/3.10.13/lib/python3.10/site-packages/pulp/solverdir/cbc/linux/64/cbc /tmp/059afa15f42645d7aab167e58e0c8ff6-pulp.mps -max -timeMode elapsed -branch -printingOptions all -solution /tmp/059afa15f42645d7aab167e58e0c8ff6-pulp.sol (default strategy 1)\n",
      "At line 2 NAME          MODEL\n",
      "At line 3 ROWS\n",
      "At line 15 COLUMNS\n",
      "At line 43 RHS\n",
      "At line 54 BOUNDS\n",
      "At line 58 ENDATA\n",
      "Problem MODEL has 10 rows, 6 columns and 15 elements\n",
      "Coin0008I MODEL read with 0 errors\n",
      "Option for timeMode changed from cpu to elapsed\n",
      "Continuous objective value is 1032.14 - 0.00 seconds\n",
      "Cgl0003I 0 fixed, 0 tightened bounds, 1 strengthened rows, 0 substitutions\n",
      "Cgl0004I processed model has 4 rows, 6 columns (3 integer (3 of which binary)) and 9 elements\n",
      "Cbc0038I Initial state - 1 integers unsatisfied sum - 0.1\n",
      "Cbc0038I Pass   1: suminf.    0.00000 (0) obj. -1000 iterations 1\n",
      "Cbc0038I Solution found of -1000\n",
      "Cbc0038I Relaxing continuous gives -1000\n",
      "Cbc0038I Before mini branch and bound, 2 integers at bound fixed and 1 continuous\n",
      "Cbc0038I Full problem 4 rows 6 columns, reduced to 2 rows 3 columns\n",
      "Cbc0038I Mini branch and bound did not improve solution (0.00 seconds)\n",
      "Cbc0038I Round again with cutoff of -1003\n",
      "Cbc0038I Reduced cost fixing fixed 1 variables on major pass 2\n",
      "Cbc0038I Pass   2: suminf.    0.01000 (1) obj. -1003 iterations 1\n",
      "Cbc0038I Pass   3: suminf.    0.37000 (1) obj. -1003 iterations 1\n",
      "Cbc0038I Pass   4: suminf.    0.37000 (1) obj. -1003 iterations 0\n",
      "Cbc0038I Pass   5: suminf.    0.26571 (1) obj. -1003 iterations 2\n",
      "Cbc0038I Pass   6: suminf.    0.26571 (1) obj. -1003 iterations 0\n",
      "Cbc0038I Pass   7: suminf.    0.01000 (1) obj. -1003 iterations 3\n",
      "Cbc0038I Pass   8: suminf.    0.37000 (1) obj. -1003 iterations 1\n",
      "Cbc0038I Pass   9: suminf.    0.01000 (1) obj. -1003 iterations 1\n",
      "Cbc0038I Pass  10: suminf.    0.01000 (1) obj. -1003 iterations 0\n",
      "Cbc0038I Pass  11: suminf.    0.26571 (1) obj. -1003 iterations 2\n",
      "Cbc0038I Pass  12: suminf.    0.26571 (1) obj. -1003 iterations 0\n",
      "Cbc0038I Pass  13: suminf.    0.26571 (1) obj. -1003 iterations 0\n",
      "Cbc0038I Pass  14: suminf.    0.37000 (1) obj. -1003 iterations 2\n",
      "Cbc0038I Pass  15: suminf.    0.37000 (1) obj. -1003 iterations 0\n",
      "Cbc0038I Pass  16: suminf.    0.37000 (1) obj. -1003 iterations 0\n",
      "Cbc0038I Pass  17: suminf.    0.37000 (1) obj. -1003 iterations 0\n",
      "Cbc0038I Pass  18: suminf.    0.01000 (1) obj. -1003 iterations 1\n",
      "Cbc0038I Pass  19: suminf.    0.01000 (1) obj. -1003 iterations 0\n",
      "Cbc0038I Pass  20: suminf.    0.26571 (1) obj. -1003 iterations 2\n",
      "Cbc0038I Pass  21: suminf.    0.26571 (1) obj. -1003 iterations 0\n",
      "Cbc0038I Pass  22: suminf.    0.01000 (1) obj. -1003 iterations 3\n",
      "Cbc0038I Pass  23: suminf.    0.01000 (1) obj. -1003 iterations 0\n",
      "Cbc0038I Pass  24: suminf.    0.01000 (1) obj. -1003 iterations 0\n",
      "Cbc0038I Pass  25: suminf.    0.01000 (1) obj. -1003 iterations 0\n",
      "Cbc0038I Pass  26: suminf.    0.01000 (1) obj. -1003 iterations 0\n",
      "Cbc0038I Pass  27: suminf.    0.26571 (1) obj. -1003 iterations 2\n",
      "Cbc0038I Pass  28: suminf.    0.01000 (1) obj. -1003 iterations 3\n",
      "Cbc0038I Pass  29: suminf.    0.01000 (1) obj. -1003 iterations 0\n",
      "Cbc0038I Pass  30: suminf.    0.01000 (1) obj. -1003 iterations 0\n",
      "Cbc0038I Pass  31: suminf.    0.01000 (1) obj. -1003 iterations 0\n",
      "Cbc0038I No solution found this major pass\n",
      "Cbc0038I Before mini branch and bound, 1 integers at bound fixed and 0 continuous\n",
      "Cbc0038I Full problem 4 rows 6 columns, reduced to 3 rows 5 columns\n",
      "Cbc0038I Mini branch and bound did not improve solution (0.01 seconds)\n",
      "Cbc0038I After 0.01 seconds - Feasibility pump exiting with objective of -1000 - took 0.00 seconds\n",
      "Cbc0012I Integer solution of -1000 found by feasibility pump after 0 iterations and 0 nodes (0.01 seconds)\n",
      "Cbc0038I Full problem 4 rows 6 columns, reduced to 2 rows 3 columns\n",
      "Cbc0031I 2 added rows had average density of 3\n",
      "Cbc0013I At root node, 5 cuts changed objective from -1030 to -1000 in 2 passes\n",
      "Cbc0014I Cut generator 0 (Probing) - 2 row cuts average 2.0 elements, 0 column cuts (0 active)  in 0.000 seconds - new frequency is 1\n",
      "Cbc0014I Cut generator 1 (Gomory) - 2 row cuts average 4.0 elements, 0 column cuts (0 active)  in 0.000 seconds - new frequency is 1\n",
      "Cbc0014I Cut generator 2 (Knapsack) - 0 row cuts average 0.0 elements, 0 column cuts (0 active)  in 0.000 seconds - new frequency is -100\n",
      "Cbc0014I Cut generator 3 (Clique) - 0 row cuts average 0.0 elements, 0 column cuts (0 active)  in 0.000 seconds - new frequency is -100\n",
      "Cbc0014I Cut generator 4 (MixedIntegerRounding2) - 0 row cuts average 0.0 elements, 0 column cuts (0 active)  in 0.000 seconds - new frequency is -100\n",
      "Cbc0014I Cut generator 5 (FlowCover) - 1 row cuts average 3.0 elements, 0 column cuts (0 active)  in 0.000 seconds - new frequency is 1\n",
      "Cbc0014I Cut generator 6 (TwoMirCuts) - 2 row cuts average 4.0 elements, 0 column cuts (0 active)  in 0.000 seconds - new frequency is -100\n",
      "Cbc0001I Search completed - best objective -1000, took 1 iterations and 0 nodes (0.01 seconds)\n",
      "Cbc0035I Maximum depth 0, 1 variables fixed on reduced cost\n",
      "Cuts at root node changed objective from -1030 to -1000\n",
      "Probing was tried 2 times and created 2 cuts of which 0 were active after adding rounds of cuts (0.000 seconds)\n",
      "Gomory was tried 2 times and created 2 cuts of which 0 were active after adding rounds of cuts (0.000 seconds)\n",
      "Knapsack was tried 2 times and created 0 cuts of which 0 were active after adding rounds of cuts (0.000 seconds)\n",
      "Clique was tried 2 times and created 0 cuts of which 0 were active after adding rounds of cuts (0.000 seconds)\n",
      "MixedIntegerRounding2 was tried 2 times and created 0 cuts of which 0 were active after adding rounds of cuts (0.000 seconds)\n",
      "FlowCover was tried 2 times and created 1 cuts of which 0 were active after adding rounds of cuts (0.000 seconds)\n",
      "TwoMirCuts was tried 2 times and created 2 cuts of which 0 were active after adding rounds of cuts (0.000 seconds)\n",
      "ZeroHalf was tried 1 times and created 0 cuts of which 0 were active after adding rounds of cuts (0.000 seconds)\n",
      "\n",
      "Result - Optimal solution found\n",
      "\n",
      "Objective value:                1000.00000000\n",
      "Enumerated nodes:               0\n",
      "Total iterations:               1\n",
      "Time (CPU seconds):             0.01\n",
      "Time (Wallclock seconds):       0.01\n",
      "\n",
      "Option for printingOptions changed from normal to all\n",
      "Total time (CPU seconds):       0.01   (Wallclock seconds):       0.01\n",
      "\n",
      "Status: Optimal\n",
      "Production Units for A (x) = 0.0\n",
      "Setup Decision for A (y) = 0.0\n",
      "Production Units for B (x) = 0.0\n",
      "Setup Decision for B (y) = 0.0\n",
      "Production Units for C (x) = 60.0\n",
      "Setup Decision for C (y) = 1.0\n"
     ]
    }
   ],
   "source": [
    "import pulp\n",
    "\n",
    "# Define the problem\n",
    "prob = pulp.LpProblem(\"Fixed_Charge_Problem_with_Resource_and_Sales_Constraint\", pulp.LpMaximize)\n",
    "\n",
    "# Define the decision variables\n",
    "products = ['A', 'B', 'C']\n",
    "x = pulp.LpVariable.dicts('x', products, lowBound=0, cat='Continuous')\n",
    "y = pulp.LpVariable.dicts('y', products, cat='Binary')\n",
    "\n",
    "# Define the parameters\n",
    "profits = {'A': 10, 'B': 15, 'C': 20}\n",
    "setup_costs = {'A': 100, 'B': 150, 'C': 200}\n",
    "resource_requirements = {'A': 5, 'B': 7, 'C': 3}\n",
    "max_sales = {'A': 50, 'B': 40, 'C': 60}\n",
    "total_resource_available = 200\n",
    "\n",
    "# Objective function\n",
    "prob += pulp.lpSum([x[i] * profits[i] - y[i] * setup_costs[i] for i in products]), \"Total Profit\"\n",
    "\n",
    "# Constraints\n",
    "for i in products:\n",
    "    prob += x[i] <= y[i] * max_sales[i], f\"Max_Sales_Constraint_{i}\"\n",
    "    prob += x[i] >= 0, f\"Non_Negative_Production_{i}\"\n",
    "    prob += y[i] >= 0, f\"Non_Negative_Setup_{i}\"\n",
    "\n",
    "# Resource constraint\n",
    "prob += pulp.lpSum([x[i] * resource_requirements[i] for i in products]) <= total_resource_available, \"Resource_Constraint\"\n",
    "\n",
    "# Solve the problem\n",
    "prob.solve()\n",
    "\n",
    "# Print the results\n",
    "print(\"Status:\", pulp.LpStatus[prob.status])\n",
    "for i in products:\n",
    "    print(f\"Production Units for {i} (x) =\", pulp.value(x[i]))\n",
    "    print(f\"Setup Decision for {i} (y) =\", pulp.value(y[i]))"
   ]
  },
  {
   "cell_type": "markdown",
   "metadata": {},
   "source": [
    "## Minimum Lot Size"
   ]
  },
  {
   "cell_type": "markdown",
   "metadata": {},
   "source": [
    "This problem involves deciding on the production of a product that must meet a minimum production lot size. There is a fixed setup cost and a profit per unit produced. The company will only produce if the minimum lot size is met.\n",
    "\n",
    "### Example:\n",
    "A company needs to decide whether to produce multiple new products, each with a minimum production lot size. Each product has a specific setup cost, generates a certain profit per unit, requires a common resource, and has a maximum market demand. The goal is to maximize overall profit while considering the resource constraint and market demand.\n",
    "\n"
   ]
  },
  {
   "cell_type": "code",
   "execution_count": 274,
   "metadata": {},
   "outputs": [
    {
     "name": "stdout",
     "output_type": "stream",
     "text": [
      "Welcome to the CBC MILP Solver \n",
      "Version: 2.10.3 \n",
      "Build Date: Dec 15 2019 \n",
      "\n",
      "command line - /usr/local/python/3.10.13/lib/python3.10/site-packages/pulp/solverdir/cbc/linux/64/cbc /tmp/8ab2db8a263a4ea3ac1af1431444a6f1-pulp.mps -max -timeMode elapsed -branch -printingOptions all -solution /tmp/8ab2db8a263a4ea3ac1af1431444a6f1-pulp.sol (default strategy 1)\n",
      "At line 2 NAME          MODEL\n",
      "At line 3 ROWS\n",
      "At line 12 COLUMNS\n",
      "At line 40 RHS\n",
      "At line 48 BOUNDS\n",
      "At line 52 ENDATA\n",
      "Problem MODEL has 7 rows, 6 columns and 15 elements\n",
      "Coin0008I MODEL read with 0 errors\n",
      "Option for timeMode changed from cpu to elapsed\n",
      "Continuous objective value is 1225 - 0.00 seconds\n",
      "Cgl0003I 0 fixed, 0 tightened bounds, 1 strengthened rows, 0 substitutions\n",
      "Cgl0004I processed model has 7 rows, 6 columns (3 integer (3 of which binary)) and 15 elements\n",
      "Cbc0038I Initial state - 1 integers unsatisfied sum - 0.3\n",
      "Cbc0038I Pass   1: suminf.    0.00000 (0) obj. -1000 iterations 2\n",
      "Cbc0038I Solution found of -1000\n",
      "Cbc0038I Relaxing continuous gives -1000\n",
      "Cbc0038I Before mini branch and bound, 2 integers at bound fixed and 1 continuous\n",
      "Cbc0038I Full problem 7 rows 6 columns, reduced to 3 rows 3 columns\n",
      "Cbc0038I Mini branch and bound did not improve solution (0.00 seconds)\n",
      "Cbc0038I Round again with cutoff of -1021\n",
      "Cbc0038I Reduced cost fixing fixed 1 variables on major pass 2\n",
      "Cbc0038I Pass   2: suminf.    0.00750 (1) obj. -1021 iterations 1\n",
      "Cbc0038I Pass   3: suminf.    0.07000 (1) obj. -1021 iterations 2\n",
      "Cbc0038I Pass   4: suminf.    0.07000 (1) obj. -1021 iterations 0\n",
      "Cbc0038I Pass   5: suminf.    0.00000 (0) obj. -1021 iterations 3\n",
      "Cbc0038I Solution found of -1021\n",
      "Cbc0038I Relaxing continuous gives -1150\n",
      "Cbc0038I Before mini branch and bound, 1 integers at bound fixed and 0 continuous\n",
      "Cbc0038I Full problem 7 rows 6 columns, reduced to 5 rows 5 columns\n",
      "Cbc0038I Mini branch and bound did not improve solution (0.01 seconds)\n",
      "Cbc0038I Round again with cutoff of -1162\n",
      "Cbc0038I Reduced cost fixing fixed 1 variables on major pass 3\n",
      "Cbc0038I Pass   6: suminf.    0.05786 (1) obj. -1162 iterations 0\n",
      "Cbc0038I Pass   7: suminf.    0.46000 (1) obj. -1162 iterations 2\n",
      "Cbc0038I Pass   8: suminf.    0.05786 (1) obj. -1162 iterations 2\n",
      "Cbc0038I Pass   9: suminf.    0.46000 (1) obj. -1162 iterations 2\n",
      "Cbc0038I Pass  10: suminf.    0.46000 (1) obj. -1162 iterations 0\n",
      "Cbc0038I Pass  11: suminf.    0.46000 (1) obj. -1162 iterations 0\n",
      "Cbc0038I Pass  12: suminf.    0.05786 (1) obj. -1162 iterations 2\n",
      "Cbc0038I Pass  13: suminf.    0.05786 (1) obj. -1162 iterations 0\n",
      "Cbc0038I Pass  14: suminf.    0.05786 (1) obj. -1162 iterations 0\n",
      "Cbc0038I Pass  15: suminf.    0.63273 (2) obj. -1162 iterations 2\n",
      "Cbc0038I Pass  16: suminf.    0.08000 (1) obj. -1162 iterations 2\n",
      "Cbc0038I Pass  17: suminf.    0.63273 (2) obj. -1162 iterations 2\n",
      "Cbc0038I Pass  18: suminf.    0.08000 (1) obj. -1162 iterations 2\n",
      "Cbc0038I Pass  19: suminf.    0.08000 (1) obj. -1162 iterations 0\n",
      "Cbc0038I Pass  20: suminf.    0.08000 (1) obj. -1162 iterations 0\n",
      "Cbc0038I Pass  21: suminf.    0.08000 (1) obj. -1162 iterations 0\n",
      "Cbc0038I Pass  22: suminf.    0.08000 (1) obj. -1162 iterations 0\n",
      "Cbc0038I Pass  23: suminf.    0.63273 (2) obj. -1162 iterations 2\n",
      "Cbc0038I Pass  24: suminf.    0.05786 (1) obj. -1162 iterations 2\n",
      "Cbc0038I Pass  25: suminf.    0.63273 (2) obj. -1162 iterations 2\n",
      "Cbc0038I Pass  26: suminf.    0.63273 (2) obj. -1162 iterations 0\n",
      "Cbc0038I Pass  27: suminf.    0.08000 (1) obj. -1162 iterations 2\n",
      "Cbc0038I Pass  28: suminf.    0.08000 (1) obj. -1162 iterations 0\n",
      "Cbc0038I Pass  29: suminf.    0.08000 (1) obj. -1162 iterations 0\n",
      "Cbc0038I Pass  30: suminf.    0.63273 (2) obj. -1162 iterations 2\n",
      "Cbc0038I Pass  31: suminf.    0.08000 (1) obj. -1162 iterations 2\n",
      "Cbc0038I Pass  32: suminf.    0.08000 (1) obj. -1162 iterations 0\n",
      "Cbc0038I Pass  33: suminf.    0.08000 (1) obj. -1162 iterations 0\n",
      "Cbc0038I Pass  34: suminf.    0.08000 (1) obj. -1162 iterations 0\n",
      "Cbc0038I Pass  35: suminf.    0.63273 (2) obj. -1162 iterations 2\n",
      "Cbc0038I No solution found this major pass\n",
      "Cbc0038I Before mini branch and bound, 1 integers at bound fixed and 0 continuous\n",
      "Cbc0038I Full problem 7 rows 6 columns, reduced to 5 rows 5 columns\n",
      "Cbc0038I Mini branch and bound did not improve solution (0.01 seconds)\n",
      "Cbc0038I After 0.01 seconds - Feasibility pump exiting with objective of -1150 - took 0.00 seconds\n",
      "Cbc0012I Integer solution of -1150 found by feasibility pump after 0 iterations and 0 nodes (0.01 seconds)\n",
      "Cbc0038I Full problem 7 rows 6 columns, reduced to 5 rows 5 columns\n",
      "Cbc0006I The LP relaxation is infeasible or too expensive\n",
      "Cbc0013I At root node, 0 cuts changed objective from -1210 to -1150 in 1 passes\n",
      "Cbc0014I Cut generator 0 (Probing) - 6 row cuts average 2.3 elements, 1 column cuts (1 active)  in 0.000 seconds - new frequency is 1\n",
      "Cbc0014I Cut generator 1 (Gomory) - 0 row cuts average 0.0 elements, 0 column cuts (0 active)  in 0.000 seconds - new frequency is -100\n",
      "Cbc0014I Cut generator 2 (Knapsack) - 0 row cuts average 0.0 elements, 0 column cuts (0 active)  in 0.000 seconds - new frequency is -100\n",
      "Cbc0014I Cut generator 3 (Clique) - 0 row cuts average 0.0 elements, 0 column cuts (0 active)  in 0.000 seconds - new frequency is -100\n",
      "Cbc0014I Cut generator 4 (MixedIntegerRounding2) - 0 row cuts average 0.0 elements, 0 column cuts (0 active)  in 0.000 seconds - new frequency is -100\n",
      "Cbc0014I Cut generator 5 (FlowCover) - 0 row cuts average 0.0 elements, 0 column cuts (0 active)  in 0.000 seconds - new frequency is -100\n",
      "Cbc0014I Cut generator 7 (ZeroHalf) - 0 row cuts average 0.0 elements, 0 column cuts (0 active)  in 0.000 seconds - new frequency is -100\n",
      "Cbc0001I Search completed - best objective -1150, took 0 iterations and 0 nodes (0.01 seconds)\n",
      "Cbc0035I Maximum depth 0, 1 variables fixed on reduced cost\n",
      "Cuts at root node changed objective from -1210 to -1150\n",
      "Probing was tried 1 times and created 7 cuts of which 0 were active after adding rounds of cuts (0.000 seconds)\n",
      "Gomory was tried 0 times and created 0 cuts of which 0 were active after adding rounds of cuts (0.000 seconds)\n",
      "Knapsack was tried 0 times and created 0 cuts of which 0 were active after adding rounds of cuts (0.000 seconds)\n",
      "Clique was tried 0 times and created 0 cuts of which 0 were active after adding rounds of cuts (0.000 seconds)\n",
      "MixedIntegerRounding2 was tried 0 times and created 0 cuts of which 0 were active after adding rounds of cuts (0.000 seconds)\n",
      "FlowCover was tried 0 times and created 0 cuts of which 0 were active after adding rounds of cuts (0.000 seconds)\n",
      "TwoMirCuts was tried 0 times and created 0 cuts of which 0 were active after adding rounds of cuts (0.000 seconds)\n",
      "ZeroHalf was tried 0 times and created 0 cuts of which 0 were active after adding rounds of cuts (0.000 seconds)\n",
      "\n",
      "Result - Optimal solution found\n",
      "\n",
      "Objective value:                1150.00000000\n",
      "Enumerated nodes:               0\n",
      "Total iterations:               0\n",
      "Time (CPU seconds):             0.00\n",
      "Time (Wallclock seconds):       0.01\n",
      "\n",
      "Option for printingOptions changed from normal to all\n",
      "Total time (CPU seconds):       0.00   (Wallclock seconds):       0.01\n",
      "\n",
      "Status: Optimal\n",
      "Production Units for A (x) = 0.0\n",
      "Setup Decision for A (y) = 0.0\n",
      "Production Units for B (x) = 20.0\n",
      "Setup Decision for B (y) = 1.0\n",
      "Production Units for C (x) = 60.0\n",
      "Setup Decision for C (y) = 1.0\n"
     ]
    }
   ],
   "source": [
    "import pulp\n",
    "\n",
    "# Define the problem\n",
    "prob = pulp.LpProblem(\"Minimum_Lot_Size_Problem_with_Resource_and_Sales_Constraint\", pulp.LpMaximize)\n",
    "\n",
    "# Define the decision variables\n",
    "products = ['A', 'B', 'C']\n",
    "x = pulp.LpVariable.dicts('x', products, lowBound=0, cat='Continuous')\n",
    "y = pulp.LpVariable.dicts('y', products, cat='Binary')\n",
    "\n",
    "# Define the parameters\n",
    "profits = {'A': 10, 'B': 15, 'C': 20}\n",
    "setup_costs = {'A': 100, 'B': 150, 'C': 200}\n",
    "resource_requirements = {'A': 5, 'B': 7, 'C': 1}\n",
    "min_lot_sizes = {'A': 30, 'B': 20, 'C': 40}\n",
    "max_sales = {'A': 50, 'B': 40, 'C': 60}\n",
    "total_resource_available = 200\n",
    "\n",
    "# Objective function\n",
    "prob += pulp.lpSum([x[i] * profits[i] - y[i] * setup_costs[i] for i in products]), \"Total Profit\"\n",
    "\n",
    "# Constraints\n",
    "for i in products:\n",
    "    prob += x[i] <= y[i] * max_sales[i], f\"Max_Sales_Constraint_{i}\"\n",
    "    prob += x[i] >= y[i] * min_lot_sizes[i], f\"Minimum_Lot_Size_Constraint_{i}\"\n",
    "\n",
    "# Resource constraint\n",
    "prob += pulp.lpSum([x[i] * resource_requirements[i] for i in products]) <= total_resource_available, \"Resource_Constraint\"\n",
    "\n",
    "# Solve the problem\n",
    "prob.solve()\n",
    "\n",
    "# Print the results\n",
    "print(\"Status:\", pulp.LpStatus[prob.status])\n",
    "for i in products:\n",
    "    print(f\"Production Units for {i} (x) =\", pulp.value(x[i]))\n",
    "    print(f\"Setup Decision for {i} (y) =\", pulp.value(y[i]))"
   ]
  },
  {
   "cell_type": "markdown",
   "metadata": {},
   "source": [
    "## Quantity Discount\n",
    "\n",
    "This problem involves deciding on purchasing quantities under a discount scheme. There are different costs associated with purchasing up to a threshold quantity and exceeding it. The objective is to minimize the total cost while meeting the demand.\n",
    "\n",
    "### Example:\n",
    "A company needs to purchase masks. The cost per mask is $10 if fewer than 50 masks are bought. If 50 or more masks are bought, the cost per mask drops to $8. The company wants to maximize the profit when selling a mask for $20. They can store at most 200 masks."
   ]
  },
  {
   "cell_type": "code",
   "execution_count": 275,
   "metadata": {},
   "outputs": [
    {
     "name": "stdout",
     "output_type": "stream",
     "text": [
      "Welcome to the CBC MILP Solver \n",
      "Version: 2.10.3 \n",
      "Build Date: Dec 15 2019 \n",
      "\n",
      "command line - /usr/local/python/3.10.13/lib/python3.10/site-packages/pulp/solverdir/cbc/linux/64/cbc /tmp/5184241048844ef1944729245915b7d5-pulp.mps -max -timeMode elapsed -branch -printingOptions all -solution /tmp/5184241048844ef1944729245915b7d5-pulp.sol (default strategy 1)\n",
      "At line 2 NAME          MODEL\n",
      "At line 3 ROWS\n",
      "At line 8 COLUMNS\n",
      "At line 19 RHS\n",
      "At line 23 BOUNDS\n",
      "At line 25 ENDATA\n",
      "Problem MODEL has 3 rows, 3 columns and 6 elements\n",
      "Coin0008I MODEL read with 0 errors\n",
      "Option for timeMode changed from cpu to elapsed\n",
      "Continuous objective value is 1200 - 0.00 seconds\n",
      "Cgl0004I processed model has 2 rows, 2 columns (1 integer (1 of which binary)) and 4 elements\n",
      "Cutoff increment increased from 1e-05 to 1.9999\n",
      "Cbc0038I Initial state - 0 integers unsatisfied sum - 1.11022e-16\n",
      "Cbc0038I Solution found of -1200\n",
      "Cbc0038I Relaxing continuous gives -1200\n",
      "Cbc0038I Before mini branch and bound, 1 integers at bound fixed and 1 continuous\n",
      "Cbc0038I Mini branch and bound did not improve solution (0.00 seconds)\n",
      "Cbc0038I After 0.00 seconds - Feasibility pump exiting with objective of -1200 - took 0.00 seconds\n",
      "Cbc0012I Integer solution of -1200 found by feasibility pump after 0 iterations and 0 nodes (0.00 seconds)\n",
      "Cbc0001I Search completed - best objective -1200, took 0 iterations and 0 nodes (0.00 seconds)\n",
      "Cbc0035I Maximum depth 0, 0 variables fixed on reduced cost\n",
      "Cuts at root node changed objective from -1200 to -1200\n",
      "Probing was tried 0 times and created 0 cuts of which 0 were active after adding rounds of cuts (0.000 seconds)\n",
      "Gomory was tried 0 times and created 0 cuts of which 0 were active after adding rounds of cuts (0.000 seconds)\n",
      "Knapsack was tried 0 times and created 0 cuts of which 0 were active after adding rounds of cuts (0.000 seconds)\n",
      "Clique was tried 0 times and created 0 cuts of which 0 were active after adding rounds of cuts (0.000 seconds)\n",
      "MixedIntegerRounding2 was tried 0 times and created 0 cuts of which 0 were active after adding rounds of cuts (0.000 seconds)\n",
      "FlowCover was tried 0 times and created 0 cuts of which 0 were active after adding rounds of cuts (0.000 seconds)\n",
      "TwoMirCuts was tried 0 times and created 0 cuts of which 0 were active after adding rounds of cuts (0.000 seconds)\n",
      "ZeroHalf was tried 0 times and created 0 cuts of which 0 were active after adding rounds of cuts (0.000 seconds)\n",
      "\n",
      "Result - Optimal solution found\n",
      "\n",
      "Objective value:                1200.00000000\n",
      "Enumerated nodes:               0\n",
      "Total iterations:               0\n",
      "Time (CPU seconds):             0.00\n",
      "Time (Wallclock seconds):       0.00\n",
      "\n",
      "Option for printingOptions changed from normal to all\n",
      "Total time (CPU seconds):       0.00   (Wallclock seconds):       0.00\n",
      "\n",
      "Status: Optimal\n",
      "Units at price c1 (x1) = 0.0\n",
      "Units at price c2 (x2) = 100.0\n",
      "Threshold Decision (y) = 1.0\n"
     ]
    }
   ],
   "source": [
    "import pulp\n",
    "\n",
    "# Define the problem\n",
    "prob = pulp.LpProblem(\"Quantity_Discount_Problem\", pulp.LpMaximize)\n",
    "\n",
    "# Define the decision variables\n",
    "x1 = pulp.LpVariable('masks_at_price_c1', lowBound=0, cat='Continuous')\n",
    "x2 = pulp.LpVariable('masks_at_price_c2', lowBound=0, cat='Continuous')\n",
    "y = pulp.LpVariable('threshold_decision', cat='Binary')\n",
    "\n",
    "# Define the parameters\n",
    "c1 = 10  # profit per unit for x1\n",
    "c2 = 12   # profit per unit for x2\n",
    "M = 1000  # a large number to facilitate constraint\n",
    "k = 50  # threshold for discount\n",
    "storage = 100\n",
    "\n",
    "# Objective function\n",
    "prob += x1 * c1 + x2 * c2, \"Total Profit\"\n",
    "\n",
    "# Constraints\n",
    "prob += x2 <= y * M, \"Discount_Purchase_Constraint\"\n",
    "prob += x2 >= y * k, \"Minimum_Discount_Constraint\"\n",
    "prob += x1+x2<=storage, \"storage constaint\"\n",
    "\n",
    "# Solve the problem\n",
    "prob.solve()\n",
    "\n",
    "# Print the results\n",
    "print(\"Status:\", pulp.LpStatus[prob.status])\n",
    "print(\"Units at price c1 (x1) =\", pulp.value(x1))\n",
    "print(\"Units at price c2 (x2) =\", pulp.value(x2))\n",
    "print(\"Threshold Decision (y) =\", pulp.value(y))"
   ]
  },
  {
   "cell_type": "markdown",
   "metadata": {},
   "source": [
    "## Discrete Pricelevels"
   ]
  },
  {
   "cell_type": "markdown",
   "metadata": {},
   "source": [
    "Here's how many of each drink you expect to sell per hour, depending on the price:\n",
    "\n",
    "Drink\t\t\t    $3.50\t$4.00\t$4.50\n",
    "\n",
    "Small Latte\t\t    120\t    100\t    80\n",
    "\n",
    "Medium Cappuccino\t80\t    70\t    60\n",
    " \n",
    "Large Iced Coffee\t90\t    85\t    75\n",
    "\n",
    "Barista Time - It takes different amounts of time to make each drink:\n",
    "\n",
    "* Small Latte: 1 minute\n",
    "* Medium Cappuccino: 1.5 minutes\n",
    "* Large Iced Coffee: 0.75 minutes\n",
    "\n",
    "During the peak hour, you only have 600 minutes of total barista time available."
   ]
  },
  {
   "cell_type": "code",
   "execution_count": 276,
   "metadata": {},
   "outputs": [],
   "source": [
    "sales_dict = {\n",
    "    \"Small Latte\": {\n",
    "        3.50 : 120,\n",
    "        4.00 : 100,\n",
    "        4.50 : 80,\n",
    "        \"time\": 1\n",
    "        },\n",
    "    \"Medium Cappuccino\": {\n",
    "        3.50: 80,\n",
    "        4.00: 70,\n",
    "        4.50: 60,\n",
    "        \"time\": 1.5\n",
    "    },\n",
    "    \"Large Iced Coffee\": {\n",
    "        3.50: 90,\n",
    "        4.00: 85,\n",
    "        4.50: 75,\n",
    "        \"time\": 0.75\n",
    "    }\n",
    "}"
   ]
  },
  {
   "cell_type": "code",
   "execution_count": 277,
   "metadata": {},
   "outputs": [
    {
     "data": {
      "text/plain": [
       "{'Small Latte': {3.5: Small_Latte_3.5, 4: Small_Latte_4, 4.5: Small_Latte_4.5},\n",
       " 'Medium Cappuccino': {3.5: Medium_Cappuccino_3.5,\n",
       "  4: Medium_Cappuccino_4,\n",
       "  4.5: Medium_Cappuccino_4.5},\n",
       " 'Large Iced Coffee': {3.5: Large_Iced_Coffee_3.5,\n",
       "  4: Large_Iced_Coffee_4,\n",
       "  4.5: Large_Iced_Coffee_4.5}}"
      ]
     },
     "execution_count": 277,
     "metadata": {},
     "output_type": "execute_result"
    }
   ],
   "source": [
    "model = LpProblem(\"coffee_shop\",LpMaximize)\n",
    "priceLevels = [3.5, 4, 4.5]\n",
    "\n",
    "pricingDecision = {}\n",
    "for product in sales_dict:\n",
    "    pricingDecision[product] = LpVariable.dict(product, priceLevels, cat=\"Binary\")\n",
    "\n",
    "pricingDecision\n"
   ]
  },
  {
   "cell_type": "code",
   "execution_count": 278,
   "metadata": {},
   "outputs": [
    {
     "name": "stdout",
     "output_type": "stream",
     "text": [
      "coffee_shop:\n",
      "MAXIMIZE\n",
      "315.0*Large_Iced_Coffee_3.5 + 340*Large_Iced_Coffee_4 + 337.5*Large_Iced_Coffee_4.5 + 280.0*Medium_Cappuccino_3.5 + 280*Medium_Cappuccino_4 + 270.0*Medium_Cappuccino_4.5 + 420.0*Small_Latte_3.5 + 400*Small_Latte_4 + 360.0*Small_Latte_4.5 + 0.0\n",
      "VARIABLES\n",
      "0 <= Large_Iced_Coffee_3.5 <= 1 Integer\n",
      "0 <= Large_Iced_Coffee_4 <= 1 Integer\n",
      "0 <= Large_Iced_Coffee_4.5 <= 1 Integer\n",
      "0 <= Medium_Cappuccino_3.5 <= 1 Integer\n",
      "0 <= Medium_Cappuccino_4 <= 1 Integer\n",
      "0 <= Medium_Cappuccino_4.5 <= 1 Integer\n",
      "0 <= Small_Latte_3.5 <= 1 Integer\n",
      "0 <= Small_Latte_4 <= 1 Integer\n",
      "0 <= Small_Latte_4.5 <= 1 Integer\n",
      "\n"
     ]
    }
   ],
   "source": [
    "model += lpSum(lpSum(j * pricingDecision[i][j] * sales_dict[i][j] for j in pricingDecision[i]) for i in pricingDecision)\n",
    "\n",
    "print(model)"
   ]
  },
  {
   "cell_type": "code",
   "execution_count": 279,
   "metadata": {},
   "outputs": [
    {
     "name": "stdout",
     "output_type": "stream",
     "text": [
      "coffee_shop:\n",
      "MAXIMIZE\n",
      "315.0*Large_Iced_Coffee_3.5 + 340*Large_Iced_Coffee_4 + 337.5*Large_Iced_Coffee_4.5 + 280.0*Medium_Cappuccino_3.5 + 280*Medium_Cappuccino_4 + 270.0*Medium_Cappuccino_4.5 + 420.0*Small_Latte_3.5 + 400*Small_Latte_4 + 360.0*Small_Latte_4.5 + 0.0\n",
      "SUBJECT TO\n",
      "barista_time_constraint: 67.5 Large_Iced_Coffee_3.5\n",
      " + 63.75 Large_Iced_Coffee_4 + 56.25 Large_Iced_Coffee_4.5\n",
      " + 120 Medium_Cappuccino_3.5 + 105 Medium_Cappuccino_4\n",
      " + 90 Medium_Cappuccino_4.5 + 120 Small_Latte_3.5 + 100 Small_Latte_4\n",
      " + 80 Small_Latte_4.5 <= 150\n",
      "\n",
      "pricelevel_Small_Latte: Small_Latte_3.5 + Small_Latte_4 + Small_Latte_4.5 <= 1\n",
      "\n",
      "pricelevel_Medium_Cappuccino: Medium_Cappuccino_3.5 + Medium_Cappuccino_4\n",
      " + Medium_Cappuccino_4.5 <= 1\n",
      "\n",
      "pricelevel_Large_Iced_Coffee: Large_Iced_Coffee_3.5 + Large_Iced_Coffee_4\n",
      " + Large_Iced_Coffee_4.5 <= 1\n",
      "\n",
      "VARIABLES\n",
      "0 <= Large_Iced_Coffee_3.5 <= 1 Integer\n",
      "0 <= Large_Iced_Coffee_4 <= 1 Integer\n",
      "0 <= Large_Iced_Coffee_4.5 <= 1 Integer\n",
      "0 <= Medium_Cappuccino_3.5 <= 1 Integer\n",
      "0 <= Medium_Cappuccino_4 <= 1 Integer\n",
      "0 <= Medium_Cappuccino_4.5 <= 1 Integer\n",
      "0 <= Small_Latte_3.5 <= 1 Integer\n",
      "0 <= Small_Latte_4 <= 1 Integer\n",
      "0 <= Small_Latte_4.5 <= 1 Integer\n",
      "\n"
     ]
    }
   ],
   "source": [
    "model += lpSum([[sales_dict[i]['time'] * pricingDecision[i][j] * sales_dict[i][j] for j in pricingDecision[i]] for i in pricingDecision]) <= 150, \"barista_time_constraint\"\n",
    "\n",
    "\n",
    "for i in pricingDecision.keys():\n",
    "    model += lpSum([pricingDecision[i][j] for j in pricingDecision[i]]) <= 1, \"pricelevel \"+str(i)\n",
    "\n",
    "\n",
    "print(model)"
   ]
  },
  {
   "cell_type": "code",
   "execution_count": 280,
   "metadata": {},
   "outputs": [
    {
     "data": {
      "text/plain": [
       "1"
      ]
     },
     "execution_count": 280,
     "metadata": {},
     "output_type": "execute_result"
    }
   ],
   "source": [
    "model.solve(PULP_CBC_CMD(msg=0))"
   ]
  },
  {
   "cell_type": "code",
   "execution_count": 281,
   "metadata": {},
   "outputs": [
    {
     "name": "stdout",
     "output_type": "stream",
     "text": [
      "Product Small Latte is sold for $4.5\n",
      "Product Large Iced Coffee is sold for $4\n",
      "Total profit is $700.0\n"
     ]
    }
   ],
   "source": [
    "for i in pricingDecision:\n",
    "    for j in pricingDecision[i]:\n",
    "        if pricingDecision[i][j].varValue > 0.8:\n",
    "            print(\"Product \" + i + \" is sold for $\" + str(j))\n",
    "        \n",
    "print(\"Total profit is $\"+ str(model.objective.value()))"
   ]
  },
  {
   "cell_type": "code",
   "execution_count": 282,
   "metadata": {},
   "outputs": [
    {
     "data": {
      "text/plain": [
       "6.25"
      ]
     },
     "execution_count": 282,
     "metadata": {},
     "output_type": "execute_result"
    }
   ],
   "source": [
    "model.constraints['barista_time_constraint'].slack"
   ]
  },
  {
   "cell_type": "markdown",
   "metadata": {},
   "source": [
    "## Continuous Pricing - Single Product"
   ]
  },
  {
   "cell_type": "markdown",
   "metadata": {},
   "source": [
    "The Setup: You're organizing a music festival and, for now, are only selling General Admission (GA) tickets. You want to find the single best price for these tickets to maximize your revenue.\n",
    "\n",
    "Data Insights: You've surveyed 10 potential attendees and have gathered data on their maximum willingness-to-pay (WTP) for a GA ticket."
   ]
  },
  {
   "cell_type": "code",
   "execution_count": 283,
   "metadata": {},
   "outputs": [],
   "source": [
    "attendee_wtp_dict = {\n",
    "    1: 60,\n",
    "    2: 45,\n",
    "    3: 75,\n",
    "    4: 55,\n",
    "    5: 30,\n",
    "    6: 65,\n",
    "    7: 40,\n",
    "    8: 80,\n",
    "    9: 50,\n",
    "    10: 70\n",
    "}"
   ]
  },
  {
   "cell_type": "markdown",
   "metadata": {},
   "source": [
    "𝑅𝑒𝑣𝑒𝑛𝑢𝑒_𝑖≤ 𝑃𝑟𝑖𝑐𝑒\n",
    "\n",
    "𝑅𝑒𝑣𝑒𝑛𝑢𝑒_i≤ 𝑊𝑇𝑃_𝑖  ∗ 𝐵𝑢𝑦_𝑖\n",
    "\n",
    "𝑅𝑒𝑣𝑒𝑛𝑢𝑒_𝑖≥ 𝑃𝑟𝑖𝑐𝑒  − 𝑀 ∗ (1 − 𝐵𝑢𝑦_𝑖)"
   ]
  },
  {
   "cell_type": "code",
   "execution_count": 284,
   "metadata": {},
   "outputs": [],
   "source": [
    "model = LpProblem(\"continuous_pricing\", LpMaximize)\n",
    "\n",
    "price = LpVariable(\"price\",0)\n",
    "buyDecision = LpVariable.dict(\"buy\",attendee_wtp_dict,cat=\"Binary\")\n",
    "customerRevenue = LpVariable.dict(\"revenue\",attendee_wtp_dict,0)\n",
    "\n",
    "M = 1000"
   ]
  },
  {
   "cell_type": "code",
   "execution_count": 285,
   "metadata": {},
   "outputs": [],
   "source": [
    "model += lpSum(customerRevenue[i] for i in attendee_wtp_dict)\n",
    "\n",
    "for i in attendee_wtp_dict:\n",
    "    model += customerRevenue[i] <= price, \"priceLimitsRevenue\"+str(i)\n",
    "    model += customerRevenue[i] <= buyDecision[i] * attendee_wtp_dict[i], \"WTP_limits_revenue\"+str(i)\n",
    "    model += customerRevenue[i] >= price - M * (1-buyDecision[i]), \"get_price_if_bought\"+str(i)"
   ]
  },
  {
   "cell_type": "code",
   "execution_count": 286,
   "metadata": {},
   "outputs": [
    {
     "data": {
      "text/plain": [
       "1"
      ]
     },
     "execution_count": 286,
     "metadata": {},
     "output_type": "execute_result"
    }
   ],
   "source": [
    "model.solve(PULP_CBC_CMD(msg=0))"
   ]
  },
  {
   "cell_type": "code",
   "execution_count": 287,
   "metadata": {},
   "outputs": [
    {
     "data": {
      "text/plain": [
       "45.0"
      ]
     },
     "execution_count": 287,
     "metadata": {},
     "output_type": "execute_result"
    }
   ],
   "source": [
    "price.varValue"
   ]
  },
  {
   "cell_type": "code",
   "execution_count": 288,
   "metadata": {},
   "outputs": [
    {
     "data": {
      "text/plain": [
       "360.0"
      ]
     },
     "execution_count": 288,
     "metadata": {},
     "output_type": "execute_result"
    }
   ],
   "source": [
    "model.objective.value()"
   ]
  },
  {
   "cell_type": "code",
   "execution_count": 289,
   "metadata": {},
   "outputs": [
    {
     "name": "stdout",
     "output_type": "stream",
     "text": [
      "60buyDecision: 1.0\n",
      "45buyDecision: 1.0\n",
      "75buyDecision: 1.0\n",
      "55buyDecision: 1.0\n",
      "30buyDecision: 0.0\n",
      "65buyDecision: 1.0\n",
      "40buyDecision: 0.0\n",
      "80buyDecision: 1.0\n",
      "50buyDecision: 1.0\n",
      "70buyDecision: 1.0\n"
     ]
    }
   ],
   "source": [
    "for i in attendee_wtp_dict:\n",
    "    print(str(attendee_wtp_dict[i]) + \"buyDecision: \" + str(buyDecision[i].varValue))"
   ]
  },
  {
   "cell_type": "markdown",
   "metadata": {},
   "source": [
    "## Multiple Products with IC Constraints"
   ]
  },
  {
   "cell_type": "code",
   "execution_count": 290,
   "metadata": {},
   "outputs": [
    {
     "name": "stdout",
     "output_type": "stream",
     "text": [
      "Optimal Prices:\n",
      "  Basic: $40.00\n",
      "  Premium: $2500.00\n",
      "  Free: $0.00\n",
      "\n",
      "Purchase Decisions:\n",
      "  Student 1 buys Basic\n",
      "  Student 2 buys Free\n",
      "  Student 3 buys Basic\n",
      "  Student 4 buys Basic\n",
      "  Student 5 buys Free\n",
      "  Student 6 buys Basic\n",
      "  Student 7 buys Basic\n",
      "  Student 8 buys Basic\n",
      "  Student 9 buys Free\n",
      "  Student 10 buys Premium\n",
      "\n",
      "Total Expected Revenue: $2740.00\n"
     ]
    }
   ],
   "source": [
    "# Data\n",
    "WTP_data = {\n",
    "    1: {\"Basic\": 150, \"Premium\": 80},\n",
    "    2: {\"Basic\": 0, \"Premium\": 0},\n",
    "    3: {\"Basic\": 60, \"Premium\": 90},\n",
    "    4: {\"Basic\": 45, \"Premium\": 65},\n",
    "    5: {\"Basic\": 25, \"Premium\": 40},\n",
    "    6: {\"Basic\": 55, \"Premium\": 85},\n",
    "    7: {\"Basic\": 40, \"Premium\": 60},\n",
    "    8: {\"Basic\": 70, \"Premium\": 100},\n",
    "    9: {\"Basic\": 30, \"Premium\": 45},\n",
    "    10: {\"Basic\": 40, \"Premium\": 2500},\n",
    "}\n",
    "students = list(WTP_data.keys())\n",
    "access_levels = [\"Basic\", \"Premium\", \"Free\"]  # Include \"Free\" access level\n",
    "\n",
    "for i in students:\n",
    "    WTP_data[i][\"Free\"] = 0  # WTP for \"Free\" is 0\n",
    "\n",
    "# Model\n",
    "model = pulp.LpProblem(\"Online_Course_Pricing\", pulp.LpMaximize)\n",
    "\n",
    "# Decision variables\n",
    "prices = pulp.LpVariable.dicts(\"Price\", access_levels, lowBound=0)\n",
    "buy = pulp.LpVariable.dicts(\"Buy\", ((i, j) for i in students for j in access_levels), cat='Binary')\n",
    "revenue = pulp.LpVariable.dicts(\"Revenue\", ((i, j) for i in students for j in access_levels), lowBound=0)\n",
    "utility = pulp.LpVariable.dicts(\"Utility\", ((i, j) for i in students for j in access_levels))  # No lower bound!\n",
    "\n",
    "# Objective function\n",
    "model += pulp.lpSum([revenue[(i, j)] for i in students for j in access_levels])\n",
    "\n",
    "# Constraints\n",
    "M = 100000  # Big M value\n",
    "\n",
    "# Individual Rationality (IR) and Revenue Linearization\n",
    "for i in students:\n",
    "    for j in access_levels:\n",
    "        model += prices[j] <= WTP_data[i][j] + M * (1 - buy[(i, j)])\n",
    "        model += revenue[(i, j)] <= prices[j]\n",
    "        model += revenue[(i, j)] <= WTP_data[i][j] * buy[(i, j)]\n",
    "        model += revenue[(i, j)] >= prices[j] - M * (1 - buy[(i, j)])\n",
    "\n",
    "# Incentive Compatibility (IC)\n",
    "for i in students:\n",
    "    for j in access_levels:\n",
    "        model += utility[(i, j)] == WTP_data[i][j] - prices[j]\n",
    "        for k in access_levels:\n",
    "            if k != j:\n",
    "                model += M * (1 - buy[(i, j)]) + utility[(i, j)] >= utility[(i, k)] - M * buy[(i, k)] \n",
    "\n",
    "# One purchase per student (at most), including \"Free\"\n",
    "for i in students:\n",
    "    model += pulp.lpSum([buy[(i, j)] for j in access_levels]) == 1\n",
    "\n",
    "# Set the price of \"Free\" to 0\n",
    "model += prices[\"Free\"] == 0\n",
    "\n",
    "# Solve the model\n",
    "model.solve(PULP_CBC_CMD(msg=0))\n",
    "\n",
    "# Print the solution\n",
    "if model.status == pulp.LpStatusOptimal:\n",
    "    print(\"Optimal Prices:\")\n",
    "    for j in access_levels:\n",
    "        print(f\"  {j}: ${prices[j].varValue:.2f}\")\n",
    "\n",
    "    print(\"\\nPurchase Decisions:\")\n",
    "    for i in students:\n",
    "        for j in access_levels:\n",
    "            if buy[(i, j)].varValue == 1:\n",
    "                print(f\"  Student {i} buys {j}\")\n",
    "\n",
    "    print(f\"\\nTotal Expected Revenue: ${pulp.value(model.objective):.2f}\")\n",
    "else:\n",
    "    print(\"No optimal solution found.\")"
   ]
  },
  {
   "cell_type": "code",
   "execution_count": null,
   "metadata": {},
   "outputs": [],
   "source": []
  }
 ],
 "metadata": {
  "kernelspec": {
   "display_name": "Python 3",
   "language": "python",
   "name": "python3"
  },
  "language_info": {
   "codemirror_mode": {
    "name": "ipython",
    "version": 3
   },
   "file_extension": ".py",
   "mimetype": "text/x-python",
   "name": "python",
   "nbconvert_exporter": "python",
   "pygments_lexer": "ipython3",
   "version": "3.10.13"
  }
 },
 "nbformat": 4,
 "nbformat_minor": 2
}
