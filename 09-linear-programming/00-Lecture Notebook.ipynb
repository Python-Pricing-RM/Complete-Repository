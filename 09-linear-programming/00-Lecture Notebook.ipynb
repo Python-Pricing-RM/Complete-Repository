{
  "cells": [
    {
      "cell_type": "markdown",
      "metadata": {
        "id": "AVXYoSs9RHB9"
      },
      "source": [
        "# Linear Optimization with PuLP\n",
        "\n",
        "First we need to install the package!"
      ]
    },
    {
      "cell_type": "code",
      "execution_count": 24,
      "metadata": {
        "colab": {
          "base_uri": "https://localhost:8080/"
        },
        "id": "Tf0zKf2YLKgN",
        "outputId": "6a4de85f-279f-4035-d842-d036e8e4a614"
      },
      "outputs": [],
      "source": [
        "try:\n",
        "  from pulp import *\n",
        "except:\n",
        "  !pip install pulp\n",
        "  from pulp import *\n",
        "\n",
        "import pandas as pd"
      ]
    },
    {
      "cell_type": "markdown",
      "metadata": {
        "id": "N6lnL8RsL--y"
      },
      "source": [
        "## Our first example problem\n",
        "\n",
        "The first step in using PuLP is to instantiate the underlying problem class, i.e. create an empty model which will then be populated - the only model we specify here is the optiization sense (LpMaximize or LpMinimize). Note that this can already be printed (of course it is quite boring):\n"
      ]
    },
    {
      "cell_type": "code",
      "execution_count": 25,
      "metadata": {
        "colab": {
          "base_uri": "https://localhost:8080/"
        },
        "id": "3DJew91TKovJ",
        "outputId": "7d0f35c4-e07b-40e4-b8c1-677f77f71084"
      },
      "outputs": [
        {
          "name": "stdout",
          "output_type": "stream",
          "text": [
            "my_bakery_problem:\n",
            "MAXIMIZE\n",
            "None\n",
            "VARIABLES\n",
            "\n"
          ]
        }
      ],
      "source": [
        "model = LpProblem('my_bakery_problem', LpMaximize)\n",
        "print(model)"
      ]
    },
    {
      "cell_type": "markdown",
      "metadata": {
        "id": "SaFw4amKMSXa"
      },
      "source": [
        "Following our three-step-approach we next want to create decision variables. The syntax facilitates the direct specification of lower and upper bounds."
      ]
    },
    {
      "cell_type": "code",
      "execution_count": 26,
      "metadata": {
        "colab": {
          "base_uri": "https://localhost:8080/"
        },
        "id": "dJpCsr32L8au",
        "outputId": "a35dab54-f362-48b1-ec16-6e2d5c76e695"
      },
      "outputs": [
        {
          "name": "stdout",
          "output_type": "stream",
          "text": [
            "my_bakery_problem:\n",
            "MAXIMIZE\n",
            "None\n",
            "VARIABLES\n",
            "\n"
          ]
        }
      ],
      "source": [
        "# Create decision variables\n",
        "A = LpVariable('A', lowBound=0)\n",
        "B = LpVariable('B', lowBound=0)\n",
        "print(model)"
      ]
    },
    {
      "cell_type": "markdown",
      "metadata": {
        "id": "ggi5lg36OV7g"
      },
      "source": [
        "Note that we create references to LpVariable objects which we can subsequently call in objective function and constraints.\n",
        "\n",
        "Our objective function is simply added onto the model and we can print the problem again to verify if we were successful:"
      ]
    },
    {
      "cell_type": "code",
      "execution_count": 27,
      "metadata": {
        "colab": {
          "base_uri": "https://localhost:8080/"
        },
        "id": "AePvjE7aL9Fv",
        "outputId": "cac5d807-43fd-4b8b-efd4-e861752507ff"
      },
      "outputs": [
        {
          "name": "stdout",
          "output_type": "stream",
          "text": [
            "my_bakery_problem:\n",
            "MAXIMIZE\n",
            "20*A + 40*B + 0\n",
            "VARIABLES\n",
            "A Continuous\n",
            "B Continuous\n",
            "\n"
          ]
        }
      ],
      "source": [
        "# Objective function\n",
        "model += 20 * A + 40 * B, \"Profit\"\n",
        "print(model)"
      ]
    },
    {
      "cell_type": "markdown",
      "metadata": {
        "id": "nbvLXFzlO01L"
      },
      "source": [
        "Unconstrained optimization is of course boring - so we just add our constraints onto the model object:"
      ]
    },
    {
      "cell_type": "code",
      "execution_count": 28,
      "metadata": {
        "colab": {
          "base_uri": "https://localhost:8080/"
        },
        "id": "Qfna0DKsL9e8",
        "outputId": "38c11445-0b25-4013-bc95-362a1d118da7"
      },
      "outputs": [
        {
          "name": "stdout",
          "output_type": "stream",
          "text": [
            "my_bakery_problem:\n",
            "MAXIMIZE\n",
            "20*A + 40*B + 0\n",
            "SUBJECT TO\n",
            "_C1: 0.5 A + B <= 30\n",
            "\n",
            "_C2: A + 2.5 B <= 60\n",
            "\n",
            "_C3: A + 2 B <= 22\n",
            "\n",
            "VARIABLES\n",
            "A Continuous\n",
            "B Continuous\n",
            "\n"
          ]
        }
      ],
      "source": [
        "# Constraints\n",
        "model += 0.5 * A + 1 * B <= 30\n",
        "model += 1 * A + 2.5 * B <= 60\n",
        "model += 1 * A + 2 * B <= 22\n",
        "\n",
        "print(model)"
      ]
    },
    {
      "cell_type": "markdown",
      "metadata": {
        "id": "SXblsHkUPGbq"
      },
      "source": [
        "Note that the last output was not so nice as we did not name our constraints and in turn receive generic constraint names like _C1. Let's recreate the complete optimization problem in one go and introduce meaningful names:"
      ]
    },
    {
      "cell_type": "code",
      "execution_count": 29,
      "metadata": {
        "colab": {
          "base_uri": "https://localhost:8080/"
        },
        "id": "IUpbacXiPU2o",
        "outputId": "311c0176-ad62-4f31-a98f-042925fe4ac8"
      },
      "outputs": [
        {
          "name": "stdout",
          "output_type": "stream",
          "text": [
            "my_bakery_problem:\n",
            "MAXIMIZE\n",
            "20*A + 40*B + 0\n",
            "SUBJECT TO\n",
            "Oven_Availability_(1x30): 0.5 A + B <= 30\n",
            "\n",
            "Baker_Availability_(2x30): A + 2.5 B <= 60\n",
            "\n",
            "Packer_Availability_(1x22): A + 2 B <= 22\n",
            "\n",
            "VARIABLES\n",
            "A Continuous\n",
            "B Continuous\n",
            "\n"
          ]
        }
      ],
      "source": [
        "# Base model\n",
        "model = LpProblem('my_bakery_problem', LpMaximize)\n",
        "# Create decision variables\n",
        "A = LpVariable('A', lowBound=0)\n",
        "B = LpVariable('B', lowBound=0)\n",
        "# Objective function\n",
        "model += 20 * A + 40 * B, \"Profit\"\n",
        "# Constraints\n",
        "model += 0.5 * A + 1 * B <= 30, \"Oven Availability (1x30)\"\n",
        "model += 1 * A + 2.5 * B <= 60, \"Baker Availability (2x30)\"\n",
        "model += 1 * A + 2 * B <= 22, \"Packer Availability (1x22)\"\n",
        "\n",
        "print(model)"
      ]
    },
    {
      "cell_type": "markdown",
      "metadata": {
        "id": "j7LIVsaoKxVv"
      },
      "source": [
        "Much better - with the modeling successfully completed we next proceed to solving the problem which is achieved by simply calling the model object's solve function:"
      ]
    },
    {
      "cell_type": "code",
      "execution_count": 30,
      "metadata": {
        "colab": {
          "base_uri": "https://localhost:8080/"
        },
        "id": "iq3K8v-pKxjT",
        "outputId": "1dc555dd-67b4-4867-af24-bda8e82d9e4e"
      },
      "outputs": [
        {
          "name": "stdout",
          "output_type": "stream",
          "text": [
            "Welcome to the CBC MILP Solver \n",
            "Version: 2.10.3 \n",
            "Build Date: Dec 15 2019 \n",
            "\n",
            "command line - /usr/local/python/3.10.13/lib/python3.10/site-packages/pulp/solverdir/cbc/linux/64/cbc /tmp/2823141b10a448ed9479a295fa93a8ca-pulp.mps -max -timeMode elapsed -branch -printingOptions all -solution /tmp/2823141b10a448ed9479a295fa93a8ca-pulp.sol (default strategy 1)\n",
            "At line 2 NAME          MODEL\n",
            "At line 3 ROWS\n",
            "At line 8 COLUMNS\n",
            "At line 17 RHS\n",
            "At line 21 BOUNDS\n",
            "At line 22 ENDATA\n",
            "Problem MODEL has 3 rows, 2 columns and 6 elements\n",
            "Coin0008I MODEL read with 0 errors\n",
            "Option for timeMode changed from cpu to elapsed\n",
            "Presolve 3 (0) rows, 2 (0) columns and 6 (0) elements\n",
            "0  Obj -0 Dual inf 80 (2)\n",
            "0  Obj -0 Dual inf 80 (2)\n",
            "1  Obj 440\n",
            "Optimal - objective value 440\n",
            "Optimal objective 440 - 1 iterations time 0.002\n",
            "Option for printingOptions changed from normal to all\n",
            "Total time (CPU seconds):       0.00   (Wallclock seconds):       0.00\n",
            "\n"
          ]
        },
        {
          "data": {
            "text/plain": [
              "1"
            ]
          },
          "execution_count": 30,
          "metadata": {},
          "output_type": "execute_result"
        }
      ],
      "source": [
        "# Solve our problem\n",
        "model.solve()"
      ]
    },
    {
      "cell_type": "markdown",
      "metadata": {
        "id": "pUgDhcEzP265"
      },
      "source": [
        "What is 1? Not the result we were expecting but of course this is just a status code which we can also access directly:"
      ]
    },
    {
      "cell_type": "code",
      "execution_count": 31,
      "metadata": {
        "colab": {
          "base_uri": "https://localhost:8080/"
        },
        "id": "DKQniobmP0W_",
        "outputId": "503e4391-c558-4f15-fd37-05fd437777d8"
      },
      "outputs": [
        {
          "data": {
            "text/plain": [
              "1"
            ]
          },
          "execution_count": 31,
          "metadata": {},
          "output_type": "execute_result"
        }
      ],
      "source": [
        "model.status"
      ]
    },
    {
      "cell_type": "markdown",
      "metadata": {
        "id": "sflxLyZMP_0X"
      },
      "source": [
        "What does 1 mean in this case? The pulp import establishes the following dictionary whith status code meanings:"
      ]
    },
    {
      "cell_type": "code",
      "execution_count": 32,
      "metadata": {
        "colab": {
          "base_uri": "https://localhost:8080/"
        },
        "id": "rWyTVWxhPzYE",
        "outputId": "7b9079e3-2a44-40f4-83f2-acbf3f682ca2"
      },
      "outputs": [
        {
          "data": {
            "text/plain": [
              "{0: 'Not Solved',\n",
              " 1: 'Optimal',\n",
              " -1: 'Infeasible',\n",
              " -2: 'Unbounded',\n",
              " -3: 'Undefined'}"
            ]
          },
          "execution_count": 32,
          "metadata": {},
          "output_type": "execute_result"
        }
      ],
      "source": [
        "LpStatus"
      ]
    },
    {
      "cell_type": "markdown",
      "metadata": {
        "id": "654y7EgTQJlH"
      },
      "source": [
        "Then we can easily verify that we optimally solved the problem by calling the following:"
      ]
    },
    {
      "cell_type": "code",
      "execution_count": 33,
      "metadata": {
        "colab": {
          "base_uri": "https://localhost:8080/",
          "height": 35
        },
        "id": "sUwmipCZPwjj",
        "outputId": "9bef3d50-474d-41e3-94c6-e7409f116ed2"
      },
      "outputs": [
        {
          "data": {
            "text/plain": [
              "'Optimal'"
            ]
          },
          "execution_count": 33,
          "metadata": {},
          "output_type": "execute_result"
        }
      ],
      "source": [
        "LpStatus[model.status]"
      ]
    },
    {
      "cell_type": "markdown",
      "metadata": {
        "id": "a3WKigVwQSfg"
      },
      "source": [
        "How to we access this optimal solution? Remember that we created references to our decision variables in the beginning. It turns out it is these variables which were then referenced by the model that carry their optimal value assignment in the property `varValue`:"
      ]
    },
    {
      "cell_type": "code",
      "execution_count": 34,
      "metadata": {
        "colab": {
          "base_uri": "https://localhost:8080/"
        },
        "id": "TKEJCnSjQQLZ",
        "outputId": "3cc7a61e-e662-48bc-c43f-8fdb601b4c31"
      },
      "outputs": [
        {
          "name": "stdout",
          "output_type": "stream",
          "text": [
            "Optimal production amount of Cake A = 0.0\n",
            "Optimal production amount of Cake B = 11.0\n"
          ]
        }
      ],
      "source": [
        "# Print our decision variable values\n",
        "print(f\"Optimal production amount of Cake A = {A.varValue}\")\n",
        "print(f\"Optimal production amount of Cake B = {B.varValue}\")"
      ]
    },
    {
      "cell_type": "markdown",
      "metadata": {
        "id": "mcQPlONMQzK1"
      },
      "source": [
        "Similarly, the corresponding objective value can be accessed via `model.objective`:"
      ]
    },
    {
      "cell_type": "code",
      "execution_count": 35,
      "metadata": {
        "colab": {
          "base_uri": "https://localhost:8080/"
        },
        "id": "Lnr_svciQOr9",
        "outputId": "9fbd3ac2-211e-4e31-f0ee-f1efec51c24b"
      },
      "outputs": [
        {
          "name": "stdout",
          "output_type": "stream",
          "text": [
            "Optimal profit is 440.0\n"
          ]
        }
      ],
      "source": [
        "# Print our objective function value\n",
        "print(f\"Optimal profit is {model.objective.value()}\")\n"
      ]
    },
    {
      "cell_type": "markdown",
      "metadata": {
        "id": "bD7EijtsQ2Uq"
      },
      "source": [
        "This was our first example - not too bad I would say!\n",
        "\n"
      ]
    },
    {
      "cell_type": "markdown",
      "metadata": {
        "id": "UtzyVjmZKLin"
      },
      "source": [
        "### Modeling the complex bakery"
      ]
    },
    {
      "cell_type": "code",
      "execution_count": 36,
      "metadata": {
        "id": "C_b0tgp-KKhW"
      },
      "outputs": [],
      "source": [
        "# Cake Database\n",
        "cake_data\t=\t{   \"A\": {'profit': 20, 'oven' : 0.5, 'bakers' : 1, 'packers' : 1, 'orders' : 1},\n",
        "                    \"B\": {'profit': 40, 'oven' : 1, 'bakers' : 2.5, 'packers' : 2, 'orders' : 2},\n",
        "                    \"C\": {'profit': 33, 'oven' : 1, 'bakers' : 2, 'packers' : 2, 'orders' : 0},\n",
        "                    \"D\": {'profit': 14, 'oven' : 0.5, 'bakers' : 1.5, 'packers' : 1, 'orders' : 1},\n",
        "                    \"E\": {'profit': 6, 'oven' : 0.25, 'bakers' : 0.25, 'packers' : 1, 'orders' : 1},\n",
        "                    \"F\": {'profit': 60, 'oven' : 2.5, 'bakers' : 3, 'packers' : 3, 'orders' : 0}}"
      ]
    },
    {
      "cell_type": "code",
      "execution_count": 37,
      "metadata": {},
      "outputs": [
        {
          "data": {
            "text/plain": [
              "{'A': make_A, 'B': make_B, 'C': make_C, 'D': make_D, 'E': make_E, 'F': make_F}"
            ]
          },
          "execution_count": 37,
          "metadata": {},
          "output_type": "execute_result"
        }
      ],
      "source": [
        "#Model and Variables\n",
        "model = LpProblem(\"My_complex_bakery\", LpMaximize)\n",
        "cakeDecisions = LpVariable.dict('make', cake_data, 0)\n",
        "cakeDecisions"
      ]
    },
    {
      "cell_type": "code",
      "execution_count": 38,
      "metadata": {},
      "outputs": [
        {
          "name": "stdout",
          "output_type": "stream",
          "text": [
            "My_complex_bakery:\n",
            "MAXIMIZE\n",
            "20*make_A + 40*make_B + 33*make_C + 14*make_D + 6*make_E + 60*make_F + 0\n",
            "VARIABLES\n",
            "make_A Continuous\n",
            "make_B Continuous\n",
            "make_C Continuous\n",
            "make_D Continuous\n",
            "make_E Continuous\n",
            "make_F Continuous\n",
            "\n"
          ]
        }
      ],
      "source": [
        "#Objective Function\n",
        "model += lpSum([cakeDecisions[i] * cake_data[i]['profit'] for i in cake_data.keys()])\n",
        "print(model)"
      ]
    },
    {
      "cell_type": "code",
      "execution_count": 39,
      "metadata": {},
      "outputs": [
        {
          "name": "stdout",
          "output_type": "stream",
          "text": [
            "My_complex_bakery:\n",
            "MAXIMIZE\n",
            "20*make_A + 40*make_B + 33*make_C + 14*make_D + 6*make_E + 60*make_F + 0\n",
            "SUBJECT TO\n",
            "oven_capacity: 0.5 make_A + make_B + make_C + 0.5 make_D + 0.25 make_E\n",
            " + 2.5 make_F <= 30\n",
            "\n",
            "baker_capacity: make_A + 2.5 make_B + 2 make_C + 1.5 make_D + 0.25 make_E\n",
            " + 3 make_F <= 60\n",
            "\n",
            "packer_capacity: make_A + 2 make_B + 2 make_C + make_D + make_E + 3 make_F\n",
            " <= 22\n",
            "\n",
            "orders_A: make_A >= 1\n",
            "\n",
            "orders_B: make_B >= 2\n",
            "\n",
            "orders_C: make_C >= 0\n",
            "\n",
            "orders_D: make_D >= 1\n",
            "\n",
            "orders_E: make_E >= 1\n",
            "\n",
            "orders_F: make_F >= 0\n",
            "\n",
            "VARIABLES\n",
            "make_A Continuous\n",
            "make_B Continuous\n",
            "make_C Continuous\n",
            "make_D Continuous\n",
            "make_E Continuous\n",
            "make_F Continuous\n",
            "\n"
          ]
        }
      ],
      "source": [
        "#Constraints and Solve\n",
        "model += lpSum([cakeDecisions[i] * cake_data[i]['oven'] for i in cake_data.keys()]) <= 30, \"oven capacity\"\n",
        "model += lpSum([cakeDecisions[i] * cake_data[i]['bakers'] for i in cake_data.keys()]) <= 60, \"baker capacity\"\n",
        "model += lpSum([cakeDecisions[i] * cake_data[i]['packers'] for i in cake_data.keys()]) <= 22, \"packer capacity\"\n",
        "\n",
        "for i in cake_data.keys():\n",
        "    model += cakeDecisions[i] >= cake_data[i]['orders'], \"orders \"+i\n",
        "\n",
        "print(model)\n"
      ]
    },
    {
      "cell_type": "code",
      "execution_count": 40,
      "metadata": {},
      "outputs": [
        {
          "name": "stdout",
          "output_type": "stream",
          "text": [
            "Welcome to the CBC MILP Solver \n",
            "Version: 2.10.3 \n",
            "Build Date: Dec 15 2019 \n",
            "\n",
            "command line - /usr/local/python/3.10.13/lib/python3.10/site-packages/pulp/solverdir/cbc/linux/64/cbc /tmp/e8d154bf367549b6ab88aeede59eaff4-pulp.mps -max -timeMode elapsed -branch -printingOptions all -solution /tmp/e8d154bf367549b6ab88aeede59eaff4-pulp.sol (default strategy 1)\n",
            "At line 2 NAME          MODEL\n",
            "At line 3 ROWS\n",
            "At line 14 COLUMNS\n",
            "At line 45 RHS\n",
            "At line 55 BOUNDS\n",
            "At line 56 ENDATA\n",
            "Problem MODEL has 9 rows, 6 columns and 24 elements\n",
            "Coin0008I MODEL read with 0 errors\n",
            "Option for timeMode changed from cpu to elapsed\n",
            "Presolve 3 (-6) rows, 6 (0) columns and 18 (-6) elements\n",
            "0  Obj 120 Dual inf 263.49999 (6)\n",
            "3  Obj 420\n",
            "Optimal - objective value 420\n",
            "After Postsolve, objective 420, infeasibilities - dual 0 (0), primal 0 (0)\n",
            "Optimal objective 420 - 3 iterations time 0.002, Presolve 0.00\n",
            "Option for printingOptions changed from normal to all\n",
            "Total time (CPU seconds):       0.00   (Wallclock seconds):       0.00\n",
            "\n"
          ]
        },
        {
          "data": {
            "text/plain": [
              "1"
            ]
          },
          "execution_count": 40,
          "metadata": {},
          "output_type": "execute_result"
        }
      ],
      "source": [
        "model.solve()"
      ]
    },
    {
      "cell_type": "code",
      "execution_count": 41,
      "metadata": {},
      "outputs": [
        {
          "name": "stdout",
          "output_type": "stream",
          "text": [
            "Cake A: 1.0\n",
            "Cake B: 9.5\n",
            "Cake C: 0.0\n",
            "Cake D: 1.0\n",
            "Cake E: 1.0\n",
            "Cake F: 0.0\n"
          ]
        }
      ],
      "source": [
        "for i in cakeDecisions:\n",
        "    print(\"Cake \" + str(i) + \": \" + str(cakeDecisions[i].value()))"
      ]
    },
    {
      "cell_type": "code",
      "execution_count": 42,
      "metadata": {},
      "outputs": [
        {
          "data": {
            "text/plain": [
              "420.0"
            ]
          },
          "execution_count": 42,
          "metadata": {},
          "output_type": "execute_result"
        }
      ],
      "source": [
        "model.objective.value()"
      ]
    },
    {
      "cell_type": "markdown",
      "metadata": {
        "id": "ltw_oGjnUdSh"
      },
      "source": [
        "## Example 2 - Investment Problem\n",
        "\n",
        "We want to invest in bonds and have indentified two attractive options:\n",
        "\n",
        "Bond A:\n",
        " * Yield: 4 (percent)\n",
        " * Risk rating: 2 (higher is worse)\n",
        " * Maturity: 3 (years)\n",
        "\n",
        "Bond B:\n",
        " * Yield: 3\n",
        " * Risk rating: 1\n",
        " * Maturity: 4\n",
        "\n",
        "We can invest up to 100$. We want a weighted risk score of at most 1.5 for our portfolio. Furthermore, the average maturity should not exceed 3.6.\n",
        "\n",
        "__Try to accomplish the following things:__\n",
        "* Create and solve the optimization problem analogue to the prior problem\n",
        "* Create a simple sensitivity analysis for the bond investment problem. The analysis should systematically change one of the two risk parameters, optimize the portfolio for each setting and store the solution in a dictionary.\n",
        "* BONUS: can you plot the one-way parameter change (You can use `from_dict(results, orient='index')` to obtain a dataframe)"
      ]
    },
    {
      "cell_type": "code",
      "execution_count": 43,
      "metadata": {},
      "outputs": [
        {
          "name": "stdout",
          "output_type": "stream",
          "text": [
            "my-bond-problem:\n",
            "MAXIMIZE\n",
            "0.04*buy_A + 0.03*buy_B + 0.0\n",
            "SUBJECT TO\n",
            "risk: 0.5 buy_A - 0.5 buy_B <= 0\n",
            "\n",
            "budget: buy_A + buy_B <= 100\n",
            "\n",
            "maturity: - 0.6 buy_A + 0.4 buy_B <= 0\n",
            "\n",
            "VARIABLES\n",
            "buy_A Continuous\n",
            "buy_B Continuous\n",
            "\n"
          ]
        }
      ],
      "source": [
        "bonds = {\"A\": {\"risk\": 2, \"yield\" : 4, \"maturity\" : 3},\n",
        "         \"B\": {\"risk\": 1, \"yield\" : 3, \"maturity\" : 4}}\n",
        "\n",
        "bond_model = LpProblem(\"my-bond-problem\", LpMaximize)\n",
        "\n",
        "X = LpVariable.dict(\"buy\",bonds,0)\n",
        "\n",
        "bond_model += lpSum([X[i] * bonds[i]['yield'] / 100 for i in bonds.keys()])\n",
        "\n",
        "bond_model += lpSum([X[i] * bonds[i]['risk']] for i in bonds.keys()) <= 1.5 * lpSum(X[i] for i in bonds.keys()), \"risk\"\n",
        "bond_model += lpSum([X[i] for i in bonds.keys()]) <= 100, \"budget\"\n",
        "bond_model += lpSum([X[i] * bonds[i]['maturity'] for i in bonds.keys()]) <= 3.6 * lpSum([X[i] for i in bonds.keys()]), \"maturity\"\n",
        "\n",
        "print(bond_model)"
      ]
    },
    {
      "cell_type": "code",
      "execution_count": 44,
      "metadata": {},
      "outputs": [
        {
          "name": "stdout",
          "output_type": "stream",
          "text": [
            "Welcome to the CBC MILP Solver \n",
            "Version: 2.10.3 \n",
            "Build Date: Dec 15 2019 \n",
            "\n",
            "command line - /usr/local/python/3.10.13/lib/python3.10/site-packages/pulp/solverdir/cbc/linux/64/cbc /tmp/85031186a1014060a642d69eff2bdf62-pulp.mps -max -timeMode elapsed -branch -printingOptions all -solution /tmp/85031186a1014060a642d69eff2bdf62-pulp.sol (default strategy 1)\n",
            "At line 2 NAME          MODEL\n",
            "At line 3 ROWS\n",
            "At line 8 COLUMNS\n",
            "At line 17 RHS\n",
            "At line 21 BOUNDS\n",
            "At line 22 ENDATA\n",
            "Problem MODEL has 3 rows, 2 columns and 6 elements\n",
            "Coin0008I MODEL read with 0 errors\n",
            "Option for timeMode changed from cpu to elapsed\n",
            "Presolve 3 (0) rows, 2 (0) columns and 6 (0) elements\n",
            "0  Obj -0 Dual inf 0.0699998 (2)\n",
            "0  Obj -0 Dual inf 0.0699998 (2)\n",
            "2  Obj 3.5\n",
            "Optimal - objective value 3.5\n",
            "Optimal objective 3.5 - 2 iterations time 0.002\n",
            "Option for printingOptions changed from normal to all\n",
            "Total time (CPU seconds):       0.00   (Wallclock seconds):       0.00\n",
            "\n"
          ]
        },
        {
          "data": {
            "text/plain": [
              "1"
            ]
          },
          "execution_count": 44,
          "metadata": {},
          "output_type": "execute_result"
        }
      ],
      "source": [
        "bond_model.solve()"
      ]
    },
    {
      "cell_type": "code",
      "execution_count": 45,
      "metadata": {},
      "outputs": [
        {
          "name": "stdout",
          "output_type": "stream",
          "text": [
            "A 50.0\n",
            "B 50.0\n",
            "3.5\n"
          ]
        }
      ],
      "source": [
        "for i in X:\n",
        "    print(i, X[i].varValue)\n",
        "\n",
        "print(bond_model.objective.value())"
      ]
    },
    {
      "cell_type": "code",
      "execution_count": 46,
      "metadata": {},
      "outputs": [],
      "source": [
        "riskValues = list(range(0,200))\n",
        "results = []\n",
        "for bRisk in riskValues:\n",
        "    bonds[\"B\"][\"risk\"] = bRisk / 100\n",
        "    bond_model = LpProblem(\"my-bond-problem\", LpMaximize)\n",
        "    X = LpVariable.dict(\"buy\",bonds,0)\n",
        "    bond_model += lpSum([X[i] * bonds[i]['yield'] / 100 for i in bonds.keys()])\n",
        "    bond_model += lpSum([X[i] * bonds[i]['risk']] for i in bonds.keys()) <= 1.5 * 100, \"risk\"\n",
        "    bond_model += lpSum([X[i] for i in bonds.keys()]) <= 100, \"budget\"\n",
        "    bond_model += lpSum([X[i] * bonds[i]['maturity'] for i in bonds.keys()]) <= 4 * 100, \"maturity\"\n",
        "    bond_model.solve(PULP_CBC_CMD(msg=0))\n",
        "    results.append({'b_risk' : bRisk / 100, 'value' : bond_model.objective.value(), 'A' : X['A'].varValue, 'B':X['B'].varValue})\n",
        "\n",
        "results = pd.DataFrame(results)"
      ]
    },
    {
      "cell_type": "code",
      "execution_count": 47,
      "metadata": {},
      "outputs": [
        {
          "name": "stdout",
          "output_type": "stream",
          "text": [
            "Collecting lets_plot\n",
            "  Downloading lets_plot-4.4.0-cp310-cp310-manylinux_2_17_x86_64.manylinux2014_x86_64.whl.metadata (9.7 kB)\n",
            "Collecting pypng (from lets_plot)\n",
            "  Downloading pypng-0.20220715.0-py3-none-any.whl.metadata (13 kB)\n",
            "Collecting palettable (from lets_plot)\n",
            "  Downloading palettable-3.3.3-py2.py3-none-any.whl.metadata (3.3 kB)\n",
            "Downloading lets_plot-4.4.0-cp310-cp310-manylinux_2_17_x86_64.manylinux2014_x86_64.whl (3.1 MB)\n",
            "\u001b[2K   \u001b[90m━━━━━━━━━━━━━━━━━━━━━━━━━━━━━━━━━━━━━━━━\u001b[0m \u001b[32m3.1/3.1 MB\u001b[0m \u001b[31m41.8 MB/s\u001b[0m eta \u001b[36m0:00:00\u001b[0m:00:01\u001b[0m\n",
            "\u001b[?25hDownloading palettable-3.3.3-py2.py3-none-any.whl (332 kB)\n",
            "\u001b[2K   \u001b[90m━━━━━━━━━━━━━━━━━━━━━━━━━━━━━━━━━━━━━━━━\u001b[0m \u001b[32m332.3/332.3 kB\u001b[0m \u001b[31m10.1 MB/s\u001b[0m eta \u001b[36m0:00:00\u001b[0m\n",
            "\u001b[?25hDownloading pypng-0.20220715.0-py3-none-any.whl (58 kB)\n",
            "\u001b[2K   \u001b[90m━━━━━━━━━━━━━━━━━━━━━━━━━━━━━━━━━━━━━━━━\u001b[0m \u001b[32m58.1/58.1 kB\u001b[0m \u001b[31m1.3 MB/s\u001b[0m eta \u001b[36m0:00:00\u001b[0meta \u001b[36m0:00:01\u001b[0m\n",
            "\u001b[?25hInstalling collected packages: pypng, palettable, lets_plot\n",
            "Successfully installed lets_plot-4.4.0 palettable-3.3.3 pypng-0.20220715.0\n",
            "\n",
            "\u001b[1m[\u001b[0m\u001b[34;49mnotice\u001b[0m\u001b[1;39;49m]\u001b[0m\u001b[39;49m A new release of pip is available: \u001b[0m\u001b[31;49m24.1.2\u001b[0m\u001b[39;49m -> \u001b[0m\u001b[32;49m24.2\u001b[0m\n",
            "\u001b[1m[\u001b[0m\u001b[34;49mnotice\u001b[0m\u001b[1;39;49m]\u001b[0m\u001b[39;49m To update, run: \u001b[0m\u001b[32;49mpython -m pip install --upgrade pip\u001b[0m\n",
            "Note: you may need to restart the kernel to use updated packages.\n"
          ]
        }
      ],
      "source": [
        "pip install lets_plot"
      ]
    },
    {
      "cell_type": "code",
      "execution_count": 48,
      "metadata": {},
      "outputs": [
        {
          "data": {
            "text/html": [
              "\n",
              "            <div id=\"KzLQ4i\"></div>\n",
              "            <script type=\"text/javascript\" data-lets-plot-script=\"library\">\n",
              "                if(!window.letsPlotCallQueue) {\n",
              "                    window.letsPlotCallQueue = [];\n",
              "                }; \n",
              "                window.letsPlotCall = function(f) {\n",
              "                    window.letsPlotCallQueue.push(f);\n",
              "                };\n",
              "                (function() {\n",
              "                    var script = document.createElement(\"script\");\n",
              "                    script.type = \"text/javascript\";\n",
              "                    script.src = \"https://cdn.jsdelivr.net/gh/JetBrains/lets-plot@v4.4.0/js-package/distr/lets-plot.min.js\";\n",
              "                    script.onload = function() {\n",
              "                        window.letsPlotCall = function(f) {f();};\n",
              "                        window.letsPlotCallQueue.forEach(function(f) {f();});\n",
              "                        window.letsPlotCallQueue = [];\n",
              "                        \n",
              "                    };\n",
              "                    script.onerror = function(event) {\n",
              "                        window.letsPlotCall = function(f) {};    // noop\n",
              "                        window.letsPlotCallQueue = [];\n",
              "                        var div = document.createElement(\"div\");\n",
              "                        div.style.color = 'darkred';\n",
              "                        div.textContent = 'Error loading Lets-Plot JS';\n",
              "                        document.getElementById(\"KzLQ4i\").appendChild(div);\n",
              "                    };\n",
              "                    var e = document.getElementById(\"KzLQ4i\");\n",
              "                    e.appendChild(script);\n",
              "                })()\n",
              "            </script>\n",
              "            "
            ]
          },
          "metadata": {},
          "output_type": "display_data"
        },
        {
          "data": {
            "text/html": [
              "   <div id=\"0E632d\"></div>\n",
              "   <script type=\"text/javascript\" data-lets-plot-script=\"plot\">\n",
              "       (function() {\n",
              "           var plotSpec={\n",
              "\"data\":{\n",
              "\"b_risk\":[0.0,0.01,0.02,0.03,0.04,0.05,0.06,0.07,0.08,0.09,0.1,0.11,0.12,0.13,0.14,0.15,0.16,0.17,0.18,0.19,0.2,0.21,0.22,0.23,0.24,0.25,0.26,0.27,0.28,0.29,0.3,0.31,0.32,0.33,0.34,0.35,0.36,0.37,0.38,0.39,0.4,0.41,0.42,0.43,0.44,0.45,0.46,0.47,0.48,0.49,0.5,0.51,0.52,0.53,0.54,0.55,0.56,0.57,0.58,0.59,0.6,0.61,0.62,0.63,0.64,0.65,0.66,0.67,0.68,0.69,0.7,0.71,0.72,0.73,0.74,0.75,0.76,0.77,0.78,0.79,0.8,0.81,0.82,0.83,0.84,0.85,0.86,0.87,0.88,0.89,0.9,0.91,0.92,0.93,0.94,0.95,0.96,0.97,0.98,0.99,1.0,1.01,1.02,1.03,1.04,1.05,1.06,1.07,1.08,1.09,1.1,1.11,1.12,1.13,1.14,1.15,1.16,1.17,1.18,1.19,1.2,1.21,1.22,1.23,1.24,1.25,1.26,1.27,1.28,1.29,1.3,1.31,1.32,1.33,1.34,1.35,1.36,1.37,1.38,1.39,1.4,1.41,1.42,1.43,1.44,1.45,1.46,1.47,1.48,1.49,1.5,1.51,1.52,1.53,1.54,1.55,1.56,1.57,1.58,1.59,1.6,1.61,1.62,1.63,1.64,1.65,1.66,1.67,1.68,1.69,1.7,1.71,1.72,1.73,1.74,1.75,1.76,1.77,1.78,1.79,1.8,1.81,1.82,1.83,1.84,1.85,1.86,1.87,1.88,1.89,1.9,1.91,1.92,1.93,1.94,1.95,1.96,1.97,1.98,1.99],\n",
              "\"A\":[75.0,74.874372,74.747475,74.619289,74.489796,74.358974,74.226804,74.093264,73.958333,73.82199,73.684211,73.544974,73.404255,73.262032,73.11828,72.972973,72.826087,72.677596,72.527473,72.375691,72.222222,72.067039,71.910112,71.751412,71.590909,71.428571,71.264368,71.098266,70.930233,70.760234,70.588235,70.414201,70.238095,70.05988,69.879518,69.69697,69.512195,69.325153,69.135802,68.944099,68.75,68.553459,68.35443,68.152866,67.948718,67.741935,67.532468,67.320261,67.105263,66.887417,66.666667,66.442953,66.216216,65.986395,65.753425,65.517241,65.277778,65.034965,64.788732,64.539007,64.285714,64.028777,63.768116,63.50365,63.235294,62.962963,62.686567,62.406015,62.121212,61.832061,61.538462,61.24031,60.9375,60.629921,60.31746,60.0,59.677419,59.349593,59.016393,58.677686,58.333333,57.983193,57.627119,57.264957,56.896552,56.521739,56.140351,55.752212,55.357143,54.954955,54.545455,54.12844,53.703704,53.271028,52.830189,52.380952,51.923077,51.456311,50.980392,50.49505,50.0,49.494949,48.979592,48.453608,47.916667,47.368421,46.808511,46.236559,45.652174,45.054945,44.444444,43.820225,43.181818,42.528736,41.860465,41.176471,40.47619,39.759036,39.02439,38.271605,37.5,36.708861,35.897436,35.064935,34.210526,33.333333,32.432432,31.506849,30.555556,29.577465,28.571429,27.536232,26.470588,25.373134,24.242424,23.076923,21.875,20.634921,19.354839,18.032787,16.666667,15.254237,13.793103,12.280702,10.714286,9.0909091,7.4074074,5.6603774,3.8461538,1.9607843,75.0,75.0,75.0,75.0,75.0,75.0,75.0,75.0,75.0,75.0,75.0,75.0,75.0,75.0,75.0,75.0,75.0,75.0,75.0,75.0,75.0,75.0,75.0,75.0,75.0,75.0,75.0,75.0,75.0,75.0,75.0,75.0,75.0,75.0,75.0,75.0,75.0,75.0,75.0,75.0,75.0,75.0,75.0,75.0,75.0,75.0,75.0,75.0,75.0,75.0],\n",
              "\"B\":[25.0,25.125628,25.252525,25.380711,25.510204,25.641026,25.773196,25.906736,26.041667,26.17801,26.315789,26.455026,26.595745,26.737968,26.88172,27.027027,27.173913,27.322404,27.472527,27.624309,27.777778,27.932961,28.089888,28.248588,28.409091,28.571429,28.735632,28.901734,29.069767,29.239766,29.411765,29.585799,29.761905,29.94012,30.120482,30.30303,30.487805,30.674847,30.864198,31.055901,31.25,31.446541,31.64557,31.847134,32.051282,32.258065,32.467532,32.679739,32.894737,33.112583,33.333333,33.557047,33.783784,34.013605,34.246575,34.482759,34.722222,34.965035,35.211268,35.460993,35.714286,35.971223,36.231884,36.49635,36.764706,37.037037,37.313433,37.593985,37.878788,38.167939,38.461538,38.75969,39.0625,39.370079,39.68254,40.0,40.322581,40.650407,40.983607,41.322314,41.666667,42.016807,42.372881,42.735043,43.103448,43.478261,43.859649,44.247788,44.642857,45.045045,45.454545,45.87156,46.296296,46.728972,47.169811,47.619048,48.076923,48.543689,49.019608,49.50495,50.0,50.505051,51.020408,51.546392,52.083333,52.631579,53.191489,53.763441,54.347826,54.945055,55.555556,56.179775,56.818182,57.471264,58.139535,58.823529,59.52381,60.240964,60.97561,61.728395,62.5,63.291139,64.102564,64.935065,65.789474,66.666667,67.567568,68.493151,69.444444,70.422535,71.428571,72.463768,73.529412,74.626866,75.757576,76.923077,78.125,79.365079,80.645161,81.967213,83.333333,84.745763,86.206897,87.719298,89.285714,90.909091,92.592593,94.339623,96.153846,98.039216,0.0,0.0,0.0,0.0,0.0,0.0,0.0,0.0,0.0,0.0,0.0,0.0,0.0,0.0,0.0,0.0,0.0,0.0,0.0,0.0,0.0,0.0,0.0,0.0,0.0,0.0,0.0,0.0,0.0,0.0,0.0,0.0,0.0,0.0,0.0,0.0,0.0,0.0,0.0,0.0,0.0,0.0,0.0,0.0,0.0,0.0,0.0,0.0,0.0,0.0],\n",
              "\"investment\":[100.0,100.0,100.0,100.0,100.0,100.0,100.0,100.0,100.0,100.0,100.0,100.0,100.0,100.0,100.0,100.0,100.0,100.0,100.0,100.0,100.0,100.0,100.0,100.0,100.0,100.0,100.0,100.0,100.0,100.0,100.0,100.0,100.0,100.0,100.0,100.0,100.0,100.0,100.0,100.0,100.0,100.0,100.0,100.0,100.0,100.0,100.0,100.0,100.0,100.0,100.0,100.0,100.0,100.0,100.0,100.0,100.0,100.0,100.0,100.0,100.0,100.0,100.0,100.0,100.0,100.0,100.0,100.0,100.0,100.0,100.0,100.0,100.0,100.0,100.0,100.0,100.0,100.0,100.0,100.0,100.0,100.0,100.0,100.0,100.0,100.0,100.0,100.0,100.0,100.0,100.0,100.0,100.0,100.0,100.0,100.0,100.0,100.0,100.0,100.0,100.0,100.0,100.0,100.0,100.0,100.0,100.0,100.0,100.0,100.0,100.0,100.0,100.0,100.0,100.0,100.0,100.0,100.0,100.0,100.0,100.0,100.0,100.0,100.0,100.0,100.0,100.0,100.0,100.0,100.0,100.0,100.0,100.0,100.0,100.0,100.0,100.0,100.0,100.0,100.0,100.0,100.0,100.0,100.0,100.0,100.00000010000001,100.00000039999999,100.0000004,99.9999998,100.0000003,75.0,75.0,75.0,75.0,75.0,75.0,75.0,75.0,75.0,75.0,75.0,75.0,75.0,75.0,75.0,75.0,75.0,75.0,75.0,75.0,75.0,75.0,75.0,75.0,75.0,75.0,75.0,75.0,75.0,75.0,75.0,75.0,75.0,75.0,75.0,75.0,75.0,75.0,75.0,75.0,75.0,75.0,75.0,75.0,75.0,75.0,75.0,75.0,75.0,75.0]\n",
              "},\n",
              "\"mapping\":{\n",
              "\"x\":\"b_risk\"\n",
              "},\n",
              "\"data_meta\":{\n",
              "\"series_annotations\":[{\n",
              "\"type\":\"float\",\n",
              "\"column\":\"b_risk\"\n",
              "},{\n",
              "\"type\":\"float\",\n",
              "\"column\":\"value\"\n",
              "},{\n",
              "\"type\":\"float\",\n",
              "\"column\":\"A\"\n",
              "},{\n",
              "\"type\":\"float\",\n",
              "\"column\":\"B\"\n",
              "},{\n",
              "\"type\":\"float\",\n",
              "\"column\":\"risk\"\n",
              "},{\n",
              "\"type\":\"float\",\n",
              "\"column\":\"investment\"\n",
              "}]\n",
              "},\n",
              "\"kind\":\"plot\",\n",
              "\"scales\":[],\n",
              "\"layers\":[{\n",
              "\"geom\":\"line\",\n",
              "\"mapping\":{\n",
              "\"y\":\"A\"\n",
              "},\n",
              "\"manual_key\":\"A\",\n",
              "\"data_meta\":{\n",
              "},\n",
              "\"color\":\"blue\",\n",
              "\"data\":{\n",
              "}\n",
              "},{\n",
              "\"geom\":\"line\",\n",
              "\"mapping\":{\n",
              "\"y\":\"B\"\n",
              "},\n",
              "\"manual_key\":\"B\",\n",
              "\"data_meta\":{\n",
              "},\n",
              "\"color\":\"green\",\n",
              "\"data\":{\n",
              "}\n",
              "},{\n",
              "\"geom\":\"line\",\n",
              "\"mapping\":{\n",
              "\"y\":\"investment\"\n",
              "},\n",
              "\"manual_key\":\"Total\",\n",
              "\"data_meta\":{\n",
              "},\n",
              "\"color\":\"black\",\n",
              "\"data\":{\n",
              "}\n",
              "}],\n",
              "\"metainfo_list\":[]\n",
              "};\n",
              "           var plotContainer = document.getElementById(\"0E632d\");\n",
              "           window.letsPlotCall(function() {{\n",
              "               LetsPlot.buildPlotFromProcessedSpecs(plotSpec, -1, -1, plotContainer);\n",
              "           }});\n",
              "       })();\n",
              "   </script>"
            ],
            "text/plain": [
              "<lets_plot.plot.core.PlotSpec at 0x70bc51ea6920>"
            ]
          },
          "execution_count": 48,
          "metadata": {},
          "output_type": "execute_result"
        }
      ],
      "source": [
        "from lets_plot import *\n",
        "import pandas as pd\n",
        "LetsPlot.setup_html()\n",
        "\n",
        "results['risk'] = (results['A'] * bonds['A']['risk'] + results['B'] * results['b_risk']) / 100\n",
        "results['investment'] = results['A'] + results['B']\n",
        "ggplot(results,aes(x='b_risk')) + \\\n",
        "geom_line(aes(y=\"A\"), color = \"blue\", manual_key=\"A\") + \\\n",
        "geom_line(aes(y=\"B\"), color = \"green\", manual_key=\"B\") + \\\n",
        "geom_line(aes(y=\"investment\"), color = \"black\", manual_key=\"Total\")"
      ]
    },
    {
      "cell_type": "code",
      "execution_count": 49,
      "metadata": {},
      "outputs": [
        {
          "data": {
            "text/html": [
              "   <div id=\"RUpjU2\"></div>\n",
              "   <script type=\"text/javascript\" data-lets-plot-script=\"plot\">\n",
              "       (function() {\n",
              "           var plotSpec={\n",
              "\"data\":{\n",
              "\"b_risk\":[0.0,0.01,0.02,0.03,0.04,0.05,0.06,0.07,0.08,0.09,0.1,0.11,0.12,0.13,0.14,0.15,0.16,0.17,0.18,0.19,0.2,0.21,0.22,0.23,0.24,0.25,0.26,0.27,0.28,0.29,0.3,0.31,0.32,0.33,0.34,0.35,0.36,0.37,0.38,0.39,0.4,0.41,0.42,0.43,0.44,0.45,0.46,0.47,0.48,0.49,0.5,0.51,0.52,0.53,0.54,0.55,0.56,0.57,0.58,0.59,0.6,0.61,0.62,0.63,0.64,0.65,0.66,0.67,0.68,0.69,0.7,0.71,0.72,0.73,0.74,0.75,0.76,0.77,0.78,0.79,0.8,0.81,0.82,0.83,0.84,0.85,0.86,0.87,0.88,0.89,0.9,0.91,0.92,0.93,0.94,0.95,0.96,0.97,0.98,0.99,1.0,1.01,1.02,1.03,1.04,1.05,1.06,1.07,1.08,1.09,1.1,1.11,1.12,1.13,1.14,1.15,1.16,1.17,1.18,1.19,1.2,1.21,1.22,1.23,1.24,1.25,1.26,1.27,1.28,1.29,1.3,1.31,1.32,1.33,1.34,1.35,1.36,1.37,1.38,1.39,1.4,1.41,1.42,1.43,1.44,1.45,1.46,1.47,1.48,1.49,1.5,1.51,1.52,1.53,1.54,1.55,1.56,1.57,1.58,1.59,1.6,1.61,1.62,1.63,1.64,1.65,1.66,1.67,1.68,1.69,1.7,1.71,1.72,1.73,1.74,1.75,1.76,1.77,1.78,1.79,1.8,1.81,1.82,1.83,1.84,1.85,1.86,1.87,1.88,1.89,1.9,1.91,1.92,1.93,1.94,1.95,1.96,1.97,1.98,1.99],\n",
              "\"value\":[3.75,3.7487437200000002,3.74747475,3.74619289,3.74489796,3.74358974,3.74226804,3.74093264,3.73958333,3.7382199000000003,3.7368421100000004,3.73544974,3.7340425500000003,3.7326203200000005,3.7311828,3.72972973,3.72826087,3.72677596,3.7252747299999998,3.7237569100000005,3.72222222,3.72067039,3.71910112,3.71751412,3.7159090900000002,3.7142857100000004,3.7126436800000002,3.71098266,3.70930233,3.7076023399999998,3.70588235,3.7041420100000004,3.70238095,3.7005988000000003,3.6987951800000003,3.6969696999999995,3.6951219500000003,3.6932515300000004,3.69135802,3.6894409899999996,3.6875,3.68553459,3.6835443,3.68152866,3.6794871799999997,3.67741935,3.67532468,3.67320261,3.6710526299999997,3.66887417,3.66666667,3.66442953,3.6621621600000003,3.65986395,3.65753425,3.6551724100000005,3.65277778,3.65034965,3.6478873199999997,3.6453900700000004,3.6428571400000003,3.6402877700000005,3.6376811599999996,3.6350365,3.6323529400000005,3.62962963,3.62686567,3.62406015,3.62121212,3.61832061,3.6153846200000004,3.6124031,3.609375,3.6062992100000004,3.6031746,3.5999999999999996,3.5967741899999996,3.59349593,3.59016393,3.5867768600000005,3.5833333300000003,3.57983193,3.57627119,3.5726495700000003,3.56896552,3.56521739,3.56140351,3.55752212,3.55357143,3.54954955,3.5454545499999996,3.5412844000000003,3.5370370400000004,3.53271028,3.52830189,3.5238095200000004,3.51923077,3.51456311,3.5098039200000004,3.5049504999999996,3.5,3.4949494899999998,3.4897959199999997,3.48453608,3.4791666699999997,3.47368421,3.4680851099999996,3.46236559,3.45652174,3.4505494499999996,3.44444444,3.43820225,3.4318181799999996,3.4252873599999996,3.41860465,3.41176471,3.4047618999999996,3.3975903599999997,3.3902438999999998,3.38271605,3.375,3.3670886099999997,3.35897436,3.3506493499999994,3.3421052600000003,3.3333333300000003,3.3243243199999997,3.31506849,3.30555556,3.29577465,3.2857142899999996,3.27536232,3.26470588,3.25373134,3.24242424,3.2307692300000004,3.21875,3.2063492099999995,3.19354839,3.18032787,3.1666666699999997,3.15254237,3.13793103,3.1228070199999998,3.1071428599999997,3.090909094,3.0740740859999995,3.056603786,3.038461532,3.0196078519999996,3.0,3.0,3.0,3.0,3.0,3.0,3.0,3.0,3.0,3.0,3.0,3.0,3.0,3.0,3.0,3.0,3.0,3.0,3.0,3.0,3.0,3.0,3.0,3.0,3.0,3.0,3.0,3.0,3.0,3.0,3.0,3.0,3.0,3.0,3.0,3.0,3.0,3.0,3.0,3.0,3.0,3.0,3.0,3.0,3.0,3.0,3.0,3.0,3.0,3.0],\n",
              "\"risk\":[1.5,1.5000000028,1.500000005,1.4999999933,1.5000000016,1.499999993,1.4999999976,1.4999999952000003,1.4999999936000001,1.500000009,1.500000009,1.5000000086,1.4999999940000002,1.4999999984,1.500000008,1.5000000004999998,1.5000000008,1.5000000068,1.5000000086,1.5000000071,1.499999996,1.4999999980999998,1.4999999936000001,1.4999999924,1.4999999983999999,1.4999999925,1.5000000032,1.5000000018,1.5000000076,1.5000000014,1.499999995,1.4999999969000002,1.499999996,1.4999999960000003,1.4999999988000001,1.500000005,1.499999998,1.4999999939,1.4999999924,1.4999999939,1.5,1.4999999981000003,1.4999999939999997,1.4999999962000001,1.5000000008,1.4999999925,1.5000000072,1.4999999933000001,1.4999999975999998,1.4999999967,1.500000005,1.4999999997,1.4999999968,1.5000000065,1.500000005,1.4999999945,1.5000000032,1.4999999995,1.4999999943999998,1.4999999987000001,1.499999996,1.5000000003000002,1.5000000008,1.500000005,1.4999999984,1.5000000005,1.4999999978,1.4999999995,1.4999999983999999,1.4999999991000001,1.5000000059999998,1.4999999990000001,1.5,1.4999999967,1.499999996,1.5,1.4999999955999999,1.4999999939,1.4999999946,1.5000000005999998,1.499999996,1.4999999967,1.5000000042,1.4999999969000002,1.5000000032,1.4999999984999999,1.5000000014,1.4999999955999999,1.5000000016000001,1.5000000004999998,1.500000005,1.499999996,1.5000000032,1.4999999996,1.5000000033999998,1.499999996,1.5000000008,1.5000000033,1.4999999983999999,1.500000005,1.5,1.4999999951,1.5000000016000001,1.4999999976,1.5000000032,1.4999999995000002,1.5000000034,1.4999999987000001,1.5000000008,1.4999999995000002,1.499999996,1.5000000025,1.4999999984,1.5000000032,1.4999999989999997,1.5000000034999998,1.499999996,1.4999999988000001,1.499999998,1.5000000004999998,1.5,1.5000000018999997,1.5000000008,1.4999999995,1.4999999975999998,1.4999999975000002,1.4999999967999997,1.4999999976999998,1.5000000032,1.5000000015000001,1.500000003,1.5000000008,1.4999999983999999,1.4999999978,1.4999999983999999,1.4999999995000002,1.5,1.5000000023000002,1.5000000017999997,1.5000000007,1.500000002,1.4999999982999999,1.4999999974,1.5000000014,1.5000000016,1.5000000015000001,1.5000000057999998,1.5000000061,1.4999999968,1.5000000044000001,1.5,1.5,1.5,1.5,1.5,1.5,1.5,1.5,1.5,1.5,1.5,1.5,1.5,1.5,1.5,1.5,1.5,1.5,1.5,1.5,1.5,1.5,1.5,1.5,1.5,1.5,1.5,1.5,1.5,1.5,1.5,1.5,1.5,1.5,1.5,1.5,1.5,1.5,1.5,1.5,1.5,1.5,1.5,1.5,1.5,1.5,1.5,1.5,1.5,1.5]\n",
              "},\n",
              "\"mapping\":{\n",
              "\"x\":\"b_risk\"\n",
              "},\n",
              "\"data_meta\":{\n",
              "\"series_annotations\":[{\n",
              "\"type\":\"float\",\n",
              "\"column\":\"b_risk\"\n",
              "},{\n",
              "\"type\":\"float\",\n",
              "\"column\":\"value\"\n",
              "},{\n",
              "\"type\":\"float\",\n",
              "\"column\":\"A\"\n",
              "},{\n",
              "\"type\":\"float\",\n",
              "\"column\":\"B\"\n",
              "},{\n",
              "\"type\":\"float\",\n",
              "\"column\":\"risk\"\n",
              "},{\n",
              "\"type\":\"float\",\n",
              "\"column\":\"investment\"\n",
              "}]\n",
              "},\n",
              "\"kind\":\"plot\",\n",
              "\"scales\":[],\n",
              "\"layers\":[{\n",
              "\"geom\":\"line\",\n",
              "\"mapping\":{\n",
              "\"y\":\"value\"\n",
              "},\n",
              "\"manual_key\":\"value\",\n",
              "\"data_meta\":{\n",
              "},\n",
              "\"color\":\"red\",\n",
              "\"data\":{\n",
              "}\n",
              "},{\n",
              "\"geom\":\"line\",\n",
              "\"mapping\":{\n",
              "\"y\":\"risk\"\n",
              "},\n",
              "\"manual_key\":\"risk score\",\n",
              "\"data_meta\":{\n",
              "},\n",
              "\"color\":\"orange\",\n",
              "\"data\":{\n",
              "}\n",
              "}],\n",
              "\"metainfo_list\":[]\n",
              "};\n",
              "           var plotContainer = document.getElementById(\"RUpjU2\");\n",
              "           window.letsPlotCall(function() {{\n",
              "               LetsPlot.buildPlotFromProcessedSpecs(plotSpec, -1, -1, plotContainer);\n",
              "           }});\n",
              "       })();\n",
              "   </script>"
            ],
            "text/plain": [
              "<lets_plot.plot.core.PlotSpec at 0x70bc51ea7250>"
            ]
          },
          "execution_count": 49,
          "metadata": {},
          "output_type": "execute_result"
        }
      ],
      "source": [
        "ggplot(pd.DataFrame(results),aes(x='b_risk')) + \\\n",
        "geom_line(aes(y=\"value\"), color = \"red\", manual_key=\"value\") + \\\n",
        "geom_line(aes(y=\"risk\"), color = \"orange\", manual_key=\"risk score\")"
      ]
    },
    {
      "cell_type": "markdown",
      "metadata": {
        "id": "LRRc3Eb3SJQo"
      },
      "source": [
        "## Example 3 - Tie Manufacturing\n",
        "Fifth Avenue Industries produces 4 types of ties\n",
        "* Production is subject to minimum and maximum output constraints\n",
        "* Production requires 3 different types of materials\n",
        "* Material storage capacity is limited\n",
        "* Decision problem: “How many ties of each type should the company produce?”\n",
        "  * Objective → Profit maximization\n",
        "\n",
        "### Material cost and availability\n",
        "\n",
        "Material | Cost per yard | Yards available\n",
        "---|---|---\n",
        "Silk|20|1000\n",
        "Polyester|6|2000\n",
        "Cotton|9|1250\n",
        "\n",
        "\n",
        "### Different tie production options\n",
        "\n",
        "Type | Price | Monthly Minimum | Monthly Maximum\n",
        "---|---|---|---\n",
        "Silk|5.95|6000|7000\n",
        "Polyester| 2.80|10000|14000\n",
        "Blend 1| 3.50|13000|16000\n",
        "Blend 2| 4.00|6000|8500\n",
        "\n",
        "### Material consumption per tie\n",
        "\n",
        "\n",
        "Material|Silk|Polyester|Blend 1|Blend 2\n",
        "---|---|---|---|---\n",
        "Silk|0.125|0|0|0\n",
        "Polyester|0|0.08|0.05|0.03\n",
        "Cotton|0|0|0.05|0.07\n"
      ]
    },
    {
      "cell_type": "markdown",
      "metadata": {
        "id": "R43rmUXHT8M2"
      },
      "source": [
        "This problem points us to a situation where setting up the problem as before can get easily difficult to handle. Therefore, we want to lists (to concisely address repetitive data structures) and list comprehensions (to automatically create constraints).\n",
        "\n",
        "First we replicate the input tables as dicts of dicts:"
      ]
    },
    {
      "cell_type": "code",
      "execution_count": 50,
      "metadata": {
        "id": "olt5BbU3ZxTl"
      },
      "outputs": [],
      "source": [
        "model = LpProblem('tie_production', LpMaximize)"
      ]
    },
    {
      "cell_type": "code",
      "execution_count": 51,
      "metadata": {
        "id": "MWm4DBLIV89o"
      },
      "outputs": [],
      "source": [
        "materials = {\"silk\" : {\"cost\" : 20, \"availability\" : 1000},\n",
        "             \"polyester\" : {\"cost\" : 6, \"availability\" : 2000},\n",
        "             \"cotton\" : {\"cost\" : 9, \"availability\" : 1250}}"
      ]
    },
    {
      "cell_type": "code",
      "execution_count": 52,
      "metadata": {
        "id": "gm4BZ4dgWk1D"
      },
      "outputs": [],
      "source": [
        "products = {\"Silk-Tie\" : {\"price\" : 5.95, \"prod-min\" : 6000, \"prod-max\" : 7000, \"silk\" : 0.125, \"polyester\" : 0, \"cotton\" : 0},\n",
        "        \"Polyester-Tie\" : {\"price\" : 2.80, \"prod-min\" : 10000, \"prod-max\" : 14000, \"silk\" : 0, \"polyester\" : 0.08, \"cotton\" : 0},\n",
        "        \"Blend-1-Tie\" : {\"price\" : 3.50, \"prod-min\" : 13000, \"prod-max\" : 16000, \"silk\" : 0, \"polyester\" : 0.05, \"cotton\" : 0.05},\n",
        "        \"Blend-2-Tie\" : {\"price\" : 4.00, \"prod-min\" : 6000, \"prod-max\" : 8500, \"silk\" : 0, \"polyester\" : 0.03, \"cotton\" : 0.07},\n",
        "          \"Blend-100-Tie\" : {\"price\" : 100.00, \"prod-min\" : 0, \"prod-max\" : 200, \"silk\" : 0.2, \"polyester\" : 0.01, \"cotton\" : 0.01}}"
      ]
    },
    {
      "cell_type": "code",
      "execution_count": 53,
      "metadata": {
        "colab": {
          "base_uri": "https://localhost:8080/"
        },
        "id": "7Ndk6EU6WjBq",
        "outputId": "e7a6d369-70f7-4cf9-c1e8-4538aa040f11"
      },
      "outputs": [
        {
          "name": "stdout",
          "output_type": "stream",
          "text": [
            "{'silk': {'cost': 20, 'availability': 1000}, 'polyester': {'cost': 6, 'availability': 2000}, 'cotton': {'cost': 9, 'availability': 1250}}\n",
            "{'Silk-Tie': {'price': 5.95, 'prod-min': 6000, 'prod-max': 7000, 'silk': 0.125, 'polyester': 0, 'cotton': 0}, 'Polyester-Tie': {'price': 2.8, 'prod-min': 10000, 'prod-max': 14000, 'silk': 0, 'polyester': 0.08, 'cotton': 0}, 'Blend-1-Tie': {'price': 3.5, 'prod-min': 13000, 'prod-max': 16000, 'silk': 0, 'polyester': 0.05, 'cotton': 0.05}, 'Blend-2-Tie': {'price': 4.0, 'prod-min': 6000, 'prod-max': 8500, 'silk': 0, 'polyester': 0.03, 'cotton': 0.07}, 'Blend-100-Tie': {'price': 100.0, 'prod-min': 0, 'prod-max': 200, 'silk': 0.2, 'polyester': 0.01, 'cotton': 0.01}}\n"
          ]
        }
      ],
      "source": [
        "print(materials)\n",
        "print(products)"
      ]
    },
    {
      "cell_type": "markdown",
      "metadata": {
        "id": "JmomkgyBXjke"
      },
      "source": [
        "Now this seems somewhat work-intesive in this demonstration setting. But note that this data would typically come from an operational system specifying the costs, warehouse levels, demand and margins.\n",
        "\n",
        "Note that coming from pandas dataframes you can easily retrieve dictionaries using `pd.DataFrame.to_dict`.\n",
        "\n",
        "We next want to create the decision variables. Note that we want to create one per entry in the ties dict. PuLP offers the `LpVariable.dicts` function this common scenario. The function creates a dictionary of decision variables by specifying a common prefix (first argument), a list of the future keys (second argument) plus the upper and lower bound. We choose \"amount\" to be our prefix and use the keys from our products dict. We do not specify the lower and upper bounds as they will depend on the product:"
      ]
    },
    {
      "cell_type": "code",
      "execution_count": 54,
      "metadata": {
        "colab": {
          "base_uri": "https://localhost:8080/"
        },
        "id": "f2MxzTBePbel",
        "outputId": "8de30006-2eac-4238-bfae-83cfe7253808"
      },
      "outputs": [
        {
          "data": {
            "text/plain": [
              "dict_keys(['Silk-Tie', 'Polyester-Tie', 'Blend-1-Tie', 'Blend-2-Tie', 'Blend-100-Tie'])"
            ]
          },
          "execution_count": 54,
          "metadata": {},
          "output_type": "execute_result"
        }
      ],
      "source": [
        "products.keys()"
      ]
    },
    {
      "cell_type": "code",
      "execution_count": 55,
      "metadata": {
        "id": "LfDQssvGXfPW"
      },
      "outputs": [],
      "source": [
        "amounts = LpVariable.dicts('amount', products.keys(), 0)"
      ]
    },
    {
      "cell_type": "code",
      "execution_count": 56,
      "metadata": {
        "colab": {
          "base_uri": "https://localhost:8080/"
        },
        "id": "KaSFD3FfPljp",
        "outputId": "de098699-eeb9-4d2d-cb40-1c944b0446be"
      },
      "outputs": [
        {
          "data": {
            "text/plain": [
              "{'Silk-Tie': amount_Silk_Tie,\n",
              " 'Polyester-Tie': amount_Polyester_Tie,\n",
              " 'Blend-1-Tie': amount_Blend_1_Tie,\n",
              " 'Blend-2-Tie': amount_Blend_2_Tie,\n",
              " 'Blend-100-Tie': amount_Blend_100_Tie}"
            ]
          },
          "execution_count": 56,
          "metadata": {},
          "output_type": "execute_result"
        }
      ],
      "source": [
        "amounts"
      ]
    },
    {
      "cell_type": "markdown",
      "metadata": {
        "id": "y3G6QzkyZsHR"
      },
      "source": [
        "We can now proceed setting up our optimization problem. Unlike before we want to first consider the constraints. There were two types:\n",
        "* production amounts need to fulfill min and max as specified in products\n",
        "* usage of any material must not exceeds its availability\n",
        "\n",
        "Let's first tackle the upper and lower bounds:\n",
        "\n"
      ]
    },
    {
      "cell_type": "code",
      "execution_count": 57,
      "metadata": {
        "colab": {
          "base_uri": "https://localhost:8080/"
        },
        "id": "J8e0vCWhTko7",
        "outputId": "e8e39c7f-96b5-4407-93d1-1bf925512daf"
      },
      "outputs": [
        {
          "name": "stdout",
          "output_type": "stream",
          "text": [
            "Silk-Tie\n",
            "Polyester-Tie\n",
            "Blend-1-Tie\n",
            "Blend-2-Tie\n",
            "Blend-100-Tie\n"
          ]
        }
      ],
      "source": [
        "for p in products: #iterate over dict returns keys\n",
        "  print(p)"
      ]
    },
    {
      "cell_type": "code",
      "execution_count": 58,
      "metadata": {
        "colab": {
          "base_uri": "https://localhost:8080/"
        },
        "id": "Wv-1VUsTb0r5",
        "outputId": "57b949d3-84e2-4e8e-8c12-72a2ccb3215a"
      },
      "outputs": [
        {
          "name": "stdout",
          "output_type": "stream",
          "text": [
            "tie_production:\n",
            "MAXIMIZE\n",
            "None\n",
            "SUBJECT TO\n",
            "minimum_production_of_Silk_Tie: amount_Silk_Tie >= 6000\n",
            "\n",
            "maximum_production_of_Silk_Tie: amount_Silk_Tie <= 7000\n",
            "\n",
            "minimum_production_of_Polyester_Tie: amount_Polyester_Tie >= 10000\n",
            "\n",
            "maximum_production_of_Polyester_Tie: amount_Polyester_Tie <= 14000\n",
            "\n",
            "minimum_production_of_Blend_1_Tie: amount_Blend_1_Tie >= 13000\n",
            "\n",
            "maximum_production_of_Blend_1_Tie: amount_Blend_1_Tie <= 16000\n",
            "\n",
            "minimum_production_of_Blend_2_Tie: amount_Blend_2_Tie >= 6000\n",
            "\n",
            "maximum_production_of_Blend_2_Tie: amount_Blend_2_Tie <= 8500\n",
            "\n",
            "minimum_production_of_Blend_100_Tie: amount_Blend_100_Tie >= 0\n",
            "\n",
            "maximum_production_of_Blend_100_Tie: amount_Blend_100_Tie <= 200\n",
            "\n",
            "VARIABLES\n",
            "amount_Blend_100_Tie Continuous\n",
            "amount_Blend_1_Tie Continuous\n",
            "amount_Blend_2_Tie Continuous\n",
            "amount_Polyester_Tie Continuous\n",
            "amount_Silk_Tie Continuous\n",
            "\n"
          ]
        }
      ],
      "source": [
        "for p in products: #iterate over all products\n",
        "  model += amounts[p] >= products[p][\"prod-min\"], f\"minimum production of {p}\"\n",
        "  model += amounts[p] <= products[p][\"prod-max\"], f\"maximum production of {p}\"\n",
        "\n",
        "print(model)"
      ]
    },
    {
      "cell_type": "markdown",
      "metadata": {
        "id": "FShjyUoEcWgY"
      },
      "source": [
        "Note how the lower part of the model still states that the the variables are unconstrained (free) as the min and max amounts are established via constraints. A more conscise way would have been modifying the `lowBound` and `upBound` properties of the production amount variables:"
      ]
    },
    {
      "cell_type": "code",
      "execution_count": 59,
      "metadata": {
        "id": "uwPZdYzSdCjI"
      },
      "outputs": [],
      "source": [
        "model = LpProblem('tie_production', LpMaximize) #reset the model\n",
        "\n",
        "for p in products: #iterate over all products\n",
        "  amounts[p].lowBound = products[p][\"prod-min\"]\n",
        "  amounts[p].upBound = products[p][\"prod-max\"]"
      ]
    },
    {
      "cell_type": "code",
      "execution_count": 60,
      "metadata": {
        "colab": {
          "base_uri": "https://localhost:8080/"
        },
        "id": "UkK49i9xUcas",
        "outputId": "82a844fb-19da-4771-9417-97a2f9e6138e"
      },
      "outputs": [
        {
          "name": "stdout",
          "output_type": "stream",
          "text": [
            "tie_production:\n",
            "MAXIMIZE\n",
            "None\n",
            "VARIABLES\n",
            "\n"
          ]
        }
      ],
      "source": [
        "print(model)"
      ]
    },
    {
      "cell_type": "markdown",
      "metadata": {
        "id": "4PjGOI5vdf3M"
      },
      "source": [
        "The second set of constraints refers to the production materials. Therefore we must iterate over all products and for each product determine the total production amount across the products. The automated evaluation of objects created and evaluated at runtime is done via `lpSum` objects which instantiates a linear combination over a list. Lets first print out these list which we create using list comprehensions:"
      ]
    },
    {
      "cell_type": "code",
      "execution_count": 61,
      "metadata": {
        "colab": {
          "base_uri": "https://localhost:8080/"
        },
        "id": "iVM-7zJyd7j3",
        "outputId": "7efd71f9-eb27-4ec0-afc4-6a1889dafe52"
      },
      "outputs": [
        {
          "name": "stdout",
          "output_type": "stream",
          "text": [
            "[0.125*amount_Silk_Tie + 0.0, 0, 0, 0, 0.2*amount_Blend_100_Tie + 0.0]\n",
            "[0, 0.08*amount_Polyester_Tie + 0.0, 0.05*amount_Blend_1_Tie + 0.0, 0.03*amount_Blend_2_Tie + 0.0, 0.01*amount_Blend_100_Tie + 0.0]\n",
            "[0, 0, 0.05*amount_Blend_1_Tie + 0.0, 0.07*amount_Blend_2_Tie + 0.0, 0.01*amount_Blend_100_Tie + 0.0]\n"
          ]
        }
      ],
      "source": [
        "for m in materials:\n",
        "  print(list(amounts[p] * products[p][m] for p in products))"
      ]
    },
    {
      "cell_type": "markdown",
      "metadata": {
        "id": "wib2bdp_edcR"
      },
      "source": [
        "This looks good - we can wrap the list comprehension output using `lpSum` to sum over them, include the right hand side and incorporate the constraints in our model:"
      ]
    },
    {
      "cell_type": "code",
      "execution_count": 62,
      "metadata": {
        "colab": {
          "base_uri": "https://localhost:8080/"
        },
        "id": "R4As-X8Necp2",
        "outputId": "15377c1a-b82c-48a3-d83c-bf2b0dbaf8cc"
      },
      "outputs": [
        {
          "name": "stdout",
          "output_type": "stream",
          "text": [
            "tie_production:\n",
            "MAXIMIZE\n",
            "None\n",
            "SUBJECT TO\n",
            "silk_availability: 0.2 amount_Blend_100_Tie + 0.125 amount_Silk_Tie <= 1000\n",
            "\n",
            "polyester_availability: 0.01 amount_Blend_100_Tie + 0.05 amount_Blend_1_Tie\n",
            " + 0.03 amount_Blend_2_Tie + 0.08 amount_Polyester_Tie <= 2000\n",
            "\n",
            "cotton_availability: 0.01 amount_Blend_100_Tie + 0.05 amount_Blend_1_Tie\n",
            " + 0.07 amount_Blend_2_Tie <= 1250\n",
            "\n",
            "VARIABLES\n",
            "amount_Blend_100_Tie <= 200 Continuous\n",
            "13000 <= amount_Blend_1_Tie <= 16000 Continuous\n",
            "6000 <= amount_Blend_2_Tie <= 8500 Continuous\n",
            "10000 <= amount_Polyester_Tie <= 14000 Continuous\n",
            "6000 <= amount_Silk_Tie <= 7000 Continuous\n",
            "\n"
          ]
        }
      ],
      "source": [
        "for m in materials:\n",
        "  model += lpSum(amounts[p] * products[p][m] for p in products) <= materials[m][\"availability\"], f\"{m} availability\"\n",
        "\n",
        "print(model)"
      ]
    },
    {
      "cell_type": "markdown",
      "metadata": {
        "id": "Doi2RDwza8sn"
      },
      "source": [
        "We can now wrap up by setting up the objective function which we want to iterate over all the ties and evaluate as produced amount * (sales price - material cost). Note that each instance of material cost necessitates an lpSum over all materials while the whole objective function is an lpSum over all products. We end up with a double sum which manifests as nested lpSum objects:"
      ]
    },
    {
      "cell_type": "code",
      "execution_count": 63,
      "metadata": {
        "id": "JGgsxMziZhyt"
      },
      "outputs": [],
      "source": [
        "model += lpSum((amounts[p] * (products[p][\"price\"] - lpSum(products[p][m] * materials[m][\"cost\"] for m in materials))) for p in products)"
      ]
    },
    {
      "cell_type": "code",
      "execution_count": 64,
      "metadata": {
        "colab": {
          "base_uri": "https://localhost:8080/"
        },
        "id": "-ZVT3WM9fvZP",
        "outputId": "1b85f7b8-04fd-47b3-ecb8-59d363323bdc"
      },
      "outputs": [
        {
          "name": "stdout",
          "output_type": "stream",
          "text": [
            "tie_production:\n",
            "MAXIMIZE\n",
            "95.85*amount_Blend_100_Tie + 2.75*amount_Blend_1_Tie + 3.19*amount_Blend_2_Tie + 2.32*amount_Polyester_Tie + 3.45*amount_Silk_Tie + 0.0\n",
            "SUBJECT TO\n",
            "silk_availability: 0.2 amount_Blend_100_Tie + 0.125 amount_Silk_Tie <= 1000\n",
            "\n",
            "polyester_availability: 0.01 amount_Blend_100_Tie + 0.05 amount_Blend_1_Tie\n",
            " + 0.03 amount_Blend_2_Tie + 0.08 amount_Polyester_Tie <= 2000\n",
            "\n",
            "cotton_availability: 0.01 amount_Blend_100_Tie + 0.05 amount_Blend_1_Tie\n",
            " + 0.07 amount_Blend_2_Tie <= 1250\n",
            "\n",
            "VARIABLES\n",
            "amount_Blend_100_Tie <= 200 Continuous\n",
            "13000 <= amount_Blend_1_Tie <= 16000 Continuous\n",
            "6000 <= amount_Blend_2_Tie <= 8500 Continuous\n",
            "10000 <= amount_Polyester_Tie <= 14000 Continuous\n",
            "6000 <= amount_Silk_Tie <= 7000 Continuous\n",
            "\n"
          ]
        }
      ],
      "source": [
        "print(model)"
      ]
    },
    {
      "cell_type": "code",
      "execution_count": 65,
      "metadata": {
        "colab": {
          "base_uri": "https://localhost:8080/"
        },
        "id": "slHSkhTafwT_",
        "outputId": "0b400e2d-2c25-4900-bae9-a20e7e926a02"
      },
      "outputs": [
        {
          "name": "stdout",
          "output_type": "stream",
          "text": [
            "Welcome to the CBC MILP Solver \n",
            "Version: 2.10.3 \n",
            "Build Date: Dec 15 2019 \n",
            "\n",
            "command line - /usr/local/python/3.10.13/lib/python3.10/site-packages/pulp/solverdir/cbc/linux/64/cbc /tmp/77ad241978d0481ab7693c3a2cfcdbe0-pulp.mps -max -timeMode elapsed -branch -printingOptions all -solution /tmp/77ad241978d0481ab7693c3a2cfcdbe0-pulp.sol (default strategy 1)\n",
            "At line 2 NAME          MODEL\n",
            "At line 3 ROWS\n",
            "At line 8 COLUMNS\n",
            "At line 23 RHS\n",
            "At line 27 BOUNDS\n",
            "At line 37 ENDATA\n",
            "Problem MODEL has 3 rows, 5 columns and 9 elements\n",
            "Coin0008I MODEL read with 0 errors\n",
            "Option for timeMode changed from cpu to elapsed\n",
            "Presolve 2 (-1) rows, 4 (-1) columns and 7 (-2) elements\n",
            "0  Obj 102240 Dual inf 680.31 (4)\n",
            "2  Obj 137960\n",
            "Optimal - objective value 137960\n",
            "After Postsolve, objective 137960, infeasibilities - dual 0 (0), primal 0 (0)\n",
            "Optimal objective 137960 - 2 iterations time 0.002, Presolve 0.00\n",
            "Option for printingOptions changed from normal to all\n",
            "Total time (CPU seconds):       0.00   (Wallclock seconds):       0.00\n",
            "\n"
          ]
        },
        {
          "data": {
            "text/plain": [
              "1"
            ]
          },
          "execution_count": 65,
          "metadata": {},
          "output_type": "execute_result"
        }
      ],
      "source": [
        "model.solve()"
      ]
    },
    {
      "cell_type": "markdown",
      "metadata": {
        "id": "kegDCttsgS4S"
      },
      "source": [
        "Having successful solved the problem we want to inspect the optimal production program and the optimal profit:"
      ]
    },
    {
      "cell_type": "code",
      "execution_count": 66,
      "metadata": {
        "colab": {
          "base_uri": "https://localhost:8080/"
        },
        "id": "otXa0vgvgDGp",
        "outputId": "21109bb4-0448-4f6d-8602-59913ede1a8c"
      },
      "outputs": [
        {
          "name": "stdout",
          "output_type": "stream",
          "text": [
            "Silk-Tie : 7000.0\n",
            "Polyester-Tie : 13625.0\n",
            "Blend-1-Tie : 13060.0\n",
            "Blend-2-Tie : 8500.0\n",
            "Blend-100-Tie : 200.0\n"
          ]
        }
      ],
      "source": [
        "for p in products:\n",
        "  print(p,\":\",amounts[p].varValue)"
      ]
    },
    {
      "cell_type": "code",
      "execution_count": 67,
      "metadata": {
        "colab": {
          "base_uri": "https://localhost:8080/"
        },
        "id": "uHK_i8GWgg21",
        "outputId": "2297b206-c9c7-4f56-e644-36f44f3bef12"
      },
      "outputs": [
        {
          "data": {
            "text/plain": [
              "137960.0"
            ]
          },
          "execution_count": 67,
          "metadata": {},
          "output_type": "execute_result"
        }
      ],
      "source": [
        "#print(\"Profit:\", model.objective)\n",
        "model.objective.value()"
      ]
    },
    {
      "cell_type": "markdown",
      "metadata": {
        "id": "WmjGTWQlqV91"
      },
      "source": [
        "It's instructive to inspect the usage of the resouces. To this end we print out the slack and the shadow prices of the constraints:"
      ]
    },
    {
      "cell_type": "code",
      "execution_count": 68,
      "metadata": {
        "colab": {
          "base_uri": "https://localhost:8080/"
        },
        "id": "vz0Mxea6qVVv",
        "outputId": "6998d081-d5b7-4046-ad26-0473501d793e"
      },
      "outputs": [
        {
          "name": "stdout",
          "output_type": "stream",
          "text": [
            "silk_availability Slack: 85.0 Shadow Price: -0.0\n",
            "polyester_availability Slack: -0.0 Shadow Price: 29.0\n",
            "cotton_availability Slack: -0.0 Shadow Price: 26.0\n"
          ]
        }
      ],
      "source": [
        "for con in model.constraints:\n",
        "  print(con, \"Slack:\", model.constraints[con].slack, \"Shadow Price:\", model.constraints[con].pi)"
      ]
    },
    {
      "cell_type": "markdown",
      "metadata": {
        "id": "ipMtnni6wrnc"
      },
      "source": [
        "## Example 4 - Marketing Mix\n",
        "\n",
        "Solve the following marketing mix problem using the dictionary modeling approach. What do you make of the solution?\n",
        "\n",
        "Win Big Gambling Club wants to optimize its marketing mix\n",
        "\\$8000 are available for advertisement\n",
        "* TV spots\n",
        "* Newspaper ad\n",
        "* Prime time radio spots (30 seconds at 8pm)\n",
        "* Shoulder time radio spots (1 min. in the afternoon)\n",
        "\n",
        "Decision problem:\n",
        "* How should the marketing mix be designed?\n",
        "* Objective → Maximize reach\n",
        "\n",
        "Requirements:\n",
        "* At least 5 radio spots\n",
        "* At most \\$1.800 for radio\n",
        "\n",
        "The problem information is provided in the following dictionaries which specify cost per spot, reach, and maximum availability:"
      ]
    },
    {
      "cell_type": "code",
      "execution_count": 69,
      "metadata": {
        "id": "a4cN2PkyHqCe"
      },
      "outputs": [],
      "source": [
        "options = {\"tv\": {\"reach\" : 5000, \"cost\" : 800, \"max\" : 12},\n",
        "           \"newspaper\" : {\"reach\" : 8500, \"cost\" : 925, \"max\" : 5},\n",
        "           \"radio-prime\": {\"reach\" : 2400, \"cost\" : 290, \"max\" : 25},\n",
        "           \"radio-shoulder\": {\"reach\" : 2800, \"cost\" : 380, \"max\" : 20}}"
      ]
    },
    {
      "cell_type": "code",
      "execution_count": 70,
      "metadata": {
        "id": "JPo_B-SZeG09"
      },
      "outputs": [],
      "source": [
        "numberofspots = LpVariable.dicts('number', options.keys(), 0)"
      ]
    },
    {
      "cell_type": "code",
      "execution_count": 71,
      "metadata": {},
      "outputs": [],
      "source": [
        "for i in numberofspots.keys():\n",
        "    numberofspots[i].upBound = options[i][\"max\"]"
      ]
    },
    {
      "cell_type": "code",
      "execution_count": 72,
      "metadata": {},
      "outputs": [
        {
          "data": {
            "text/plain": [
              "number_tv"
            ]
          },
          "execution_count": 72,
          "metadata": {},
          "output_type": "execute_result"
        }
      ],
      "source": [
        "numberofspots[\"tv\"]"
      ]
    },
    {
      "cell_type": "code",
      "execution_count": 73,
      "metadata": {},
      "outputs": [
        {
          "name": "stdout",
          "output_type": "stream",
          "text": [
            "marketing-mix:\n",
            "MAXIMIZE\n",
            "8500*number_newspaper + 2400*number_radio_prime + 2800*number_radio_shoulder + 5000*number_tv + 0\n",
            "SUBJECT TO\n",
            "radio_requirement: number_radio_prime + number_radio_shoulder >= 5\n",
            "\n",
            "radio_limit: 290 number_radio_prime + 380 number_radio_shoulder <= 1800\n",
            "\n",
            "VARIABLES\n",
            "number_newspaper <= 5 Continuous\n",
            "number_radio_prime <= 25 Continuous\n",
            "number_radio_shoulder <= 20 Continuous\n",
            "number_tv <= 12 Continuous\n",
            "\n"
          ]
        }
      ],
      "source": [
        "reachProblem = LpProblem(\"marketing-mix\", LpMaximize)\n",
        "reachProblem += lpSum([numberofspots[i]*options[i]['reach'] for i in options.keys()])\n",
        "reachProblem += numberofspots['radio-prime'] + numberofspots['radio-shoulder'] >= 5, \"radio requirement\"\n",
        "reachProblem += numberofspots['radio-prime'] * options['radio-prime']['cost'] + numberofspots['radio-shoulder']* options['radio-shoulder']['cost'] <= 1800, \"radio limit\"\n",
        "print(reachProblem)"
      ]
    },
    {
      "cell_type": "code",
      "execution_count": 74,
      "metadata": {},
      "outputs": [
        {
          "name": "stdout",
          "output_type": "stream",
          "text": [
            "Welcome to the CBC MILP Solver \n",
            "Version: 2.10.3 \n",
            "Build Date: Dec 15 2019 \n",
            "\n",
            "command line - /usr/local/python/3.10.13/lib/python3.10/site-packages/pulp/solverdir/cbc/linux/64/cbc /tmp/3d7fc129a2604befa39fb75f4a0a36dc-pulp.mps -max -timeMode elapsed -branch -printingOptions all -solution /tmp/3d7fc129a2604befa39fb75f4a0a36dc-pulp.sol (default strategy 1)\n",
            "At line 2 NAME          MODEL\n",
            "At line 3 ROWS\n",
            "At line 7 COLUMNS\n",
            "At line 16 RHS\n",
            "At line 19 BOUNDS\n",
            "At line 24 ENDATA\n",
            "Problem MODEL has 2 rows, 4 columns and 4 elements\n",
            "Coin0008I MODEL read with 0 errors\n",
            "Option for timeMode changed from cpu to elapsed\n",
            "Presolve 2 (0) rows, 2 (-2) columns and 4 (0) elements\n",
            "0  Obj 104692.51 Primal inf 4.0864517 (1) Dual inf 5200 (2)\n",
            "1  Obj 117396.55\n",
            "Optimal - objective value 117396.55\n",
            "After Postsolve, objective 117396.55, infeasibilities - dual 0 (0), primal 0 (0)\n",
            "Optimal objective 117396.5517 - 1 iterations time 0.002, Presolve 0.00\n",
            "Option for printingOptions changed from normal to all\n",
            "Total time (CPU seconds):       0.00   (Wallclock seconds):       0.00\n",
            "\n"
          ]
        },
        {
          "data": {
            "text/plain": [
              "1"
            ]
          },
          "execution_count": 74,
          "metadata": {},
          "output_type": "execute_result"
        }
      ],
      "source": [
        "reachProblem.solve()"
      ]
    },
    {
      "cell_type": "code",
      "execution_count": 75,
      "metadata": {},
      "outputs": [
        {
          "name": "stdout",
          "output_type": "stream",
          "text": [
            "tv 12.0\n",
            "newspaper 5.0\n",
            "radio-prime 6.2068966\n",
            "radio-shoulder 0.0\n"
          ]
        }
      ],
      "source": [
        "for i in numberofspots.keys():\n",
        "    print(i, numberofspots[i].varValue)"
      ]
    },
    {
      "cell_type": "markdown",
      "metadata": {},
      "source": [
        "## Example 5 (Complex Investment Problem)"
      ]
    },
    {
      "cell_type": "markdown",
      "metadata": {},
      "source": [
        "| Investment           | Interest Rate | Risk Score |\n",
        "|----------------------|---------------|------------|\n",
        "| Trade credits        | 7%            | 1.7        |\n",
        "| Corp. bonds          | 10%           | 1.2        |\n",
        "| Gold stocks          | 19%           | 3.7        |\n",
        "| Platinum stocks      | 12%           | 2.4        |\n",
        "| Mortgage securities  | 8%            | 2.0        |\n",
        "| Construction loans   | 14%           | 2.9        |\n",
        "\n",
        "* Up to $ 5 million can be invested\n",
        "* At most 25% per investment type\n",
        "* At least 30% in Gold and Platinum\n",
        "* At least 45% in trade credits and corporate bonds\n",
        "\n",
        "* Total risk must not exceed 2.0  - Total risk = Risk score of individual asset weighted by investment share\n"
      ]
    },
    {
      "cell_type": "code",
      "execution_count": 76,
      "metadata": {},
      "outputs": [
        {
          "name": "stdout",
          "output_type": "stream",
          "text": [
            "my-bond-problem:\n",
            "MAXIMIZE\n",
            "0.14*buy_Construction_Loans + 0.1*buy_Corp_Bonds + 0.19*buy_Gold_Stocks + 0.08*buy_Mortgage_Sec + 0.12*buy_Platinum_Stocks + 0.07*buy_Trade_Credits + 0.0\n",
            "SUBJECT TO\n",
            "risk: 2.9 buy_Construction_Loans + 1.2 buy_Corp_Bonds + 3.7 buy_Gold_Stocks\n",
            " + 2 buy_Mortgage_Sec + 2.4 buy_Platinum_Stocks + 1.7 buy_Trade_Credits\n",
            " <= 10000000\n",
            "\n",
            "budget: buy_Construction_Loans + buy_Corp_Bonds + buy_Gold_Stocks\n",
            " + buy_Mortgage_Sec + buy_Platinum_Stocks + buy_Trade_Credits <= 5000000\n",
            "\n",
            "valuable_metals: buy_Gold_Stocks + buy_Platinum_Stocks >= 1500000\n",
            "\n",
            "loans_and_credits: buy_Corp_Bonds + buy_Trade_Credits >= 2250000\n",
            "\n",
            "VARIABLES\n",
            "buy_Construction_Loans <= 1250000 Continuous\n",
            "buy_Corp_Bonds <= 1250000 Continuous\n",
            "buy_Gold_Stocks <= 1250000 Continuous\n",
            "buy_Mortgage_Sec <= 1250000 Continuous\n",
            "buy_Platinum_Stocks <= 1250000 Continuous\n",
            "buy_Trade_Credits <= 1250000 Continuous\n",
            "\n",
            "Welcome to the CBC MILP Solver \n",
            "Version: 2.10.3 \n",
            "Build Date: Dec 15 2019 \n",
            "\n",
            "command line - /usr/local/python/3.10.13/lib/python3.10/site-packages/pulp/solverdir/cbc/linux/64/cbc /tmp/37c710422184466f9e7bbdd2c4a74869-pulp.mps -max -timeMode elapsed -branch -printingOptions all -solution /tmp/37c710422184466f9e7bbdd2c4a74869-pulp.sol (default strategy 1)\n",
            "At line 2 NAME          MODEL\n",
            "At line 3 ROWS\n",
            "At line 9 COLUMNS\n",
            "At line 32 RHS\n",
            "At line 37 BOUNDS\n",
            "At line 44 ENDATA\n",
            "Problem MODEL has 4 rows, 6 columns and 16 elements\n",
            "Coin0008I MODEL read with 0 errors\n",
            "Option for timeMode changed from cpu to elapsed\n",
            "Presolve 4 (0) rows, 6 (0) columns and 16 (0) elements\n",
            "0  Obj -0 Primal inf 3750000 (2) Dual inf 0.6999994 (6)\n",
            "4  Obj 541250\n",
            "Optimal - objective value 541250\n",
            "Optimal objective 541250 - 4 iterations time 0.002\n",
            "Option for printingOptions changed from normal to all\n",
            "Total time (CPU seconds):       0.00   (Wallclock seconds):       0.00\n",
            "\n",
            "Gold Stocks 1250000.0\n",
            "Platinum Stocks 906250.0\n",
            "Mortgage Sec 0.0\n",
            "Trade Credits 1000000.0\n",
            "Construction Loans 0.0\n",
            "Corp Bonds 1250000.0\n",
            "Welcome to the CBC MILP Solver \n",
            "Version: 2.10.3 \n",
            "Build Date: Dec 15 2019 \n",
            "\n",
            "command line - /usr/local/python/3.10.13/lib/python3.10/site-packages/pulp/solverdir/cbc/linux/64/cbc /tmp/37c710422184466f9e7bbdd2c4a74869-pulp.mps -max -timeMode elapsed -branch -printingOptions all -solution /tmp/37c710422184466f9e7bbdd2c4a74869-pulp.sol (default strategy 1)\n",
            "At line 2 NAME          MODEL\n",
            "At line 3 ROWS\n",
            "At line 9 COLUMNS\n",
            "At line 32 RHS\n",
            "At line 37 BOUNDS\n",
            "At line 44 ENDATA\n",
            "Problem MODEL has 4 rows, 6 columns and 16 elements\n",
            "Coin0008I MODEL read with 0 errors\n",
            "Option for timeMode changed from cpu to elapsed\n",
            "Presolve 4 (0) rows, 6 (0) columns and 16 (0) elements\n",
            "0  Obj -0 Primal inf 3750000 (2) Dual inf 0.6999994 (6)\n",
            "4  Obj 541250\n",
            "Optimal - objective value 541250\n",
            "Optimal objective 541250 - 4 iterations time 0.002\n",
            "Option for printingOptions changed from normal to all\n",
            "Total time (CPU seconds):       0.00   (Wallclock seconds):       0.00\n",
            "\n",
            "Gold Stocks 1250000.0\n",
            "Platinum Stocks 906250.0\n",
            "Mortgage Sec 0.0\n",
            "Trade Credits 1000000.0\n",
            "Construction Loans 0.0\n",
            "Corp Bonds 1250000.0\n"
          ]
        }
      ],
      "source": [
        "bonds = {\"Gold Stocks\": {\"risk\": 3.7, \"yield\" : 0.19},\n",
        "         \"Platinum Stocks\": {\"risk\": 2.4, \"yield\" : 0.12},\n",
        "         \"Mortgage Sec\": {\"risk\": 2, \"yield\" : 0.08},\n",
        "         \"Trade Credits\": {\"risk\": 1.7, \"yield\" : 0.07},\n",
        "         \"Construction Loans\": {\"risk\": 2.9, \"yield\" : 0.14},\n",
        "         \"Corp Bonds\": {\"risk\": 1.2, \"yield\" : 0.1}}\n",
        "\n",
        "invest_model = LpProblem(\"my-bond-problem\", LpMaximize)\n",
        "\n",
        "budget = 5000000\n",
        "\n",
        "X = LpVariable.dict(\"buy\",bonds,0,budget/4)\n",
        "\n",
        "invest_model += lpSum([X[i] * bonds[i]['yield'] for i in bonds.keys()])\n",
        "\n",
        "invest_model += lpSum([X[i] * bonds[i]['risk']] for i in bonds.keys()) <= 2 * budget, \"risk\"\n",
        "invest_model += lpSum([X[i] for i in bonds.keys()]) <= budget, \"budget\"\n",
        "invest_model += X['Gold Stocks'] + X['Platinum Stocks'] >= budget * 0.3, \"valuable metals\"\n",
        "invest_model += X['Trade Credits'] + X['Corp Bonds'] >= budget * 0.45, \"loans and credits\"\n",
        "\n",
        "\n",
        "print(invest_model)\n",
        "\n",
        "invest_model.solve()\n",
        "\n",
        "for i in X.keys():\n",
        "    print(i, X[i].varValue)"
      ]
    },
    {
      "cell_type": "markdown",
      "metadata": {
        "id": "MZSfJ3u56qoA"
      },
      "source": [
        "## Example 6 (Bank Shift Planning)\n",
        "\n",
        "Hong Kong Bank of Commerce and Industry employs between 10 and 18 tellers depending on the time of day.\n",
        "* Opening hours 9AM – 5PM\n",
        "* Full time employees and additional temp workers\n",
        "\n",
        "Full time employees\n",
        "* Shift from 9 AM – 5 PM\n",
        "* 1 hour break (50% at 11, 50% at 12)\n",
        "* Daily costs $90\n",
        "* At most 12 in total\n",
        "\n",
        "Temporal workers\n",
        "* Work 4 subsequent hours\n",
        "* Begin at 9, 10, 11, 12 or 1\n",
        "* Daily cost $110\n",
        "* Must not cover more than 56 hours\n",
        "\n",
        "\n",
        "Decision Problem:\n",
        "* Which type and how many workers should start their shift at what time?\n",
        "* Objective → Minimize personnel costs\n",
        "\n",
        "Time Period | Min Num. Tellers\n",
        "---|---\n",
        "9to10 | 10\n",
        "10to11 | 12\n",
        "11to12 | 14\n",
        "12to1 | 16\n",
        "1to2 | 18\n",
        "2to3| 17\n",
        "3to4| 15\n",
        "4to5| 10\n",
        "\n"
      ]
    },
    {
      "cell_type": "markdown",
      "metadata": {
        "id": "dDdXUiH5D8jh"
      },
      "source": [
        "We initialize the data to indicate for each demand period what the demand is, whether or not it is fully covered by base workers and which temp shifts will cover it."
      ]
    },
    {
      "cell_type": "code",
      "execution_count": 77,
      "metadata": {
        "id": "ZVYMhe-F6sao"
      },
      "outputs": [],
      "source": [
        "demandPeriods = {\"9to10\":{\"demand\" : 10, \"fulltimeCover\": 1, \"coverKeys\" : [\"9to10\"]},\n",
        "                 \"10to11\":{\"demand\" : 12, \"fulltimeCover\": 1, \"coverKeys\" : [\"9to10\",\"10to11\"]},\n",
        "                 \"11to12\":{\"demand\" : 14, \"fulltimeCover\": 0.5, \"coverKeys\" : [\"9to10\",\"10to11\",\"11to12\"]},\n",
        "                 \"12to1\":{\"demand\" : 16, \"fulltimeCover\": 0.5, \"coverKeys\" : [\"9to10\",\"10to11\",\"11to12\", \"12to1\"]},\n",
        "                 \"1to2\":{\"demand\" : 18, \"fulltimeCover\": 1, \"coverKeys\" : [\"1to2\",\"10to11\",\"11to12\", \"12to1\"]},\n",
        "                 \"2to3\":{\"demand\" : 17, \"fulltimeCover\": 1, \"coverKeys\" : [\"1to2\",\"11to12\", \"12to1\"]},\n",
        "                 \"3to4\":{\"demand\" : 15, \"fulltimeCover\": 1, \"coverKeys\" : [\"1to2\", \"12to1\"]},\n",
        "                 \"4to5\":{\"demand\" : 10, \"fulltimeCover\": 1, \"coverKeys\" : [\"1to2\"]},\n",
        "                 }"
      ]
    },
    {
      "cell_type": "markdown",
      "metadata": {
        "id": "vv3-JqKJHkLo"
      },
      "source": [
        "Full time staff is single number which we can easily setup:"
      ]
    },
    {
      "cell_type": "code",
      "execution_count": 78,
      "metadata": {
        "id": "wCHDdXwe9m-L"
      },
      "outputs": [],
      "source": [
        "fullTime = LpVariable(\"fullTimeStaff\",0,12)"
      ]
    },
    {
      "cell_type": "markdown",
      "metadata": {
        "id": "pq31WRmWEl1o"
      },
      "source": [
        "Flex workers are created over the first five demand periods. Afterwards it is not sensible to call in worker as they wont have enough hours for the day."
      ]
    },
    {
      "cell_type": "code",
      "execution_count": 79,
      "metadata": {
        "colab": {
          "base_uri": "https://localhost:8080/"
        },
        "id": "gGLL4Xcsms3V",
        "outputId": "383162b8-5196-409b-c0a0-1412f53509f2"
      },
      "outputs": [
        {
          "data": {
            "text/plain": [
              "['9to10', '10to11', '11to12', '12to1', '1to2']"
            ]
          },
          "execution_count": 79,
          "metadata": {},
          "output_type": "execute_result"
        }
      ],
      "source": [
        "list(demandPeriods.keys())[:5]"
      ]
    },
    {
      "cell_type": "code",
      "execution_count": 80,
      "metadata": {
        "id": "VfgVqY9F9tgL"
      },
      "outputs": [],
      "source": [
        "flexWork = LpVariable.dicts(\"flex\",list(demandPeriods.keys())[:5],0,4)"
      ]
    },
    {
      "cell_type": "markdown",
      "metadata": {
        "id": "iasjorekEo4s"
      },
      "source": [
        "The final model checks the hourly balance for all time intervals, ensures the hour limit on temp work and minimizes hiring costs."
      ]
    },
    {
      "cell_type": "code",
      "execution_count": 81,
      "metadata": {
        "colab": {
          "base_uri": "https://localhost:8080/"
        },
        "id": "fWOdaApF-KcQ",
        "outputId": "2f9b0691-c977-4a36-b833-c1d8d21a56b5"
      },
      "outputs": [
        {
          "name": "stdout",
          "output_type": "stream",
          "text": [
            "bank_rostering:\n",
            "MINIMIZE\n",
            "50*flex_10to11 + 50*flex_11to12 + 50*flex_12to1 + 50*flex_1to2 + 50*flex_9to10 + 90*fullTimeStaff + 0\n",
            "SUBJECT TO\n",
            "coverage_at_9to10: flex_9to10 + fullTimeStaff >= 10\n",
            "\n",
            "coverage_at_10to11: flex_10to11 + flex_9to10 + fullTimeStaff >= 12\n",
            "\n",
            "coverage_at_11to12: flex_10to11 + flex_11to12 + flex_9to10 + 0.5 fullTimeStaff\n",
            " >= 14\n",
            "\n",
            "coverage_at_12to1: flex_10to11 + flex_11to12 + flex_12to1 + flex_9to10\n",
            " + 0.5 fullTimeStaff >= 16\n",
            "\n",
            "coverage_at_1to2: flex_10to11 + flex_11to12 + flex_12to1 + flex_1to2\n",
            " + fullTimeStaff >= 18\n",
            "\n",
            "coverage_at_2to3: flex_11to12 + flex_12to1 + flex_1to2 + fullTimeStaff >= 17\n",
            "\n",
            "coverage_at_3to4: flex_12to1 + flex_1to2 + fullTimeStaff >= 15\n",
            "\n",
            "coverage_at_4to5: flex_1to2 + fullTimeStaff >= 10\n",
            "\n",
            "_C1: 4 flex_10to11 + 4 flex_11to12 + 4 flex_12to1 + 4 flex_1to2 + 4 flex_9to10\n",
            " <= 56\n",
            "\n",
            "VARIABLES\n",
            "flex_10to11 <= 4 Continuous\n",
            "flex_11to12 <= 4 Continuous\n",
            "flex_12to1 <= 4 Continuous\n",
            "flex_1to2 <= 4 Continuous\n",
            "flex_9to10 <= 4 Continuous\n",
            "fullTimeStaff <= 12 Continuous\n",
            "\n",
            "Welcome to the CBC MILP Solver \n",
            "Version: 2.10.3 \n",
            "Build Date: Dec 15 2019 \n",
            "\n",
            "command line - /usr/local/python/3.10.13/lib/python3.10/site-packages/pulp/solverdir/cbc/linux/64/cbc /tmp/bba75bdee8374f758735b9b5a65dba06-pulp.mps -timeMode elapsed -branch -printingOptions all -solution /tmp/bba75bdee8374f758735b9b5a65dba06-pulp.sol (default strategy 1)\n",
            "At line 2 NAME          MODEL\n",
            "At line 3 ROWS\n",
            "At line 14 COLUMNS\n",
            "At line 54 RHS\n",
            "At line 64 BOUNDS\n",
            "At line 71 ENDATA\n",
            "Problem MODEL has 9 rows, 6 columns and 33 elements\n",
            "Coin0008I MODEL read with 0 errors\n",
            "Option for timeMode changed from cpu to elapsed\n",
            "Presolve 9 (0) rows, 6 (0) columns and 33 (0) elements\n",
            "0  Obj 0 Primal inf 112 (8)\n",
            "6  Obj 1600\n",
            "Optimal - objective value 1600\n",
            "Optimal objective 1600 - 6 iterations time 0.002\n",
            "Option for printingOptions changed from normal to all\n",
            "Total time (CPU seconds):       0.00   (Wallclock seconds):       0.00\n",
            "\n"
          ]
        },
        {
          "data": {
            "text/plain": [
              "1"
            ]
          },
          "execution_count": 81,
          "metadata": {},
          "output_type": "execute_result"
        }
      ],
      "source": [
        "model = LpProblem('bank_rostering', LpMinimize)\n",
        "\n",
        "for p in demandPeriods:\n",
        "  model += fullTime * demandPeriods[p][\"fulltimeCover\"] + lpSum(flexWork[x] * (x in demandPeriods[p][\"coverKeys\"]) for x in flexWork) >= demandPeriods[p][\"demand\"], f\"coverage at {p}\"\n",
        "\n",
        "model += lpSum(4*flexWork[x] for x in flexWork) <= 56\n",
        "\n",
        "model += 90 * fullTime + lpSum(50*flexWork[x] for x in flexWork)\n",
        "\n",
        "print(model)\n",
        "model.solve()"
      ]
    },
    {
      "cell_type": "code",
      "execution_count": 82,
      "metadata": {
        "colab": {
          "base_uri": "https://localhost:8080/"
        },
        "id": "ILGFI4NwAgZa",
        "outputId": "dc29494a-ba31-46d5-ca48-b4436fa012b8"
      },
      "outputs": [
        {
          "data": {
            "text/plain": [
              "1600.0"
            ]
          },
          "execution_count": 82,
          "metadata": {},
          "output_type": "execute_result"
        }
      ],
      "source": [
        "model.objective.value()"
      ]
    },
    {
      "cell_type": "code",
      "execution_count": 83,
      "metadata": {
        "colab": {
          "base_uri": "https://localhost:8080/"
        },
        "id": "OxWMVqEBBUT5",
        "outputId": "812709e0-6810-4136-f103-f6c2e2df8c91"
      },
      "outputs": [
        {
          "data": {
            "text/plain": [
              "10.0"
            ]
          },
          "execution_count": 83,
          "metadata": {},
          "output_type": "execute_result"
        }
      ],
      "source": [
        "fullTime.varValue"
      ]
    },
    {
      "cell_type": "code",
      "execution_count": 84,
      "metadata": {
        "colab": {
          "base_uri": "https://localhost:8080/"
        },
        "id": "NkV-gDVLBbLu",
        "outputId": "8636bd32-5e20-4b93-d3f9-89a87b69ce01"
      },
      "outputs": [
        {
          "name": "stdout",
          "output_type": "stream",
          "text": [
            "4.0\n",
            "1.0\n",
            "4.0\n",
            "2.0\n",
            "3.0\n"
          ]
        }
      ],
      "source": [
        "for f in flexWork:\n",
        "  print(flexWork[f].varValue)"
      ]
    }
  ],
  "metadata": {
    "colab": {
      "provenance": []
    },
    "kernelspec": {
      "display_name": "Python 3",
      "name": "python3"
    },
    "language_info": {
      "codemirror_mode": {
        "name": "ipython",
        "version": 3
      },
      "file_extension": ".py",
      "mimetype": "text/x-python",
      "name": "python",
      "nbconvert_exporter": "python",
      "pygments_lexer": "ipython3",
      "version": "3.10.13"
    }
  },
  "nbformat": 4,
  "nbformat_minor": 0
}
