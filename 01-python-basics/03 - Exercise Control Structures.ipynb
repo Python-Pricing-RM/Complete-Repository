{
 "cells": [
  {
   "cell_type": "markdown",
   "metadata": {},
   "source": [
    "## Control Structures\n",
    "1. Write a Python snippet `apply_discounts` that applies a 10% discount to each product in a dictionary of products (where keys are product names and values are prices) if the product price is above 30. Example:\n",
    "\n"
   ]
  },
  {
   "cell_type": "code",
   "execution_count": 18,
   "metadata": {},
   "outputs": [
    {
     "name": "stdout",
     "output_type": "stream",
     "text": [
      "{'Product A': 36.0, 'Product B': 25, 'Product C': 31.5}\n"
     ]
    },
    {
     "data": {
      "text/plain": [
       "{'Product C': 30, 'Product D': 25, 'Product E': 54.0}"
      ]
     },
     "execution_count": 18,
     "metadata": {},
     "output_type": "execute_result"
    }
   ],
   "source": [
    "my_products = {'Product A': 40, 'Product B': 25, 'Product C': 35}\n",
    "my_products2 = {'Product C': 30, 'Product D': 25, 'Product E': 60}\n",
    "\n",
    "\n",
    "def apply_discounts(products):\n",
    "    for p in products:\n",
    "        if products[p] > 30:\n",
    "            products[p] = products[p] * 0.9\n",
    "\n",
    "apply_discounts(my_products)\n",
    "apply_discounts(my_products2)\n",
    "\n",
    "print(my_products)\n",
    "my_products2"
   ]
  },
  {
   "cell_type": "markdown",
   "metadata": {},
   "source": [
    "2. Create a `while` loop to simulate a dynamic pricing model where prices are adjusted based on the difference between projected sales and actual sales until they converge. Increase the price by 1 if actual sales exceed projected sales, and decrease it by 1 if actual sales are less than projected sales. Stop the loop when the absolute difference between projected sales and actual sales is less than or equal to 5."
   ]
  },
  {
   "cell_type": "code",
   "execution_count": 19,
   "metadata": {},
   "outputs": [
    {
     "name": "stdout",
     "output_type": "stream",
     "text": [
      "new price 51 new sales 119\n",
      "new price 52 new sales 118\n",
      "new price 53 new sales 117\n",
      "new price 54 new sales 116\n",
      "new price 55 new sales 115\n",
      "new price 56 new sales 114\n",
      "new price 57 new sales 113\n",
      "new price 58 new sales 112\n",
      "new price 59 new sales 111\n",
      "new price 60 new sales 110\n",
      "new price 61 new sales 109\n",
      "new price 62 new sales 108\n",
      "new price 63 new sales 107\n",
      "new price 64 new sales 106\n",
      "new price 65 new sales 105\n"
     ]
    }
   ],
   "source": [
    "def demand(price):\n",
    "    return(170 - price)\n",
    "\n",
    "projected_sales = 100\n",
    "actual_sales = 120\n",
    "price = 50\n",
    "\n",
    "while projected_sales - actual_sales > 5 or actual_sales - projected_sales > 5:\n",
    "    if actual_sales - projected_sales > 5:\n",
    "        price = price + 1\n",
    "    else:\n",
    "        price = price - 1\n",
    "    actual_sales = demand(price)\n",
    "    print(\"new price \" + str(price) + \" new sales \" + str(actual_sales))"
   ]
  },
  {
   "cell_type": "markdown",
   "metadata": {},
   "source": [
    "3. Write a Python script that uses a `for` loop to iterate over a list of products and prints a message indicating whether each product is on sale based on its price."
   ]
  },
  {
   "cell_type": "code",
   "execution_count": 23,
   "metadata": {},
   "outputs": [
    {
     "name": "stdout",
     "output_type": "stream",
     "text": [
      "Product B is on sale!\n"
     ]
    }
   ],
   "source": [
    "products = [{'name': 'Product A', 'price': 30}, {'name': 'Product B', 'price': 20}]\n",
    "\n",
    "#assume price < 25 is on sale\n",
    "\n",
    "for p in products:\n",
    "    if p[\"price\"] < 25:\n",
    "        print(p[\"name\"] + \" is on sale!\")"
   ]
  },
  {
   "cell_type": "markdown",
   "metadata": {},
   "source": [
    "4. Use list comprehension to create a list of products that have a stock level above a certain threshold from a list of dictionaries representing products."
   ]
  },
  {
   "cell_type": "code",
   "execution_count": 24,
   "metadata": {},
   "outputs": [
    {
     "data": {
      "text/plain": [
       "[{'name': 'Product A', 'stock': 50}, {'name': 'Product B', 'stock': 20}]"
      ]
     },
     "execution_count": 24,
     "metadata": {},
     "output_type": "execute_result"
    }
   ],
   "source": [
    "products = [{'name': 'Product A', 'stock': 50}, {'name': 'Product B', 'stock': 20}]\n",
    "\n",
    "threshold = 20\n",
    "\n",
    "filtered_products = [product for product in products if product['stock'] >= threshold]\n",
    "filtered_products\n"
   ]
  },
  {
   "cell_type": "markdown",
   "metadata": {},
   "source": [
    "5. Write a Python snippet that uses nested loops to create a price and demand table (a 2D list) for different combinations of prices and demand values. Example:"
   ]
  },
  {
   "cell_type": "code",
   "execution_count": 11,
   "metadata": {},
   "outputs": [],
   "source": [
    "### it does not make sense from a domain perspective (the code is fine)\n",
    "\n",
    "prices = [10, 20, 30]\n",
    "demands = [100, 80, 60]\n",
    "\n",
    "price_demand_table = []\n",
    "\n",
    "for price in prices:\n",
    "    row = []\n",
    "    for demand in demands:\n",
    "        row.append((price, demand))\n",
    "    price_demand_table.append(row)"
   ]
  },
  {
   "cell_type": "code",
   "execution_count": 12,
   "metadata": {},
   "outputs": [
    {
     "data": {
      "text/plain": [
       "[[(10, 100), (10, 80), (10, 60)],\n",
       " [(20, 100), (20, 80), (20, 60)],\n",
       " [(30, 100), (30, 80), (30, 60)]]"
      ]
     },
     "execution_count": 12,
     "metadata": {},
     "output_type": "execute_result"
    }
   ],
   "source": [
    "price_demand_table"
   ]
  },
  {
   "cell_type": "code",
   "execution_count": 25,
   "metadata": {},
   "outputs": [
    {
     "name": "stdout",
     "output_type": "stream",
     "text": [
      "[(10, 100), (10, 80), (10, 60)]\n",
      "[(20, 100), (20, 80), (20, 60)]\n",
      "[(30, 100), (30, 80), (30, 60)]\n"
     ]
    }
   ],
   "source": [
    "Table = []\n",
    "for price in prices:\n",
    "    N = []\n",
    "    for demand in demands:\n",
    "        N.append((price,demand))\n",
    "    Table.append(N)\n",
    "for N in Table:\n",
    "    print(N)"
   ]
  },
  {
   "cell_type": "code",
   "execution_count": null,
   "metadata": {},
   "outputs": [],
   "source": []
  }
 ],
 "metadata": {
  "kernelspec": {
   "display_name": "Python 3",
   "language": "python",
   "name": "python3"
  },
  "language_info": {
   "codemirror_mode": {
    "name": "ipython",
    "version": 3
   },
   "file_extension": ".py",
   "mimetype": "text/x-python",
   "name": "python",
   "nbconvert_exporter": "python",
   "pygments_lexer": "ipython3",
   "version": "3.10.13"
  }
 },
 "nbformat": 4,
 "nbformat_minor": 2
}
